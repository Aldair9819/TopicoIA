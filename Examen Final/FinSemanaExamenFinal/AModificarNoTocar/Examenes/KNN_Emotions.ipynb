{
 "cells": [
  {
   "cell_type": "code",
   "execution_count": 33,
   "metadata": {},
   "outputs": [],
   "source": [
    "import pandas as pd\n",
    "import matplotlib.pyplot as plt\n",
    "from sklearn import metrics\n",
    "import numpy as np\n",
    "from sklearn.model_selection import train_test_split\n",
    "from sklearn.preprocessing import LabelEncoder\n",
    "import tensorflow as tf\n",
    "import subprocess\n",
    "from sklearn.neighbors import KNeighborsClassifier\n",
    "from sklearn.metrics import accuracy_score\n"
   ]
  },
  {
   "cell_type": "markdown",
   "metadata": {},
   "source": [
    "Usamos la GPU para hacer los modelos"
   ]
  },
  {
   "cell_type": "code",
   "execution_count": 34,
   "metadata": {},
   "outputs": [
    {
     "name": "stdout",
     "output_type": "stream",
     "text": [
      "Cantidad total de memoria VRAM en la GPU: 6.0 GB\n"
     ]
    }
   ],
   "source": [
    "def get_gpu_memory():\n",
    "    \"\"\"Returns the total memory of the GPU in MB\"\"\"\n",
    "    try:\n",
    "        result = subprocess.check_output(\n",
    "            [\"nvidia-smi\", \"--query-gpu=memory.total\", \"--format=csv,nounits,noheader\"], \n",
    "            encoding='utf-8')\n",
    "        return int(result.strip())\n",
    "    except Exception as e:\n",
    "        print(\"Error al obtener la información de la memoria de la GPU:\", e)\n",
    "        return None\n",
    "\n",
    "# Obtener la cantidad de memoria VRAM disponible en la GPU\n",
    "total_memory_mb = get_gpu_memory()\n",
    "if total_memory_mb is not None:\n",
    "    total_memory_gb = total_memory_mb / 1024\n",
    "    print(\"Cantidad total de memoria VRAM en la GPU:\", total_memory_gb, \"GB\")\n",
    "    \n",
    "    # Configurar TensorFlow para limitar el uso de memoria GPU\n",
    "    gpus = tf.config.experimental.list_physical_devices('GPU')\n",
    "    if gpus:\n",
    "        for gpu in gpus:\n",
    "            # Limitar la memoria GPU al máximo disponible\n",
    "            tf.config.experimental.set_memory_growth(gpu, True)\n",
    "else:\n",
    "    print(\"No se pudo obtener la información de la memoria de la GPU.\")"
   ]
  },
  {
   "cell_type": "markdown",
   "metadata": {},
   "source": [
    "Leemos el Dataset creado con anterioridad"
   ]
  },
  {
   "cell_type": "code",
   "execution_count": 35,
   "metadata": {},
   "outputs": [],
   "source": [
    "df = pd.read_hdf('BD_Emotios_240324.h5')"
   ]
  },
  {
   "cell_type": "markdown",
   "metadata": {},
   "source": [
    "Verificamos los datos contenidos"
   ]
  },
  {
   "cell_type": "code",
   "execution_count": 36,
   "metadata": {},
   "outputs": [
    {
     "data": {
      "text/html": [
       "<div>\n",
       "<style scoped>\n",
       "    .dataframe tbody tr th:only-of-type {\n",
       "        vertical-align: middle;\n",
       "    }\n",
       "\n",
       "    .dataframe tbody tr th {\n",
       "        vertical-align: top;\n",
       "    }\n",
       "\n",
       "    .dataframe thead th {\n",
       "        text-align: right;\n",
       "    }\n",
       "</style>\n",
       "<table border=\"1\" class=\"dataframe\">\n",
       "  <thead>\n",
       "    <tr style=\"text-align: right;\">\n",
       "      <th></th>\n",
       "      <th>Imagen</th>\n",
       "      <th>Caracteristicas</th>\n",
       "      <th>Rostro</th>\n",
       "      <th>Etiqueta</th>\n",
       "    </tr>\n",
       "  </thead>\n",
       "  <tbody>\n",
       "    <tr>\n",
       "      <th>0</th>\n",
       "      <td>[[[165, 166, 161], [165, 166, 161], [165, 166,...</td>\n",
       "      <td>[[[62, 83], [62, 88], [62, 93], [63, 97], [64,...</td>\n",
       "      <td>[[[160, 162, 161], [160, 162, 161], [160, 162,...</td>\n",
       "      <td>bored</td>\n",
       "    </tr>\n",
       "    <tr>\n",
       "      <th>1</th>\n",
       "      <td>[[[164, 166, 161], [165, 167, 162], [164, 166,...</td>\n",
       "      <td>[[[62, 83], [62, 87], [62, 92], [63, 96], [64,...</td>\n",
       "      <td>[[[160, 162, 160], [161, 162, 161], [160, 161,...</td>\n",
       "      <td>bored</td>\n",
       "    </tr>\n",
       "    <tr>\n",
       "      <th>2</th>\n",
       "      <td>[[[165, 165, 163], [165, 165, 163], [164, 165,...</td>\n",
       "      <td>[[[63, 82], [63, 87], [63, 91], [64, 96], [65,...</td>\n",
       "      <td>[[[159, 161, 158], [160, 162, 159], [161, 162,...</td>\n",
       "      <td>bored</td>\n",
       "    </tr>\n",
       "    <tr>\n",
       "      <th>3</th>\n",
       "      <td>[[[165, 166, 162], [165, 165, 164], [165, 165,...</td>\n",
       "      <td>[[[63, 83], [62, 87], [63, 92], [63, 97], [65,...</td>\n",
       "      <td>[[[159, 161, 158], [161, 163, 160], [155, 157,...</td>\n",
       "      <td>bored</td>\n",
       "    </tr>\n",
       "    <tr>\n",
       "      <th>4</th>\n",
       "      <td>[[[165, 166, 161], [166, 167, 162], [165, 167,...</td>\n",
       "      <td>[[[63, 83], [63, 87], [63, 92], [63, 96], [64,...</td>\n",
       "      <td>[[[160, 162, 160], [161, 163, 161], [152, 154,...</td>\n",
       "      <td>bored</td>\n",
       "    </tr>\n",
       "  </tbody>\n",
       "</table>\n",
       "</div>"
      ],
      "text/plain": [
       "                                              Imagen  \\\n",
       "0  [[[165, 166, 161], [165, 166, 161], [165, 166,...   \n",
       "1  [[[164, 166, 161], [165, 167, 162], [164, 166,...   \n",
       "2  [[[165, 165, 163], [165, 165, 163], [164, 165,...   \n",
       "3  [[[165, 166, 162], [165, 165, 164], [165, 165,...   \n",
       "4  [[[165, 166, 161], [166, 167, 162], [165, 167,...   \n",
       "\n",
       "                                     Caracteristicas  \\\n",
       "0  [[[62, 83], [62, 88], [62, 93], [63, 97], [64,...   \n",
       "1  [[[62, 83], [62, 87], [62, 92], [63, 96], [64,...   \n",
       "2  [[[63, 82], [63, 87], [63, 91], [64, 96], [65,...   \n",
       "3  [[[63, 83], [62, 87], [63, 92], [63, 97], [65,...   \n",
       "4  [[[63, 83], [63, 87], [63, 92], [63, 96], [64,...   \n",
       "\n",
       "                                              Rostro Etiqueta  \n",
       "0  [[[160, 162, 161], [160, 162, 161], [160, 162,...    bored  \n",
       "1  [[[160, 162, 160], [161, 162, 161], [160, 161,...    bored  \n",
       "2  [[[159, 161, 158], [160, 162, 159], [161, 162,...    bored  \n",
       "3  [[[159, 161, 158], [161, 163, 160], [155, 157,...    bored  \n",
       "4  [[[160, 162, 160], [161, 163, 161], [152, 154,...    bored  "
      ]
     },
     "execution_count": 36,
     "metadata": {},
     "output_type": "execute_result"
    }
   ],
   "source": [
    "df.head()"
   ]
  },
  {
   "cell_type": "markdown",
   "metadata": {},
   "source": [
    "Checamos la estructura de la mayoría de datos"
   ]
  },
  {
   "cell_type": "code",
   "execution_count": 37,
   "metadata": {},
   "outputs": [
    {
     "name": "stdout",
     "output_type": "stream",
     "text": [
      "(1, 72, 2)\n",
      "(1, 72, 2)\n",
      "(1, 72, 2)\n",
      "(1, 72, 2)\n",
      "(1, 72, 2)\n"
     ]
    }
   ],
   "source": [
    "print(df['Caracteristicas'][0].shape)\n",
    "print(df['Caracteristicas'][1].shape)\n",
    "print(df['Caracteristicas'][2].shape)\n",
    "print(df['Caracteristicas'][3].shape)\n",
    "print(df['Caracteristicas'][4].shape)"
   ]
  },
  {
   "cell_type": "markdown",
   "metadata": {},
   "source": [
    "Eliminamos cualquier valor que no siga esa estructura. Lo más seguro es que ya no lo cumpla por la forma de haber creado el Dataset, pero uno nunca sabe"
   ]
  },
  {
   "cell_type": "code",
   "execution_count": 38,
   "metadata": {},
   "outputs": [
    {
     "name": "stdout",
     "output_type": "stream",
     "text": [
      "(5035, 1, 72, 2)\n"
     ]
    }
   ],
   "source": [
    "# Crear una nueva columna para almacenar solo los registros que cumplan con la forma deseada\n",
    "df['Caracteristicas_Validas'] = df['Caracteristicas'].apply(lambda x: x if np.array(x).shape == (1, 72, 2) else None)\n",
    "\n",
    "# Eliminar los registros que no cumplen con la forma deseada\n",
    "df = df.dropna(subset=['Caracteristicas_Validas'])\n",
    "\n",
    "# Convertir la columna 'Hitos faciales válidos' en un array NumPy\n",
    "caracteristicas_valores = np.array(df['Caracteristicas_Validas'].tolist())\n",
    "\n",
    "# Verificar la forma de X\n",
    "print(caracteristicas_valores.shape)"
   ]
  },
  {
   "cell_type": "markdown",
   "metadata": {},
   "source": [
    "KNN solo acepta datos en un arreglo, así que le hacemos flatten a cada elemento"
   ]
  },
  {
   "cell_type": "code",
   "execution_count": 39,
   "metadata": {},
   "outputs": [
    {
     "name": "stdout",
     "output_type": "stream",
     "text": [
      "(5035, 144)\n"
     ]
    }
   ],
   "source": [
    "caracteristicas_valores = np.array([marcas.flatten() for marcas in caracteristicas_valores])\n",
    "print(caracteristicas_valores.shape)"
   ]
  },
  {
   "cell_type": "markdown",
   "metadata": {},
   "source": [
    "Los transformamos las Y a etiquetas del 0 al 5 para cada categoria"
   ]
  },
  {
   "cell_type": "code",
   "execution_count": 40,
   "metadata": {},
   "outputs": [],
   "source": [
    "label_encoder = LabelEncoder()\n",
    "y = label_encoder.fit_transform(df['Etiqueta'])"
   ]
  },
  {
   "cell_type": "markdown",
   "metadata": {},
   "source": [
    "Verificamos que las etiquetas transformadas equivalgan a las clases originales"
   ]
  },
  {
   "cell_type": "code",
   "execution_count": 41,
   "metadata": {},
   "outputs": [
    {
     "name": "stdout",
     "output_type": "stream",
     "text": [
      "Clases originales: ['bored' 'engaged' 'excited' 'focused' 'interested' 'relaxed']\n",
      "Clases codificadas: ['bored' 'engaged' 'excited' 'focused' 'interested' 'relaxed']\n"
     ]
    }
   ],
   "source": [
    "print(\"Clases originales:\", df['Etiqueta'].unique())\n",
    "print(\"Clases codificadas:\", label_encoder.classes_)"
   ]
  },
  {
   "cell_type": "markdown",
   "metadata": {},
   "source": [
    "Hacemos 70% de las muestras en entrenamiento y las 30 en pruebas."
   ]
  },
  {
   "cell_type": "code",
   "execution_count": 42,
   "metadata": {},
   "outputs": [],
   "source": [
    "X_train, X_test, y_train, y_test = train_test_split(caracteristicas_valores, y, test_size=0.3, random_state=42)"
   ]
  },
  {
   "cell_type": "markdown",
   "metadata": {},
   "source": [
    "Verificamos mediante una gráfica la cantidad de vecinos optima"
   ]
  },
  {
   "cell_type": "code",
   "execution_count": 43,
   "metadata": {},
   "outputs": [
    {
     "data": {
      "image/png": "[encoded data removed]",
      "text/plain": [
       "<Figure size 640x480 with 1 Axes>"
      ]
     },
     "metadata": {},
     "output_type": "display_data"
    }
   ],
   "source": [
    "# experimenting with different n values\n",
    "k_range = list(range(1,26))\n",
    "scores = []\n",
    "for k in k_range:\n",
    "    knn = KNeighborsClassifier(n_neighbors=k)\n",
    "    knn.fit(X_train, y_train)\n",
    "    y_pred = knn.predict(X_test)\n",
    "    scores.append(metrics.accuracy_score(y_test, y_pred))\n",
    "\n",
    "plt.plot(k_range, scores)\n",
    "plt.xlabel('Value of k for KNN')\n",
    "plt.ylabel('Accuracy Score')\n",
    "plt.title('Accuracy Scores for Values of k of k-Nearest-Neighbors')\n",
    "plt.show()"
   ]
  },
  {
   "cell_type": "markdown",
   "metadata": {},
   "source": [
    "Entrenamos el modelo con un numero de vecinos y con los datos de entrenamiento"
   ]
  },
  {
   "cell_type": "code",
   "execution_count": 44,
   "metadata": {},
   "outputs": [
    {
     "name": "stdout",
     "output_type": "stream",
     "text": [
      "Entrenamiento completado.\n"
     ]
    }
   ],
   "source": [
    "knn_clf = KNeighborsClassifier(n_neighbors=7)\n",
    "knn_clf.fit(X_train, y_train)\n",
    "print(\"Entrenamiento completado.\")"
   ]
  },
  {
   "cell_type": "markdown",
   "metadata": {},
   "source": [
    "Hacemos una predicción y que tanta exactitud tiene el modelo"
   ]
  },
  {
   "cell_type": "code",
   "execution_count": 45,
   "metadata": {},
   "outputs": [
    {
     "name": "stdout",
     "output_type": "stream",
     "text": [
      "Precisión del modelo: 0.7041694242223693\n"
     ]
    }
   ],
   "source": [
    "# Realizar predicciones en el conjunto de prueba\n",
    "y_pred = knn_clf.predict(X_test)\n",
    "\n",
    "# Calcular la precisión del modelo\n",
    "accuracy = accuracy_score(y_test, y_pred)\n",
    "print(\"Precisión del modelo:\", accuracy)"
   ]
  },
  {
   "cell_type": "markdown",
   "metadata": {},
   "source": [
    "Guardamos el modelo"
   ]
  },
  {
   "cell_type": "code",
   "execution_count": 46,
   "metadata": {},
   "outputs": [
    {
     "data": {
      "text/plain": [
       "['modelo_knn.pkl']"
      ]
     },
     "execution_count": 46,
     "metadata": {},
     "output_type": "execute_result"
    }
   ],
   "source": [
    "import joblib\n",
    "# Guardar el modelo\n",
    "joblib.dump(knn_clf, 'modelo_knn.pkl')"
   ]
  },
  {
   "cell_type": "markdown",
   "metadata": {},
   "source": [
    "Cargamos el modelo"
   ]
  },
  {
   "cell_type": "code",
   "execution_count": 47,
   "metadata": {},
   "outputs": [],
   "source": [
    "# Cargar el modelo\n",
    "knn_loaded = joblib.load('modelo_knn.pkl')\n",
    "\n"
   ]
  },
  {
   "cell_type": "markdown",
   "metadata": {},
   "source": [
    "Usamos el modelo para verificar que sigue funcionando"
   ]
  },
  {
   "cell_type": "code",
   "execution_count": 48,
   "metadata": {},
   "outputs": [
    {
     "name": "stdout",
     "output_type": "stream",
     "text": [
      "Accuracy del modelo KNN: 0.7041694242223693\n"
     ]
    }
   ],
   "source": [
    "# Utilizar el modelo cargado para hacer predicciones\n",
    "predicciones = knn_loaded.predict(X_test)\n",
    "\n",
    "# Calcular la precisión\n",
    "accuracy = accuracy_score(y_test, predicciones)\n",
    "print(\"Accuracy del modelo KNN:\", accuracy)"
   ]
  }
 ],
 "metadata": {
  "kernelspec": {
   "display_name": "tf",
   "language": "python",
   "name": "python3"
  },
  "language_info": {
   "codemirror_mode": {
    "name": "ipython",
    "version": 3
   },
   "file_extension": ".py",
   "mimetype": "text/x-python",
   "name": "python",
   "nbconvert_exporter": "python",
   "pygments_lexer": "ipython3",
   "version": "3.9.18"
  }
 },
 "nbformat": 4,
 "nbformat_minor": 2
}
