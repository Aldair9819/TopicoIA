{
 "cells": [
  {
   "cell_type": "code",
   "execution_count": 10,
   "metadata": {},
   "outputs": [],
   "source": [
    "import os\n",
    "import pandas as pd\n",
    "import face_recognition\n",
    "from PIL import Image\n",
    "import matplotlib.pyplot as plt\n",
    "import random\n",
    "import numpy as np\n",
    "\n",
    "\n"
   ]
  },
  {
   "cell_type": "code",
   "execution_count": 11,
   "metadata": {},
   "outputs": [],
   "source": [
    "# Definir la ruta de la carpeta que contiene las imágenes\n",
    "ruta_carpeta = 'C:\\\\Users\\\\Waldosir\\\\Documents\\\\2doCodigo\\\\TopicoIA\\\\Marzo\\\\BD\\\\corpus_images'\n",
    "\n",
    "# Crear una lista para almacenar los datos de las imágenes\n",
    "datos_imagenes = []\n",
    "\n"
   ]
  },
  {
   "cell_type": "code",
   "execution_count": 12,
   "metadata": {},
   "outputs": [],
   "source": [
    "# Recorrer la carpeta para buscar archivos jpg\n",
    "for carpeta_nombre in os.listdir(ruta_carpeta):\n",
    "    carpeta_ruta = os.path.join(ruta_carpeta, carpeta_nombre)\n",
    "    if os.path.isdir(carpeta_ruta):\n",
    "        for archivo_nombre in os.listdir(carpeta_ruta):\n",
    "            if archivo_nombre.endswith('.jpeg'):\n",
    "                archivo_ruta = os.path.join(carpeta_ruta, archivo_nombre)\n",
    "                \n",
    "                # Cargar la imagen utilizando PIL (Pillow)\n",
    "                imagen = face_recognition.load_image_file(archivo_ruta)\n",
    "                \n",
    "                # Redimensionar la imagen a 150x150\n",
    "                imagen_redimensionada = np.array(Image.fromarray(imagen).resize((150, 150)))\n",
    "                \n",
    "                # Detectar los rostros en la imagen\n",
    "                rostros = face_recognition.face_locations(imagen)\n",
    "                \n",
    "                # Obtener los landmarks faciales\n",
    "                landmarks = face_recognition.face_landmarks(imagen)\n",
    "                \n",
    "                # Agregar la información de la imagen al DataFrame\n",
    "                for rostro, landmark in zip(rostros, landmarks):\n",
    "                    datos_imagenes.append([imagen_redimensionada, carpeta_nombre, rostro, landmark])\n",
    "\n"
   ]
  },
  {
   "cell_type": "code",
   "execution_count": 13,
   "metadata": {},
   "outputs": [],
   "source": [
    "# Crear un DataFrame con los datos de las imágenes\n",
    "columnas = ['Imagen', 'Etiqueta', 'Rostro', 'Landmarks']\n",
    "df_imagenes = pd.DataFrame(datos_imagenes, columns=columnas)"
   ]
  },
  {
   "cell_type": "code",
   "execution_count": 14,
   "metadata": {},
   "outputs": [
    {
     "data": {
      "text/html": [
       "<div>\n",
       "<style scoped>\n",
       "    .dataframe tbody tr th:only-of-type {\n",
       "        vertical-align: middle;\n",
       "    }\n",
       "\n",
       "    .dataframe tbody tr th {\n",
       "        vertical-align: top;\n",
       "    }\n",
       "\n",
       "    .dataframe thead th {\n",
       "        text-align: right;\n",
       "    }\n",
       "</style>\n",
       "<table border=\"1\" class=\"dataframe\">\n",
       "  <thead>\n",
       "    <tr style=\"text-align: right;\">\n",
       "      <th></th>\n",
       "      <th>Imagen</th>\n",
       "      <th>Etiqueta</th>\n",
       "      <th>Rostro</th>\n",
       "      <th>Landmarks</th>\n",
       "    </tr>\n",
       "  </thead>\n",
       "  <tbody>\n",
       "    <tr>\n",
       "      <th>0</th>\n",
       "      <td>[[[165, 165, 162], [165, 166, 161], [165, 166,...</td>\n",
       "      <td>bored</td>\n",
       "      <td>(202, 408, 356, 253)</td>\n",
       "      <td>{'chin': [(268, 262), (268, 279), (270, 295), ...</td>\n",
       "    </tr>\n",
       "    <tr>\n",
       "      <th>1</th>\n",
       "      <td>[[[164, 166, 161], [165, 167, 162], [164, 166,...</td>\n",
       "      <td>bored</td>\n",
       "      <td>(202, 408, 356, 253)</td>\n",
       "      <td>{'chin': [(269, 263), (269, 279), (270, 296), ...</td>\n",
       "    </tr>\n",
       "    <tr>\n",
       "      <th>2</th>\n",
       "      <td>[[[165, 165, 163], [165, 165, 163], [164, 165,...</td>\n",
       "      <td>bored</td>\n",
       "      <td>(202, 408, 356, 253)</td>\n",
       "      <td>{'chin': [(272, 263), (272, 279), (273, 295), ...</td>\n",
       "    </tr>\n",
       "    <tr>\n",
       "      <th>3</th>\n",
       "      <td>[[[165, 166, 162], [165, 165, 163], [165, 165,...</td>\n",
       "      <td>bored</td>\n",
       "      <td>(202, 408, 356, 253)</td>\n",
       "      <td>{'chin': [(271, 263), (271, 279), (273, 295), ...</td>\n",
       "    </tr>\n",
       "    <tr>\n",
       "      <th>4</th>\n",
       "      <td>[[[165, 166, 161], [166, 167, 162], [165, 167,...</td>\n",
       "      <td>bored</td>\n",
       "      <td>(202, 408, 356, 253)</td>\n",
       "      <td>{'chin': [(271, 265), (271, 280), (273, 296), ...</td>\n",
       "    </tr>\n",
       "  </tbody>\n",
       "</table>\n",
       "</div>"
      ],
      "text/plain": [
       "                                              Imagen Etiqueta  \\\n",
       "0  [[[165, 165, 162], [165, 166, 161], [165, 166,...    bored   \n",
       "1  [[[164, 166, 161], [165, 167, 162], [164, 166,...    bored   \n",
       "2  [[[165, 165, 163], [165, 165, 163], [164, 165,...    bored   \n",
       "3  [[[165, 166, 162], [165, 165, 163], [165, 165,...    bored   \n",
       "4  [[[165, 166, 161], [166, 167, 162], [165, 167,...    bored   \n",
       "\n",
       "                 Rostro                                          Landmarks  \n",
       "0  (202, 408, 356, 253)  {'chin': [(268, 262), (268, 279), (270, 295), ...  \n",
       "1  (202, 408, 356, 253)  {'chin': [(269, 263), (269, 279), (270, 296), ...  \n",
       "2  (202, 408, 356, 253)  {'chin': [(272, 263), (272, 279), (273, 295), ...  \n",
       "3  (202, 408, 356, 253)  {'chin': [(271, 263), (271, 279), (273, 295), ...  \n",
       "4  (202, 408, 356, 253)  {'chin': [(271, 265), (271, 280), (273, 296), ...  "
      ]
     },
     "execution_count": 14,
     "metadata": {},
     "output_type": "execute_result"
    }
   ],
   "source": [
    "df_imagenes.head()"
   ]
  },
  {
   "cell_type": "code",
   "execution_count": null,
   "metadata": {},
   "outputs": [],
   "source": [
    "df_imagenes.to_csv('datos.csv', index=False)"
   ]
  }
 ],
 "metadata": {
  "kernelspec": {
   "display_name": "Python 3",
   "language": "python",
   "name": "python3"
  },
  "language_info": {
   "codemirror_mode": {
    "name": "ipython",
    "version": 3
   },
   "file_extension": ".py",
   "mimetype": "text/x-python",
   "name": "python",
   "nbconvert_exporter": "python",
   "pygments_lexer": "ipython3",
   "version": "3.9.13"
  }
 },
 "nbformat": 4,
 "nbformat_minor": 2
}
