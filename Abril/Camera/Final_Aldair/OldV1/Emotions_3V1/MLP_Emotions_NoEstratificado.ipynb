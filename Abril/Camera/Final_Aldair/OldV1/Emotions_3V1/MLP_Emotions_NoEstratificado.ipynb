{
 "cells": [
  {
   "cell_type": "markdown",
   "metadata": {},
   "source": [
    "Importamos Librerias"
   ]
  },
  {
   "cell_type": "code",
   "execution_count": 2,
   "metadata": {},
   "outputs": [],
   "source": [
    "import pandas as pd\n",
    "import matplotlib.pyplot as plt\n",
    "import numpy as np\n",
    "from sklearn.model_selection import train_test_split\n",
    "from sklearn.preprocessing import LabelEncoder\n",
    "import tensorflow as tf\n",
    "import subprocess\n",
    "from keras.layers import Input, Flatten, Dense\n",
    "from keras.models import Model\n",
    "import seaborn as sns\n",
    "from sklearn.metrics import confusion_matrix\n",
    "from tensorflow.keras.callbacks import EarlyStopping\n",
    "from tensorflow.keras.utils import to_categorical"
   ]
  },
  {
   "cell_type": "markdown",
   "metadata": {},
   "source": [
    "Usar la VRAM necesaria de la GPU"
   ]
  },
  {
   "cell_type": "code",
   "execution_count": 3,
   "metadata": {},
   "outputs": [
    {
     "name": "stdout",
     "output_type": "stream",
     "text": [
      "Cantidad total de memoria VRAM en la GPU: 6.0 GB\n"
     ]
    },
    {
     "name": "stderr",
     "output_type": "stream",
     "text": [
      "2024-05-13 10:15:09.884579: I external/local_xla/xla/stream_executor/cuda/cuda_executor.cc:998] successful NUMA node read from SysFS had negative value (-1), but there must be at least one NUMA node, so returning NUMA node zero. See more at https://github.com/torvalds/linux/blob/v6.0/Documentation/ABI/testing/sysfs-bus-pci#L344-L355\n",
      "2024-05-13 10:15:09.921311: I external/local_xla/xla/stream_executor/cuda/cuda_executor.cc:998] successful NUMA node read from SysFS had negative value (-1), but there must be at least one NUMA node, so returning NUMA node zero. See more at https://github.com/torvalds/linux/blob/v6.0/Documentation/ABI/testing/sysfs-bus-pci#L344-L355\n",
      "2024-05-13 10:15:09.921586: I external/local_xla/xla/stream_executor/cuda/cuda_executor.cc:998] successful NUMA node read from SysFS had negative value (-1), but there must be at least one NUMA node, so returning NUMA node zero. See more at https://github.com/torvalds/linux/blob/v6.0/Documentation/ABI/testing/sysfs-bus-pci#L344-L355\n"
     ]
    }
   ],
   "source": [
    "def get_gpu_memory():\n",
    "    \"\"\"Returns the total memory of the GPU in MB\"\"\"\n",
    "    try:\n",
    "        result = subprocess.check_output(\n",
    "            [\"nvidia-smi\", \"--query-gpu=memory.total\", \"--format=csv,nounits,noheader\"], \n",
    "            encoding='utf-8')\n",
    "        return int(result.strip())\n",
    "    except Exception as e:\n",
    "        print(\"Error al obtener la información de la memoria de la GPU:\", e)\n",
    "        return None\n",
    "\n",
    "# Obtener la cantidad de memoria VRAM disponible en la GPU\n",
    "total_memory_mb = get_gpu_memory()\n",
    "if total_memory_mb is not None:\n",
    "    total_memory_gb = total_memory_mb / 1024\n",
    "    print(\"Cantidad total de memoria VRAM en la GPU:\", total_memory_gb, \"GB\")\n",
    "    \n",
    "    # Configurar TensorFlow para limitar el uso de memoria GPU\n",
    "    gpus = tf.config.experimental.list_physical_devices('GPU')\n",
    "    if gpus:\n",
    "        for gpu in gpus:\n",
    "            # Limitar la memoria GPU al máximo disponible\n",
    "            tf.config.experimental.set_memory_growth(gpu, True)\n",
    "else:\n",
    "    print(\"No se pudo obtener la información de la memoria de la GPU.\")\n"
   ]
  },
  {
   "cell_type": "markdown",
   "metadata": {},
   "source": [
    "Cargar la base de datos, en formato HDF5"
   ]
  },
  {
   "cell_type": "code",
   "execution_count": 4,
   "metadata": {},
   "outputs": [],
   "source": [
    "df = pd.read_hdf('BD_Emotions_Gray.h5')"
   ]
  },
  {
   "cell_type": "markdown",
   "metadata": {},
   "source": [
    "Revisión de los datos."
   ]
  },
  {
   "cell_type": "code",
   "execution_count": 5,
   "metadata": {},
   "outputs": [
    {
     "data": {
      "text/html": [
       "<div>\n",
       "<style scoped>\n",
       "    .dataframe tbody tr th:only-of-type {\n",
       "        vertical-align: middle;\n",
       "    }\n",
       "\n",
       "    .dataframe tbody tr th {\n",
       "        vertical-align: top;\n",
       "    }\n",
       "\n",
       "    .dataframe thead th {\n",
       "        text-align: right;\n",
       "    }\n",
       "</style>\n",
       "<table border=\"1\" class=\"dataframe\">\n",
       "  <thead>\n",
       "    <tr style=\"text-align: right;\">\n",
       "      <th></th>\n",
       "      <th>Imagen</th>\n",
       "      <th>Caracteristicas</th>\n",
       "      <th>Rostro</th>\n",
       "      <th>Etiqueta</th>\n",
       "    </tr>\n",
       "  </thead>\n",
       "  <tbody>\n",
       "    <tr>\n",
       "      <th>0</th>\n",
       "      <td>[[154, 157, 156, 157, 158, 159, 157, 157, 159,...</td>\n",
       "      <td>[[[59, 64], [59, 72], [61, 80], [62, 88], [64,...</td>\n",
       "      <td>[[167, 166, 166, 18, 14, 35, 102, 18, 24, 39, ...</td>\n",
       "      <td>excited</td>\n",
       "    </tr>\n",
       "    <tr>\n",
       "      <th>1</th>\n",
       "      <td>[[156, 155, 156, 156, 159, 156, 156, 157, 158,...</td>\n",
       "      <td>[[[57, 63], [58, 71], [59, 79], [60, 87], [62,...</td>\n",
       "      <td>[[167, 151, 9, 12, 107, 112, 19, 30, 40, 42, 8...</td>\n",
       "      <td>excited</td>\n",
       "    </tr>\n",
       "    <tr>\n",
       "      <th>2</th>\n",
       "      <td>[[172, 171, 173, 171, 172, 172, 173, 172, 172,...</td>\n",
       "      <td>[[[60, 81], [60, 90], [61, 98], [62, 106], [64...</td>\n",
       "      <td>[[51, 5, 8, 81, 100, 105, 104, 107, 111, 123, ...</td>\n",
       "      <td>excited</td>\n",
       "    </tr>\n",
       "    <tr>\n",
       "      <th>3</th>\n",
       "      <td>[[171, 168, 168, 170, 171, 169, 169, 170, 170,...</td>\n",
       "      <td>[[[62, 86], [62, 92], [64, 97], [65, 102], [67...</td>\n",
       "      <td>[[16, 15, 12, 17, 23, 36, 84, 121, 132, 141, 1...</td>\n",
       "      <td>excited</td>\n",
       "    </tr>\n",
       "    <tr>\n",
       "      <th>4</th>\n",
       "      <td>[[180, 181, 181, 181, 183, 182, 181, 182, 182,...</td>\n",
       "      <td>[[[58, 75], [59, 82], [60, 89], [62, 96], [64,...</td>\n",
       "      <td>[[4, 5, 9, 25, 85, 107, 119, 126, 130, 134, 13...</td>\n",
       "      <td>excited</td>\n",
       "    </tr>\n",
       "  </tbody>\n",
       "</table>\n",
       "</div>"
      ],
      "text/plain": [
       "                                              Imagen  \\\n",
       "0  [[154, 157, 156, 157, 158, 159, 157, 157, 159,...   \n",
       "1  [[156, 155, 156, 156, 159, 156, 156, 157, 158,...   \n",
       "2  [[172, 171, 173, 171, 172, 172, 173, 172, 172,...   \n",
       "3  [[171, 168, 168, 170, 171, 169, 169, 170, 170,...   \n",
       "4  [[180, 181, 181, 181, 183, 182, 181, 182, 182,...   \n",
       "\n",
       "                                     Caracteristicas  \\\n",
       "0  [[[59, 64], [59, 72], [61, 80], [62, 88], [64,...   \n",
       "1  [[[57, 63], [58, 71], [59, 79], [60, 87], [62,...   \n",
       "2  [[[60, 81], [60, 90], [61, 98], [62, 106], [64...   \n",
       "3  [[[62, 86], [62, 92], [64, 97], [65, 102], [67...   \n",
       "4  [[[58, 75], [59, 82], [60, 89], [62, 96], [64,...   \n",
       "\n",
       "                                              Rostro Etiqueta  \n",
       "0  [[167, 166, 166, 18, 14, 35, 102, 18, 24, 39, ...  excited  \n",
       "1  [[167, 151, 9, 12, 107, 112, 19, 30, 40, 42, 8...  excited  \n",
       "2  [[51, 5, 8, 81, 100, 105, 104, 107, 111, 123, ...  excited  \n",
       "3  [[16, 15, 12, 17, 23, 36, 84, 121, 132, 141, 1...  excited  \n",
       "4  [[4, 5, 9, 25, 85, 107, 119, 126, 130, 134, 13...  excited  "
      ]
     },
     "execution_count": 5,
     "metadata": {},
     "output_type": "execute_result"
    }
   ],
   "source": [
    "df.head()"
   ]
  },
  {
   "cell_type": "markdown",
   "metadata": {},
   "source": [
    "Retiramos cualquier dato de caracteristicas que pudiera dar un error o que no cumple con las caracteristicas deseadas. Vemos si tiene un formato Standard y ponemos que elimine todas las que no cumplan con ese Standard"
   ]
  },
  {
   "cell_type": "code",
   "execution_count": 6,
   "metadata": {},
   "outputs": [
    {
     "name": "stdout",
     "output_type": "stream",
     "text": [
      "(1, 72, 2)\n",
      "(1, 72, 2)\n",
      "(1, 72, 2)\n",
      "(1, 72, 2)\n",
      "(1, 72, 2)\n",
      "(1, 72, 2)\n",
      "(1, 72, 2)\n",
      "(1, 72, 2)\n",
      "(1, 72, 2)\n",
      "(1, 72, 2)\n",
      "(1, 72, 2)\n",
      "(1, 72, 2)\n"
     ]
    }
   ],
   "source": [
    "for i in range(0,12):\n",
    "    print(df['Caracteristicas'][i].shape)"
   ]
  },
  {
   "cell_type": "code",
   "execution_count": 7,
   "metadata": {},
   "outputs": [
    {
     "name": "stdout",
     "output_type": "stream",
     "text": [
      "(4623, 1, 72, 2)\n"
     ]
    }
   ],
   "source": [
    "# Crear una nueva columna para almacenar solo los registros que cumplan con la forma deseada\n",
    "df['Caracteristicas válidos'] = df['Caracteristicas'].apply(lambda x: x if np.array(x).shape == (1, 72, 2) else None)\n",
    "\n",
    "# Eliminar los registros que no cumplen con la forma deseada\n",
    "df = df.dropna(subset=['Caracteristicas válidos'])\n",
    "\n",
    "# Convertir la columna 'Hitos faciales válidos' en un array NumPy\n",
    "puntos = np.array(df['Caracteristicas válidos'].tolist())\n",
    "\n",
    "# Verificar la forma de X\n",
    "print(puntos.shape)"
   ]
  },
  {
   "cell_type": "markdown",
   "metadata": {},
   "source": [
    "Pasamos las etiquetas a forma numerica, con lo cual caen en categorías numericas."
   ]
  },
  {
   "cell_type": "code",
   "execution_count": 8,
   "metadata": {},
   "outputs": [],
   "source": [
    "label_encoder = LabelEncoder()\n",
    "y = label_encoder.fit_transform(df['Etiqueta'])"
   ]
  },
  {
   "cell_type": "code",
   "execution_count": 9,
   "metadata": {},
   "outputs": [
    {
     "name": "stdout",
     "output_type": "stream",
     "text": [
      "[2 2 2 ... 0 0 0]\n"
     ]
    }
   ],
   "source": [
    "print(y)"
   ]
  },
  {
   "cell_type": "markdown",
   "metadata": {},
   "source": [
    "Verificación de los datos anteriores, donde vemos la forma de la categoría"
   ]
  },
  {
   "cell_type": "code",
   "execution_count": 10,
   "metadata": {},
   "outputs": [
    {
     "name": "stdout",
     "output_type": "stream",
     "text": [
      "Clases originales: ['excited' 'engaged' 'bored']\n",
      "Clases codificadas: ['bored' 'engaged' 'excited']\n"
     ]
    }
   ],
   "source": [
    "print(\"Clases originales:\", df['Etiqueta'].unique())\n",
    "print(\"Clases codificadas:\", label_encoder.classes_)\n"
   ]
  },
  {
   "cell_type": "markdown",
   "metadata": {},
   "source": [
    "Dividimos los datos para entrenar y para verificar la red MLP"
   ]
  },
  {
   "cell_type": "code",
   "execution_count": 11,
   "metadata": {},
   "outputs": [],
   "source": [
    "X_train, X_test, y_train, y_test = train_test_split(puntos, y, test_size=0.3,random_state=42)"
   ]
  },
  {
   "cell_type": "code",
   "execution_count": 12,
   "metadata": {},
   "outputs": [
    {
     "name": "stdout",
     "output_type": "stream",
     "text": [
      "[[0. 0. 1.]\n",
      " [0. 0. 1.]\n",
      " [0. 1. 0.]\n",
      " ...\n",
      " [0. 1. 0.]\n",
      " [0. 0. 1.]\n",
      " [0. 1. 0.]]\n",
      "Clases originales: ['excited' 'engaged' 'bored']\n"
     ]
    }
   ],
   "source": [
    "# Convertir las etiquetas a formato one-hot\n",
    "y_train_one_hot = to_categorical(y_train)\n",
    "y_val_one_hot = to_categorical(y_test)\n",
    "clases_originales = df['Etiqueta'].unique()\n",
    "print(y_val_one_hot)\n",
    "print(\"Clases originales:\", df['Etiqueta'].unique())"
   ]
  },
  {
   "cell_type": "markdown",
   "metadata": {},
   "source": [
    "Creacion del modelo, la cantidad de capas es alta para intentar conseguir un accuracy alto, pero como los datos no son proporcionales la complejidad juega en su contra, por lo que ponerle menos capas ayuda a que tenga más accuracy"
   ]
  },
  {
   "cell_type": "code",
   "execution_count": 13,
   "metadata": {},
   "outputs": [
    {
     "name": "stderr",
     "output_type": "stream",
     "text": [
      "2024-05-13 10:15:12.459987: I external/local_xla/xla/stream_executor/cuda/cuda_executor.cc:998] successful NUMA node read from SysFS had negative value (-1), but there must be at least one NUMA node, so returning NUMA node zero. See more at https://github.com/torvalds/linux/blob/v6.0/Documentation/ABI/testing/sysfs-bus-pci#L344-L355\n",
      "2024-05-13 10:15:12.460573: I external/local_xla/xla/stream_executor/cuda/cuda_executor.cc:998] successful NUMA node read from SysFS had negative value (-1), but there must be at least one NUMA node, so returning NUMA node zero. See more at https://github.com/torvalds/linux/blob/v6.0/Documentation/ABI/testing/sysfs-bus-pci#L344-L355\n",
      "2024-05-13 10:15:12.460980: I external/local_xla/xla/stream_executor/cuda/cuda_executor.cc:998] successful NUMA node read from SysFS had negative value (-1), but there must be at least one NUMA node, so returning NUMA node zero. See more at https://github.com/torvalds/linux/blob/v6.0/Documentation/ABI/testing/sysfs-bus-pci#L344-L355\n",
      "2024-05-13 10:15:12.551296: I external/local_xla/xla/stream_executor/cuda/cuda_executor.cc:998] successful NUMA node read from SysFS had negative value (-1), but there must be at least one NUMA node, so returning NUMA node zero. See more at https://github.com/torvalds/linux/blob/v6.0/Documentation/ABI/testing/sysfs-bus-pci#L344-L355\n",
      "2024-05-13 10:15:12.551558: I external/local_xla/xla/stream_executor/cuda/cuda_executor.cc:998] successful NUMA node read from SysFS had negative value (-1), but there must be at least one NUMA node, so returning NUMA node zero. See more at https://github.com/torvalds/linux/blob/v6.0/Documentation/ABI/testing/sysfs-bus-pci#L344-L355\n",
      "2024-05-13 10:15:12.551784: I external/local_xla/xla/stream_executor/cuda/cuda_executor.cc:998] successful NUMA node read from SysFS had negative value (-1), but there must be at least one NUMA node, so returning NUMA node zero. See more at https://github.com/torvalds/linux/blob/v6.0/Documentation/ABI/testing/sysfs-bus-pci#L344-L355\n",
      "2024-05-13 10:15:12.551952: I tensorflow/core/common_runtime/gpu/gpu_device.cc:1928] Created device /job:localhost/replica:0/task:0/device:GPU:0 with 4348 MB memory:  -> device: 0, name: NVIDIA GeForce GTX 1660 Ti with Max-Q Design, pci bus id: 0000:01:00.0, compute capability: 7.5\n"
     ]
    }
   ],
   "source": [
    "# Definir la entrada del modelo\n",
    "inputs = Input(shape=(1, 72, 2))\n",
    "\n",
    "# Aplanar los datos de entrada\n",
    "flatten = Flatten()(inputs)\n",
    "\n",
    "# Capas densas\n",
    "\n",
    "dense1 = Dense(200, activation='relu')(flatten)\n",
    "dense2 = Dense(180, activation='relu')(dense1)\n",
    "dense3 = Dense(64, activation='relu')(dense2)\n",
    "#dense4 = Dense(75, activation='relu')(dense3)\n",
    "#dense5 = Dense(37, activation='relu')(dense4)\n",
    "\n",
    "\n",
    "# Capa de salida\n",
    "outputs = Dense(len(label_encoder.classes_), activation='softmax')(dense3)\n",
    "\n",
    "model = Model(inputs=inputs, outputs=outputs)\n",
    "\n",
    "#optimizer = tf.keras.optimizers.Adam(learning_rate=0.001)\n",
    "model.compile(optimizer='adam', loss='categorical_crossentropy', metrics=['accuracy'])\n",
    "\n"
   ]
  },
  {
   "cell_type": "code",
   "execution_count": 14,
   "metadata": {},
   "outputs": [],
   "source": [
    "# Definir Early Stopping\n",
    "early_stopping = EarlyStopping(monitor='val_loss', patience=10, restore_best_weights=True)"
   ]
  },
  {
   "cell_type": "markdown",
   "metadata": {},
   "source": [
    "Entrenamos el modelo."
   ]
  },
  {
   "cell_type": "code",
   "execution_count": 15,
   "metadata": {},
   "outputs": [
    {
     "name": "stdout",
     "output_type": "stream",
     "text": [
      "Epoch 1/50\n"
     ]
    },
    {
     "name": "stderr",
     "output_type": "stream",
     "text": [
      "WARNING: All log messages before absl::InitializeLog() is called are written to STDERR\n",
      "I0000 00:00:1715620513.806567  173446 service.cc:145] XLA service 0x7f45f000bd10 initialized for platform CUDA (this does not guarantee that XLA will be used). Devices:\n",
      "I0000 00:00:1715620513.806594  173446 service.cc:153]   StreamExecutor device (0): NVIDIA GeForce GTX 1660 Ti with Max-Q Design, Compute Capability 7.5\n",
      "2024-05-13 10:15:13.835152: I tensorflow/compiler/mlir/tensorflow/utils/dump_mlir_util.cc:268] disabling MLIR crash reproducer, set env var `MLIR_CRASH_REPRODUCER_DIRECTORY` to enable.\n",
      "2024-05-13 10:15:13.969466: I external/local_xla/xla/stream_executor/cuda/cuda_dnn.cc:465] Loaded cuDNN version 8907\n"
     ]
    },
    {
     "name": "stdout",
     "output_type": "stream",
     "text": [
      "\u001b[1m64/91\u001b[0m \u001b[32m━━━━━━━━━━━━━━\u001b[0m\u001b[37m━━━━━━\u001b[0m \u001b[1m0s\u001b[0m 2ms/step - accuracy: 0.3511 - loss: 19.0695"
     ]
    },
    {
     "name": "stderr",
     "output_type": "stream",
     "text": [
      "I0000 00:00:1715620514.954215  173446 device_compiler.h:188] Compiled cluster using XLA!  This line is logged at most once for the lifetime of the process.\n"
     ]
    },
    {
     "name": "stdout",
     "output_type": "stream",
     "text": [
      "\u001b[1m91/91\u001b[0m \u001b[32m━━━━━━━━━━━━━━━━━━━━\u001b[0m\u001b[37m\u001b[0m \u001b[1m3s\u001b[0m 9ms/step - accuracy: 0.3571 - loss: 15.2840 - val_accuracy: 0.2593 - val_loss: 1.4490\n",
      "Epoch 2/50\n",
      "\u001b[1m91/91\u001b[0m \u001b[32m━━━━━━━━━━━━━━━━━━━━\u001b[0m\u001b[37m\u001b[0m \u001b[1m0s\u001b[0m 2ms/step - accuracy: 0.3974 - loss: 1.4079 - val_accuracy: 0.4537 - val_loss: 1.5862\n",
      "Epoch 3/50\n",
      "\u001b[1m91/91\u001b[0m \u001b[32m━━━━━━━━━━━━━━━━━━━━\u001b[0m\u001b[37m\u001b[0m \u001b[1m0s\u001b[0m 2ms/step - accuracy: 0.3975 - loss: 1.7761 - val_accuracy: 0.4784 - val_loss: 1.0886\n",
      "Epoch 4/50\n",
      "\u001b[1m91/91\u001b[0m \u001b[32m━━━━━━━━━━━━━━━━━━━━\u001b[0m\u001b[37m\u001b[0m \u001b[1m0s\u001b[0m 2ms/step - accuracy: 0.4372 - loss: 1.1565 - val_accuracy: 0.4444 - val_loss: 1.4512\n",
      "Epoch 5/50\n",
      "\u001b[1m91/91\u001b[0m \u001b[32m━━━━━━━━━━━━━━━━━━━━\u001b[0m\u001b[37m\u001b[0m \u001b[1m0s\u001b[0m 2ms/step - accuracy: 0.4101 - loss: 1.2595 - val_accuracy: 0.4506 - val_loss: 1.1150\n",
      "Epoch 6/50\n",
      "\u001b[1m91/91\u001b[0m \u001b[32m━━━━━━━━━━━━━━━━━━━━\u001b[0m\u001b[37m\u001b[0m \u001b[1m0s\u001b[0m 2ms/step - accuracy: 0.4264 - loss: 1.1270 - val_accuracy: 0.2407 - val_loss: 1.5723\n",
      "Epoch 7/50\n",
      "\u001b[1m91/91\u001b[0m \u001b[32m━━━━━━━━━━━━━━━━━━━━\u001b[0m\u001b[37m\u001b[0m \u001b[1m0s\u001b[0m 2ms/step - accuracy: 0.3956 - loss: 1.2941 - val_accuracy: 0.3827 - val_loss: 1.1458\n",
      "Epoch 8/50\n",
      "\u001b[1m91/91\u001b[0m \u001b[32m━━━━━━━━━━━━━━━━━━━━\u001b[0m\u001b[37m\u001b[0m \u001b[1m0s\u001b[0m 2ms/step - accuracy: 0.3918 - loss: 1.1527 - val_accuracy: 0.4444 - val_loss: 1.0700\n",
      "Epoch 9/50\n",
      "\u001b[1m91/91\u001b[0m \u001b[32m━━━━━━━━━━━━━━━━━━━━\u001b[0m\u001b[37m\u001b[0m \u001b[1m0s\u001b[0m 2ms/step - accuracy: 0.4274 - loss: 1.0619 - val_accuracy: 0.4753 - val_loss: 0.9859\n",
      "Epoch 10/50\n",
      "\u001b[1m91/91\u001b[0m \u001b[32m━━━━━━━━━━━━━━━━━━━━\u001b[0m\u001b[37m\u001b[0m \u001b[1m0s\u001b[0m 2ms/step - accuracy: 0.4367 - loss: 1.0450 - val_accuracy: 0.4599 - val_loss: 1.0755\n",
      "Epoch 11/50\n",
      "\u001b[1m91/91\u001b[0m \u001b[32m━━━━━━━━━━━━━━━━━━━━\u001b[0m\u001b[37m\u001b[0m \u001b[1m0s\u001b[0m 2ms/step - accuracy: 0.4596 - loss: 1.0488 - val_accuracy: 0.4969 - val_loss: 0.9970\n",
      "Epoch 12/50\n",
      "\u001b[1m91/91\u001b[0m \u001b[32m━━━━━━━━━━━━━━━━━━━━\u001b[0m\u001b[37m\u001b[0m \u001b[1m0s\u001b[0m 2ms/step - accuracy: 0.4675 - loss: 1.0423 - val_accuracy: 0.4290 - val_loss: 1.0251\n",
      "Epoch 13/50\n",
      "\u001b[1m91/91\u001b[0m \u001b[32m━━━━━━━━━━━━━━━━━━━━\u001b[0m\u001b[37m\u001b[0m \u001b[1m0s\u001b[0m 2ms/step - accuracy: 0.4477 - loss: 1.0246 - val_accuracy: 0.5340 - val_loss: 0.9900\n",
      "Epoch 14/50\n",
      "\u001b[1m91/91\u001b[0m \u001b[32m━━━━━━━━━━━━━━━━━━━━\u001b[0m\u001b[37m\u001b[0m \u001b[1m0s\u001b[0m 2ms/step - accuracy: 0.4457 - loss: 1.0346 - val_accuracy: 0.4691 - val_loss: 1.0702\n",
      "Epoch 15/50\n",
      "\u001b[1m91/91\u001b[0m \u001b[32m━━━━━━━━━━━━━━━━━━━━\u001b[0m\u001b[37m\u001b[0m \u001b[1m0s\u001b[0m 2ms/step - accuracy: 0.4433 - loss: 1.0452 - val_accuracy: 0.4599 - val_loss: 1.0929\n",
      "Epoch 16/50\n",
      "\u001b[1m91/91\u001b[0m \u001b[32m━━━━━━━━━━━━━━━━━━━━\u001b[0m\u001b[37m\u001b[0m \u001b[1m0s\u001b[0m 2ms/step - accuracy: 0.4510 - loss: 1.0422 - val_accuracy: 0.4722 - val_loss: 1.0079\n",
      "Epoch 17/50\n",
      "\u001b[1m91/91\u001b[0m \u001b[32m━━━━━━━━━━━━━━━━━━━━\u001b[0m\u001b[37m\u001b[0m \u001b[1m0s\u001b[0m 2ms/step - accuracy: 0.4587 - loss: 1.0205 - val_accuracy: 0.4815 - val_loss: 1.0312\n",
      "Epoch 18/50\n",
      "\u001b[1m91/91\u001b[0m \u001b[32m━━━━━━━━━━━━━━━━━━━━\u001b[0m\u001b[37m\u001b[0m \u001b[1m0s\u001b[0m 2ms/step - accuracy: 0.4304 - loss: 1.0248 - val_accuracy: 0.4321 - val_loss: 1.0150\n",
      "Epoch 19/50\n",
      "\u001b[1m91/91\u001b[0m \u001b[32m━━━━━━━━━━━━━━━━━━━━\u001b[0m\u001b[37m\u001b[0m \u001b[1m0s\u001b[0m 2ms/step - accuracy: 0.4335 - loss: 1.0365 - val_accuracy: 0.3981 - val_loss: 1.0801\n",
      "\u001b[1m44/44\u001b[0m \u001b[32m━━━━━━━━━━━━━━━━━━━━\u001b[0m\u001b[37m\u001b[0m \u001b[1m0s\u001b[0m 8ms/step - accuracy: 0.4320 - loss: 1.0340\n",
      "Best Loss: 1.0259153842926025, Best Accuracy: 0.4311463534832001\n"
     ]
    }
   ],
   "source": [
    "with tf.device('/device:GPU:0'):\n",
    "    history = model.fit(X_train, y_train_one_hot, epochs=50, batch_size=32, validation_split=0.1, callbacks=[early_stopping])\n",
    "\n",
    "best_loss, best_accuracy = model.evaluate(X_test, y_val_one_hot)\n",
    "best_model = model\n",
    "print(f'Best Loss: {best_loss}, Best Accuracy: {best_accuracy}')"
   ]
  },
  {
   "cell_type": "code",
   "execution_count": 16,
   "metadata": {},
   "outputs": [
    {
     "name": "stdout",
     "output_type": "stream",
     "text": [
      "Best Loss: 1.0259153842926025, Best Accuracy: 0.4311463534832001\n"
     ]
    }
   ],
   "source": [
    "print(f'Best Loss: {best_loss}, Best Accuracy: {best_accuracy}')"
   ]
  },
  {
   "cell_type": "markdown",
   "metadata": {},
   "source": [
    "Checamos como está distribuido los datos. Esto hay que tenerlo en cuenta, dado que esta base de datos solo servirá para Engaged, Excited o Bored. El resto tendrá problemas grandes en localizarlo"
   ]
  },
  {
   "cell_type": "code",
   "execution_count": 17,
   "metadata": {},
   "outputs": [
    {
     "name": "stdout",
     "output_type": "stream",
     "text": [
      "\u001b[1m44/44\u001b[0m \u001b[32m━━━━━━━━━━━━━━━━━━━━\u001b[0m\u001b[37m\u001b[0m \u001b[1m0s\u001b[0m 3ms/step\n"
     ]
    }
   ],
   "source": [
    "# Obtener las predicciones del conjunto de validación\n",
    "y_pred = model.predict(X_test)\n",
    "y_pred_classes = np.argmax(y_pred, axis=1)"
   ]
  },
  {
   "cell_type": "code",
   "execution_count": 18,
   "metadata": {},
   "outputs": [
    {
     "data": {
      "image/png": "[encoded data removed]",
      "text/plain": [
       "<Figure size 1000x500 with 2 Axes>"
      ]
     },
     "metadata": {},
     "output_type": "display_data"
    }
   ],
   "source": [
    "# Mostrar la precisión y pérdida del modelo\n",
    "plt.figure(figsize=(10, 5))\n",
    "plt.subplot(1, 2, 1)\n",
    "plt.plot(history.history['accuracy'], label='Accuracy')\n",
    "plt.plot(history.history['val_accuracy'], label='Validation Accuracy')\n",
    "plt.xlabel('Epoch')\n",
    "plt.ylabel('Accuracy')\n",
    "plt.legend()\n",
    "plt.title('Precisión del Modelo')\n",
    "\n",
    "plt.subplot(1, 2, 2)\n",
    "plt.plot(history.history['loss'], label='Loss')\n",
    "plt.plot(history.history['val_loss'], label='Validation Loss')\n",
    "plt.xlabel('Epoch')\n",
    "plt.ylabel('Loss')\n",
    "plt.legend()\n",
    "plt.title('Pérdida del Modelo')\n",
    "\n",
    "plt.tight_layout()\n",
    "plt.show()"
   ]
  },
  {
   "cell_type": "code",
   "execution_count": 19,
   "metadata": {},
   "outputs": [
    {
     "name": "stdout",
     "output_type": "stream",
     "text": [
      "\u001b[1m44/44\u001b[0m \u001b[32m━━━━━━━━━━━━━━━━━━━━\u001b[0m\u001b[37m\u001b[0m \u001b[1m0s\u001b[0m 850us/step\n"
     ]
    }
   ],
   "source": [
    "from sklearn.metrics import accuracy_score, confusion_matrix\n",
    "# 7. Evaluar el modelo en el conjunto de pruebas\n",
    "y_pred = model.predict(X_test)\n",
    "y_pred_classes = np.argmax(y_pred, axis=1)"
   ]
  },
  {
   "cell_type": "code",
   "execution_count": 20,
   "metadata": {},
   "outputs": [
    {
     "name": "stdout",
     "output_type": "stream",
     "text": [
      "Precisión del modelo en el conjunto de pruebas: 0.43114635904830567\n"
     ]
    },
    {
     "data": {
      "image/png": "[encoded data removed]",
      "text/plain": [
       "<Figure size 1000x800 with 2 Axes>"
      ]
     },
     "metadata": {},
     "output_type": "display_data"
    }
   ],
   "source": [
    "# Calcular la precisión del modelo\n",
    "accuracy = accuracy_score(y_test, y_pred_classes)\n",
    "print(\"Precisión del modelo en el conjunto de pruebas:\", accuracy)\n",
    "\n",
    "# Calcular la matriz de confusión\n",
    "conf_matrix = confusion_matrix(y_test, y_pred_classes)\n",
    "\n",
    "# Mostrar la matriz de confusión de forma gráfica\n",
    "plt.figure(figsize=(10, 8))\n",
    "sns.heatmap(conf_matrix, annot=True, cmap='Blues', fmt='d', xticklabels=label_encoder.classes_, yticklabels=label_encoder.classes_)\n",
    "plt.xlabel('Predicción')\n",
    "plt.ylabel('Etiqueta Verdadera')\n",
    "plt.title('Matriz de Confusión')\n",
    "plt.show()"
   ]
  },
  {
   "cell_type": "markdown",
   "metadata": {},
   "source": [
    "Guardamos el modelo."
   ]
  },
  {
   "cell_type": "code",
   "execution_count": 21,
   "metadata": {},
   "outputs": [
    {
     "name": "stderr",
     "output_type": "stream",
     "text": [
      "WARNING:absl:You are saving your model as an HDF5 file via `model.save()` or `keras.saving.save_model(model)`. This file format is considered legacy. We recommend using instead the native Keras format, e.g. `model.save('my_model.keras')` or `keras.saving.save_model(model, 'my_model.keras')`. \n"
     ]
    }
   ],
   "source": [
    "# Guardar el modelo\n",
    "best_model.save('modelo_mlp_NoEstratificadov2.h5')"
   ]
  }
 ],
 "metadata": {
  "kernelspec": {
   "display_name": "Python 3",
   "language": "python",
   "name": "python3"
  },
  "language_info": {
   "codemirror_mode": {
    "name": "ipython",
    "version": 3
   },
   "file_extension": ".py",
   "mimetype": "text/x-python",
   "name": "python",
   "nbconvert_exporter": "python",
   "pygments_lexer": "ipython3",
   "version": "3.9.19"
  }
 },
 "nbformat": 4,
 "nbformat_minor": 2
}
