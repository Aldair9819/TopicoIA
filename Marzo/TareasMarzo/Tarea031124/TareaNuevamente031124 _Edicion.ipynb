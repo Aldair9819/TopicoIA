{
 "cells": [
  {
   "cell_type": "code",
   "execution_count": 1,
   "metadata": {},
   "outputs": [],
   "source": [
    "import face_recognition\n",
    "from PIL import Image\n",
    "from PIL import ImageDraw\n",
    "import PIL.Image as Image\n",
    "import os\n",
    "import base64\n",
    "from PIL import Image\n",
    "from io import BytesIO\n",
    "import numpy as np\n",
    "import pandas as pd\n",
    "\n"
   ]
  },
  {
   "cell_type": "code",
   "execution_count": 2,
   "metadata": {},
   "outputs": [],
   "source": [
    "def imprimirCara(imagen):\n",
    "    pil_image = Image.fromarray(imagen)\n",
    "    pil_image.show()\n",
    "    \n",
    "def imprimirTodo(imagen,cara):\n",
    "    imprimirCara(imagen)\n",
    "    pil_image = Image.fromarray(recortarCara(imagen,cara))\n",
    "    pil_image.show()\n",
    "\n",
    "def recortarCara(imagen, cara):\n",
    "    top, right, bottom, left = cara\n",
    "    cara_recortada = imagen[top:bottom, left:right]\n",
    "    return cara_recortada\n",
    "\n",
    "def hasFace(face_locations):\n",
    "    if len(face_locations) > 0:\n",
    "        return True\n",
    "    else:\n",
    "        return False"
   ]
  },
  {
   "cell_type": "code",
   "execution_count": 3,
   "metadata": {},
   "outputs": [],
   "source": [
    "def pausa():\n",
    "    input(\"Presione una tecla para continuar...\")"
   ]
  },
  {
   "cell_type": "code",
   "execution_count": 4,
   "metadata": {},
   "outputs": [],
   "source": [
    "def info_foto(ruta, imagen): \n",
    "    try:\n",
    "       #Recorta la cara\n",
    "        imagen = face_recognition.load_image_file(ruta)\n",
    "        face_locations = face_recognition.face_locations(imagen)\n",
    "        cara = face_locations[0]\n",
    "\n",
    "        #Patrones de la cara\n",
    "        face_landmarks_list = face_recognition.face_landmarks(imagen)\n",
    "\n",
    "        caracteristicas = []\n",
    "        for clave,valor in face_landmarks_list[0].items():\n",
    "            caracteristicas.append(valor)\n",
    "        \n",
    "        folder_name = os.path.basename(os.path.dirname(ruta))\n",
    "\n",
    "        imagen_rediseñada = np.array(Image.fromarray(imagen).resize((150, 150)))\n",
    "        \n",
    "        return [imagen_rediseñada, caracteristicas,cara, folder_name]\n",
    "    except IndexError as e:\n",
    "        print(f\"Se produjo un error en index: {e}\")\n",
    "        return\n",
    "    except Exception as e:\n",
    "        # Manejar otras excepciones\n",
    "        print(f\"Se produjo una excepción: {e}\")\n",
    "        return\n",
    "\n",
    "    \n",
    "    "
   ]
  },
  {
   "cell_type": "code",
   "execution_count": 5,
   "metadata": {},
   "outputs": [],
   "source": [
    "def sacar_datos_imagen(carpeta_raiz):\n",
    "    matriz = []\n",
    "    columnas = ['Imagen', 'Etiqueta', 'Rostro', 'Landmarks']\n",
    "    matriz_principal = {'Imagen':[],'Rostro':[],'Corte':[],'Etiqueta':[]}\n",
    "    # Recorrer todas las carpetas, subcarpetas y archivos de la carpeta raíz\n",
    "    for carpeta_actual, subcarpetas, archivos in os.walk(carpeta_raiz):\n",
    "        # Recorrer todos los archivos de la carpeta actual\n",
    "        for archivo in archivos:\n",
    "            # Obtener la ruta completa del archivo\n",
    "            ruta_completa = os.path.join(carpeta_actual, archivo)\n",
    "            try:\n",
    "                with Image.open(ruta_completa):\n",
    "                    # Imprimir el nombre del archivo y el directorio\n",
    "                    #folder_name = os.path.basename(os.path.dirname(ruta_completa))\n",
    "                    #print(f\"Imagen: {archivo} - Directorio: {folder_name}\")\n",
    "                    try:\n",
    "                        matriz.append(info_foto(ruta_completa, archivo))\n",
    "                    except IndexError as e:\n",
    "                        print(\"Error de Index en imagen:\"+archivo)\n",
    "                    except TypeError as e:\n",
    "                        print(\"Error de Tipo en imagen:\"+archivo)\n",
    "                        \n",
    "\n",
    "            except (IOError, OSError):\n",
    "                # Ignorar archivos que no son imágenes\n",
    "                pass\n",
    "    print(\"Terminado\")\n",
    "    df_imagenes = pd.DataFrame(matriz, columns=columnas)\n",
    "    return df_imagenes\n",
    "\n",
    "\n"
   ]
  },
  {
   "cell_type": "code",
   "execution_count": 6,
   "metadata": {},
   "outputs": [],
   "source": [
    "def checandoUnaFoto():\n",
    "    print(\"Hola\")\n",
    "    rutaE = \"Marzo\\\\BD\\\\corpus_images\\\\bored\\\\227.jpeg\"\n",
    "    imagen = face_recognition.load_image_file(rutaE)\n",
    "    return info_foto(rutaE,imagen)"
   ]
  },
  {
   "cell_type": "code",
   "execution_count": 7,
   "metadata": {},
   "outputs": [
    {
     "name": "stdout",
     "output_type": "stream",
     "text": [
      "Inicio\n",
      "Se produjo un error en index: list index out of range\n"
     ]
    },
    {
     "ename": "KeyboardInterrupt",
     "evalue": "",
     "output_type": "error",
     "traceback": [
      "\u001b[1;31m---------------------------------------------------------------------------\u001b[0m",
      "\u001b[1;31mKeyboardInterrupt\u001b[0m                         Traceback (most recent call last)",
      "Cell \u001b[1;32mIn[7], line 4\u001b[0m\n\u001b[0;32m      2\u001b[0m ruta_de_tu_carpeta \u001b[38;5;241m=\u001b[39m \u001b[38;5;124m'\u001b[39m\u001b[38;5;124mC:\u001b[39m\u001b[38;5;130;01m\\\\\u001b[39;00m\u001b[38;5;124mUsers\u001b[39m\u001b[38;5;130;01m\\\\\u001b[39;00m\u001b[38;5;124mWaldosir\u001b[39m\u001b[38;5;130;01m\\\\\u001b[39;00m\u001b[38;5;124mDocuments\u001b[39m\u001b[38;5;130;01m\\\\\u001b[39;00m\u001b[38;5;124m2doCodigo\u001b[39m\u001b[38;5;130;01m\\\\\u001b[39;00m\u001b[38;5;124mTopicoIA\u001b[39m\u001b[38;5;130;01m\\\\\u001b[39;00m\u001b[38;5;124mMarzo\u001b[39m\u001b[38;5;130;01m\\\\\u001b[39;00m\u001b[38;5;124mBD\u001b[39m\u001b[38;5;130;01m\\\\\u001b[39;00m\u001b[38;5;124mcorpus_images\u001b[39m\u001b[38;5;124m'\u001b[39m\n\u001b[0;32m      3\u001b[0m \u001b[38;5;66;03m#ruta_Prueba = \"Marzo\\image.png\"\u001b[39;00m\n\u001b[1;32m----> 4\u001b[0m df \u001b[38;5;241m=\u001b[39m \u001b[43msacar_datos_imagen\u001b[49m\u001b[43m(\u001b[49m\u001b[43mruta_de_tu_carpeta\u001b[49m\u001b[43m)\u001b[49m\n\u001b[0;32m      5\u001b[0m \u001b[38;5;66;03m#matrizPrueba = checandoUnaFoto()\u001b[39;00m\n",
      "Cell \u001b[1;32mIn[5], line 17\u001b[0m, in \u001b[0;36msacar_datos_imagen\u001b[1;34m(carpeta_raiz)\u001b[0m\n\u001b[0;32m     12\u001b[0m \u001b[38;5;28;01mwith\u001b[39;00m Image\u001b[38;5;241m.\u001b[39mopen(ruta_completa):\n\u001b[0;32m     13\u001b[0m     \u001b[38;5;66;03m# Imprimir el nombre del archivo y el directorio\u001b[39;00m\n\u001b[0;32m     14\u001b[0m     \u001b[38;5;66;03m#folder_name = os.path.basename(os.path.dirname(ruta_completa))\u001b[39;00m\n\u001b[0;32m     15\u001b[0m     \u001b[38;5;66;03m#print(f\"Imagen: {archivo} - Directorio: {folder_name}\")\u001b[39;00m\n\u001b[0;32m     16\u001b[0m     \u001b[38;5;28;01mtry\u001b[39;00m:\n\u001b[1;32m---> 17\u001b[0m         matriz\u001b[38;5;241m.\u001b[39mappend(\u001b[43minfo_foto\u001b[49m\u001b[43m(\u001b[49m\u001b[43mruta_completa\u001b[49m\u001b[43m,\u001b[49m\u001b[43m \u001b[49m\u001b[43marchivo\u001b[49m\u001b[43m)\u001b[49m)\n\u001b[0;32m     18\u001b[0m     \u001b[38;5;28;01mexcept\u001b[39;00m \u001b[38;5;167;01mIndexError\u001b[39;00m \u001b[38;5;28;01mas\u001b[39;00m e:\n\u001b[0;32m     19\u001b[0m         \u001b[38;5;28mprint\u001b[39m(\u001b[38;5;124m\"\u001b[39m\u001b[38;5;124mError de Index en imagen:\u001b[39m\u001b[38;5;124m\"\u001b[39m\u001b[38;5;241m+\u001b[39marchivo)\n",
      "Cell \u001b[1;32mIn[4], line 9\u001b[0m, in \u001b[0;36minfo_foto\u001b[1;34m(ruta, imagen)\u001b[0m\n\u001b[0;32m      6\u001b[0m cara \u001b[38;5;241m=\u001b[39m face_locations[\u001b[38;5;241m0\u001b[39m]\n\u001b[0;32m      8\u001b[0m \u001b[38;5;66;03m#Patrones de la cara\u001b[39;00m\n\u001b[1;32m----> 9\u001b[0m face_landmarks_list \u001b[38;5;241m=\u001b[39m \u001b[43mface_recognition\u001b[49m\u001b[38;5;241;43m.\u001b[39;49m\u001b[43mface_landmarks\u001b[49m\u001b[43m(\u001b[49m\u001b[43mimagen\u001b[49m\u001b[43m)\u001b[49m\n\u001b[0;32m     11\u001b[0m caracteristicas \u001b[38;5;241m=\u001b[39m []\n\u001b[0;32m     12\u001b[0m \u001b[38;5;28;01mfor\u001b[39;00m clave,valor \u001b[38;5;129;01min\u001b[39;00m face_landmarks_list[\u001b[38;5;241m0\u001b[39m]\u001b[38;5;241m.\u001b[39mitems():\n",
      "File \u001b[1;32m~\\AppData\\Local\\Packages\\PythonSoftwareFoundation.Python.3.9_qbz5n2kfra8p0\\LocalCache\\local-packages\\Python39\\site-packages\\face_recognition\\api.py:177\u001b[0m, in \u001b[0;36mface_landmarks\u001b[1;34m(face_image, face_locations, model)\u001b[0m\n\u001b[0;32m    168\u001b[0m \u001b[38;5;28;01mdef\u001b[39;00m \u001b[38;5;21mface_landmarks\u001b[39m(face_image, face_locations\u001b[38;5;241m=\u001b[39m\u001b[38;5;28;01mNone\u001b[39;00m, model\u001b[38;5;241m=\u001b[39m\u001b[38;5;124m\"\u001b[39m\u001b[38;5;124mlarge\u001b[39m\u001b[38;5;124m\"\u001b[39m):\n\u001b[0;32m    169\u001b[0m \u001b[38;5;250m    \u001b[39m\u001b[38;5;124;03m\"\"\"\u001b[39;00m\n\u001b[0;32m    170\u001b[0m \u001b[38;5;124;03m    Given an image, returns a dict of face feature locations (eyes, nose, etc) for each face in the image\u001b[39;00m\n\u001b[0;32m    171\u001b[0m \n\u001b[1;32m   (...)\u001b[0m\n\u001b[0;32m    175\u001b[0m \u001b[38;5;124;03m    :return: A list of dicts of face feature locations (eyes, nose, etc)\u001b[39;00m\n\u001b[0;32m    176\u001b[0m \u001b[38;5;124;03m    \"\"\"\u001b[39;00m\n\u001b[1;32m--> 177\u001b[0m     landmarks \u001b[38;5;241m=\u001b[39m \u001b[43m_raw_face_landmarks\u001b[49m\u001b[43m(\u001b[49m\u001b[43mface_image\u001b[49m\u001b[43m,\u001b[49m\u001b[43m \u001b[49m\u001b[43mface_locations\u001b[49m\u001b[43m,\u001b[49m\u001b[43m \u001b[49m\u001b[43mmodel\u001b[49m\u001b[43m)\u001b[49m\n\u001b[0;32m    178\u001b[0m     landmarks_as_tuples \u001b[38;5;241m=\u001b[39m [[(p\u001b[38;5;241m.\u001b[39mx, p\u001b[38;5;241m.\u001b[39my) \u001b[38;5;28;01mfor\u001b[39;00m p \u001b[38;5;129;01min\u001b[39;00m landmark\u001b[38;5;241m.\u001b[39mparts()] \u001b[38;5;28;01mfor\u001b[39;00m landmark \u001b[38;5;129;01min\u001b[39;00m landmarks]\n\u001b[0;32m    180\u001b[0m     \u001b[38;5;66;03m# For a definition of each point index, see https://cdn-images-1.medium.com/max/1600/1*AbEg31EgkbXSQehuNJBlWg.png\u001b[39;00m\n",
      "File \u001b[1;32m~\\AppData\\Local\\Packages\\PythonSoftwareFoundation.Python.3.9_qbz5n2kfra8p0\\LocalCache\\local-packages\\Python39\\site-packages\\face_recognition\\api.py:156\u001b[0m, in \u001b[0;36m_raw_face_landmarks\u001b[1;34m(face_image, face_locations, model)\u001b[0m\n\u001b[0;32m    154\u001b[0m \u001b[38;5;28;01mdef\u001b[39;00m \u001b[38;5;21m_raw_face_landmarks\u001b[39m(face_image, face_locations\u001b[38;5;241m=\u001b[39m\u001b[38;5;28;01mNone\u001b[39;00m, model\u001b[38;5;241m=\u001b[39m\u001b[38;5;124m\"\u001b[39m\u001b[38;5;124mlarge\u001b[39m\u001b[38;5;124m\"\u001b[39m):\n\u001b[0;32m    155\u001b[0m     \u001b[38;5;28;01mif\u001b[39;00m face_locations \u001b[38;5;129;01mis\u001b[39;00m \u001b[38;5;28;01mNone\u001b[39;00m:\n\u001b[1;32m--> 156\u001b[0m         face_locations \u001b[38;5;241m=\u001b[39m \u001b[43m_raw_face_locations\u001b[49m\u001b[43m(\u001b[49m\u001b[43mface_image\u001b[49m\u001b[43m)\u001b[49m\n\u001b[0;32m    157\u001b[0m     \u001b[38;5;28;01melse\u001b[39;00m:\n\u001b[0;32m    158\u001b[0m         face_locations \u001b[38;5;241m=\u001b[39m [_css_to_rect(face_location) \u001b[38;5;28;01mfor\u001b[39;00m face_location \u001b[38;5;129;01min\u001b[39;00m face_locations]\n",
      "File \u001b[1;32m~\\AppData\\Local\\Packages\\PythonSoftwareFoundation.Python.3.9_qbz5n2kfra8p0\\LocalCache\\local-packages\\Python39\\site-packages\\face_recognition\\api.py:105\u001b[0m, in \u001b[0;36m_raw_face_locations\u001b[1;34m(img, number_of_times_to_upsample, model)\u001b[0m\n\u001b[0;32m    103\u001b[0m     \u001b[38;5;28;01mreturn\u001b[39;00m cnn_face_detector(img, number_of_times_to_upsample)\n\u001b[0;32m    104\u001b[0m \u001b[38;5;28;01melse\u001b[39;00m:\n\u001b[1;32m--> 105\u001b[0m     \u001b[38;5;28;01mreturn\u001b[39;00m \u001b[43mface_detector\u001b[49m\u001b[43m(\u001b[49m\u001b[43mimg\u001b[49m\u001b[43m,\u001b[49m\u001b[43m \u001b[49m\u001b[43mnumber_of_times_to_upsample\u001b[49m\u001b[43m)\u001b[49m\n",
      "\u001b[1;31mKeyboardInterrupt\u001b[0m: "
     ]
    }
   ],
   "source": [
    "print(\"Inicio\")\n",
    "ruta_de_tu_carpeta = 'C:\\\\Users\\\\Waldosir\\\\Documents\\\\2doCodigo\\\\TopicoIA\\\\Marzo\\\\BD\\\\corpus_images'\n",
    "#ruta_Prueba = \"Marzo\\image.png\"\n",
    "df = sacar_datos_imagen(ruta_de_tu_carpeta)\n",
    "#matrizPrueba = checandoUnaFoto()\n"
   ]
  },
  {
   "cell_type": "code",
   "execution_count": null,
   "metadata": {},
   "outputs": [
    {
     "data": {
      "text/html": [
       "<div>\n",
       "<style scoped>\n",
       "    .dataframe tbody tr th:only-of-type {\n",
       "        vertical-align: middle;\n",
       "    }\n",
       "\n",
       "    .dataframe tbody tr th {\n",
       "        vertical-align: top;\n",
       "    }\n",
       "\n",
       "    .dataframe thead th {\n",
       "        text-align: right;\n",
       "    }\n",
       "</style>\n",
       "<table border=\"1\" class=\"dataframe\">\n",
       "  <thead>\n",
       "    <tr style=\"text-align: right;\">\n",
       "      <th></th>\n",
       "      <th>Imagen</th>\n",
       "      <th>Rostro</th>\n",
       "      <th>Corte</th>\n",
       "      <th>Etiqueta</th>\n",
       "    </tr>\n",
       "  </thead>\n",
       "  <tbody>\n",
       "    <tr>\n",
       "      <th>0</th>\n",
       "      <td>&lt;PIL.Image.Image image mode=RGB size=150x150 a...</td>\n",
       "      <td>[[(268, 262), (268, 279), (270, 295), (272, 31...</td>\n",
       "      <td>(202, 408, 356, 253)</td>\n",
       "      <td>bored</td>\n",
       "    </tr>\n",
       "    <tr>\n",
       "      <th>1</th>\n",
       "      <td>&lt;PIL.Image.Image image mode=RGB size=150x150 a...</td>\n",
       "      <td>[[(269, 263), (269, 279), (270, 296), (273, 31...</td>\n",
       "      <td>(202, 408, 356, 253)</td>\n",
       "      <td>bored</td>\n",
       "    </tr>\n",
       "    <tr>\n",
       "      <th>2</th>\n",
       "      <td>&lt;PIL.Image.Image image mode=RGB size=150x150 a...</td>\n",
       "      <td>[[(272, 263), (272, 279), (273, 295), (276, 31...</td>\n",
       "      <td>(202, 408, 356, 253)</td>\n",
       "      <td>bored</td>\n",
       "    </tr>\n",
       "    <tr>\n",
       "      <th>3</th>\n",
       "      <td>&lt;PIL.Image.Image image mode=RGB size=150x150 a...</td>\n",
       "      <td>[[(271, 263), (271, 279), (273, 295), (275, 31...</td>\n",
       "      <td>(202, 408, 356, 253)</td>\n",
       "      <td>bored</td>\n",
       "    </tr>\n",
       "    <tr>\n",
       "      <th>4</th>\n",
       "      <td>&lt;PIL.Image.Image image mode=RGB size=150x150 a...</td>\n",
       "      <td>[[(271, 265), (271, 280), (273, 296), (275, 31...</td>\n",
       "      <td>(202, 408, 356, 253)</td>\n",
       "      <td>bored</td>\n",
       "    </tr>\n",
       "  </tbody>\n",
       "</table>\n",
       "</div>"
      ],
      "text/plain": [
       "                                              Imagen  \\\n",
       "0  <PIL.Image.Image image mode=RGB size=150x150 a...   \n",
       "1  <PIL.Image.Image image mode=RGB size=150x150 a...   \n",
       "2  <PIL.Image.Image image mode=RGB size=150x150 a...   \n",
       "3  <PIL.Image.Image image mode=RGB size=150x150 a...   \n",
       "4  <PIL.Image.Image image mode=RGB size=150x150 a...   \n",
       "\n",
       "                                              Rostro                 Corte  \\\n",
       "0  [[(268, 262), (268, 279), (270, 295), (272, 31...  (202, 408, 356, 253)   \n",
       "1  [[(269, 263), (269, 279), (270, 296), (273, 31...  (202, 408, 356, 253)   \n",
       "2  [[(272, 263), (272, 279), (273, 295), (276, 31...  (202, 408, 356, 253)   \n",
       "3  [[(271, 263), (271, 279), (273, 295), (275, 31...  (202, 408, 356, 253)   \n",
       "4  [[(271, 265), (271, 280), (273, 296), (275, 31...  (202, 408, 356, 253)   \n",
       "\n",
       "  Etiqueta  \n",
       "0    bored  \n",
       "1    bored  \n",
       "2    bored  \n",
       "3    bored  \n",
       "4    bored  "
      ]
     },
     "execution_count": 29,
     "metadata": {},
     "output_type": "execute_result"
    }
   ],
   "source": [
    "#print(matrizPrueba)\n",
    "\n",
    "df.head()\n",
    "#print(\"Final\")"
   ]
  },
  {
   "cell_type": "code",
   "execution_count": null,
   "metadata": {},
   "outputs": [],
   "source": [
    "df.to_csv('datos.csv', index=False)"
   ]
  }
 ],
 "metadata": {
  "kernelspec": {
   "display_name": "Python 3",
   "language": "python",
   "name": "python3"
  },
  "language_info": {
   "codemirror_mode": {
    "name": "ipython",
    "version": 3
   },
   "file_extension": ".py",
   "mimetype": "text/x-python",
   "name": "python",
   "nbconvert_exporter": "python",
   "pygments_lexer": "ipython3",
   "version": "3.9.13"
  }
 },
 "nbformat": 4,
 "nbformat_minor": 2
}
