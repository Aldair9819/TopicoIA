{
 "cells": [
  {
   "cell_type": "code",
   "execution_count": 1,
   "metadata": {},
   "outputs": [
    {
     "name": "stderr",
     "output_type": "stream",
     "text": [
      "2024-05-09 10:53:37.476911: I tensorflow/core/platform/cpu_feature_guard.cc:210] This TensorFlow binary is optimized to use available CPU instructions in performance-critical operations.\n",
      "To enable the following instructions: AVX2 FMA, in other operations, rebuild TensorFlow with the appropriate compiler flags.\n",
      "2024-05-09 10:53:38.187348: W tensorflow/compiler/tf2tensorrt/utils/py_utils.cc:38] TF-TRT Warning: Could not find TensorRT\n"
     ]
    }
   ],
   "source": [
    "import pandas as pd\n",
    "import numpy as np\n",
    "import cv2\n",
    "import tensorflow as tf\n",
    "\n",
    "from sklearn.model_selection import train_test_split\n",
    "from tensorflow.keras import layers,models"
   ]
  },
  {
   "cell_type": "code",
   "execution_count": null,
   "metadata": {},
   "outputs": [],
   "source": []
  },
  {
   "cell_type": "code",
   "execution_count": 2,
   "metadata": {},
   "outputs": [],
   "source": [
    "df = pd.read_hdf('BD_Emotions_Gray.h5')"
   ]
  },
  {
   "cell_type": "code",
   "execution_count": 3,
   "metadata": {},
   "outputs": [
    {
     "name": "stdout",
     "output_type": "stream",
     "text": [
      "<class 'pandas.core.frame.DataFrame'>\n",
      "Index: 4623 entries, 0 to 4622\n",
      "Data columns (total 4 columns):\n",
      " #   Column           Non-Null Count  Dtype \n",
      "---  ------           --------------  ----- \n",
      " 0   Imagen           4623 non-null   object\n",
      " 1   Caracteristicas  4623 non-null   object\n",
      " 2   Rostro           4623 non-null   object\n",
      " 3   Etiqueta         4623 non-null   object\n",
      "dtypes: object(4)\n",
      "memory usage: 180.6+ KB\n"
     ]
    }
   ],
   "source": [
    "df.info()"
   ]
  },
  {
   "cell_type": "code",
   "execution_count": 4,
   "metadata": {},
   "outputs": [
    {
     "data": {
      "text/html": [
       "<div>\n",
       "<style scoped>\n",
       "    .dataframe tbody tr th:only-of-type {\n",
       "        vertical-align: middle;\n",
       "    }\n",
       "\n",
       "    .dataframe tbody tr th {\n",
       "        vertical-align: top;\n",
       "    }\n",
       "\n",
       "    .dataframe thead th {\n",
       "        text-align: right;\n",
       "    }\n",
       "</style>\n",
       "<table border=\"1\" class=\"dataframe\">\n",
       "  <thead>\n",
       "    <tr style=\"text-align: right;\">\n",
       "      <th></th>\n",
       "      <th>Imagen</th>\n",
       "      <th>Caracteristicas</th>\n",
       "      <th>Rostro</th>\n",
       "      <th>Etiqueta</th>\n",
       "    </tr>\n",
       "  </thead>\n",
       "  <tbody>\n",
       "    <tr>\n",
       "      <th>0</th>\n",
       "      <td>[[154, 157, 156, 157, 158, 159, 157, 157, 159,...</td>\n",
       "      <td>[[[59, 64], [59, 72], [61, 80], [62, 88], [64,...</td>\n",
       "      <td>[[167, 166, 166, 18, 14, 35, 102, 18, 24, 39, ...</td>\n",
       "      <td>excited</td>\n",
       "    </tr>\n",
       "    <tr>\n",
       "      <th>1</th>\n",
       "      <td>[[156, 155, 156, 156, 159, 156, 156, 157, 158,...</td>\n",
       "      <td>[[[57, 63], [58, 71], [59, 79], [60, 87], [62,...</td>\n",
       "      <td>[[167, 151, 9, 12, 107, 112, 19, 30, 40, 42, 8...</td>\n",
       "      <td>excited</td>\n",
       "    </tr>\n",
       "    <tr>\n",
       "      <th>2</th>\n",
       "      <td>[[172, 171, 173, 171, 172, 172, 173, 172, 172,...</td>\n",
       "      <td>[[[60, 81], [60, 90], [61, 98], [62, 106], [64...</td>\n",
       "      <td>[[51, 5, 8, 81, 100, 105, 104, 107, 111, 123, ...</td>\n",
       "      <td>excited</td>\n",
       "    </tr>\n",
       "    <tr>\n",
       "      <th>3</th>\n",
       "      <td>[[171, 168, 168, 170, 171, 169, 169, 170, 170,...</td>\n",
       "      <td>[[[62, 86], [62, 92], [64, 97], [65, 102], [67...</td>\n",
       "      <td>[[16, 15, 12, 17, 23, 36, 84, 121, 132, 141, 1...</td>\n",
       "      <td>excited</td>\n",
       "    </tr>\n",
       "    <tr>\n",
       "      <th>4</th>\n",
       "      <td>[[180, 181, 181, 181, 183, 182, 181, 182, 182,...</td>\n",
       "      <td>[[[58, 75], [59, 82], [60, 89], [62, 96], [64,...</td>\n",
       "      <td>[[4, 5, 9, 25, 85, 107, 119, 126, 130, 134, 13...</td>\n",
       "      <td>excited</td>\n",
       "    </tr>\n",
       "  </tbody>\n",
       "</table>\n",
       "</div>"
      ],
      "text/plain": [
       "                                              Imagen  \\\n",
       "0  [[154, 157, 156, 157, 158, 159, 157, 157, 159,...   \n",
       "1  [[156, 155, 156, 156, 159, 156, 156, 157, 158,...   \n",
       "2  [[172, 171, 173, 171, 172, 172, 173, 172, 172,...   \n",
       "3  [[171, 168, 168, 170, 171, 169, 169, 170, 170,...   \n",
       "4  [[180, 181, 181, 181, 183, 182, 181, 182, 182,...   \n",
       "\n",
       "                                     Caracteristicas  \\\n",
       "0  [[[59, 64], [59, 72], [61, 80], [62, 88], [64,...   \n",
       "1  [[[57, 63], [58, 71], [59, 79], [60, 87], [62,...   \n",
       "2  [[[60, 81], [60, 90], [61, 98], [62, 106], [64...   \n",
       "3  [[[62, 86], [62, 92], [64, 97], [65, 102], [67...   \n",
       "4  [[[58, 75], [59, 82], [60, 89], [62, 96], [64,...   \n",
       "\n",
       "                                              Rostro Etiqueta  \n",
       "0  [[167, 166, 166, 18, 14, 35, 102, 18, 24, 39, ...  excited  \n",
       "1  [[167, 151, 9, 12, 107, 112, 19, 30, 40, 42, 8...  excited  \n",
       "2  [[51, 5, 8, 81, 100, 105, 104, 107, 111, 123, ...  excited  \n",
       "3  [[16, 15, 12, 17, 23, 36, 84, 121, 132, 141, 1...  excited  \n",
       "4  [[4, 5, 9, 25, 85, 107, 119, 126, 130, 134, 13...  excited  "
      ]
     },
     "execution_count": 4,
     "metadata": {},
     "output_type": "execute_result"
    }
   ],
   "source": [
    "df.head()"
   ]
  },
  {
   "cell_type": "code",
   "execution_count": 5,
   "metadata": {},
   "outputs": [
    {
     "name": "stdout",
     "output_type": "stream",
     "text": [
      "[[167 166 166 ... 135  15  13]\n",
      " [167 167 162 ... 155  23  12]\n",
      " [165 167 137 ...  55  30  15]\n",
      " ...\n",
      " [173 185 190 ... 149 151 152]\n",
      " [177 195 199 ... 159 151 153]\n",
      " [180 196 191 ... 188 180 155]]\n"
     ]
    }
   ],
   "source": [
    "print(df['Rostro'][0])"
   ]
  },
  {
   "cell_type": "code",
   "execution_count": 6,
   "metadata": {},
   "outputs": [],
   "source": [
    "import numpy as np\n",
    "from PIL import Image\n",
    "\n",
    "# Función para redimensionar una imagen\n",
    "def redimensionar_imagen(imagen, nuevo_ancho, nuevo_alto):\n",
    "    img = Image.fromarray(imagen)\n",
    "    img = img.resize((nuevo_ancho, nuevo_alto))\n",
    "    return np.array(img)\n",
    "\n",
    "# Definir el tamaño al que quieres redimensionar todas las imágenes\n",
    "nuevo_ancho = 150\n",
    "nuevo_alto = 150\n",
    "\n",
    "# Redimensionar todas las imágenes a la misma forma y convertirlas en arreglos numpy\n",
    "X = np.array([redimensionar_imagen(imagen, nuevo_ancho, nuevo_alto) for imagen in df['Rostro']])\n"
   ]
  },
  {
   "cell_type": "code",
   "execution_count": 7,
   "metadata": {},
   "outputs": [],
   "source": [
    "X = X /255.0"
   ]
  },
  {
   "cell_type": "code",
   "execution_count": 9,
   "metadata": {},
   "outputs": [],
   "source": [
    "etiquetas = df['Etiqueta'].astype('category').cat.codes"
   ]
  },
  {
   "cell_type": "code",
   "execution_count": 10,
   "metadata": {},
   "outputs": [
    {
     "name": "stdout",
     "output_type": "stream",
     "text": [
      "0       2\n",
      "1       2\n",
      "2       2\n",
      "3       2\n",
      "4       2\n",
      "       ..\n",
      "4618    0\n",
      "4619    0\n",
      "4620    0\n",
      "4621    0\n",
      "4622    0\n",
      "Length: 4623, dtype: int8\n"
     ]
    }
   ],
   "source": [
    "print(etiquetas)"
   ]
  },
  {
   "cell_type": "code",
   "execution_count": 12,
   "metadata": {},
   "outputs": [
    {
     "name": "stdout",
     "output_type": "stream",
     "text": [
      "0       excited\n",
      "1       excited\n",
      "2       excited\n",
      "3       excited\n",
      "4       excited\n",
      "         ...   \n",
      "4618      bored\n",
      "4619      bored\n",
      "4620      bored\n",
      "4621      bored\n",
      "4622      bored\n",
      "Length: 4623, dtype: object\n"
     ]
    }
   ],
   "source": [
    "# Crear un diccionario que mapee los códigos a las etiquetas originales\n",
    "diccionario_etiquetas = dict(enumerate(df['Etiqueta'].astype('category').cat.categories))\n",
    "\n",
    "# Recuperar las etiquetas originales a partir de los códigos\n",
    "etiquetas_originales = etiquetas.map(diccionario_etiquetas)\n",
    "\n",
    "# Ahora puedes ver las etiquetas originales\n",
    "print(etiquetas_originales)"
   ]
  },
  {
   "cell_type": "code",
   "execution_count": 13,
   "metadata": {},
   "outputs": [],
   "source": [
    "#Dividir datos de entrenamiento y validacion\n",
    "\n",
    "X_train, X_test, y_train, y_test = train_test_split(X, etiquetas, test_size=0.3, random_state=42)\n"
   ]
  },
  {
   "cell_type": "code",
   "execution_count": 14,
   "metadata": {},
   "outputs": [
    {
     "name": "stderr",
     "output_type": "stream",
     "text": [
      "/home/waldos/.local/lib/python3.9/site-packages/keras/src/layers/convolutional/base_conv.py:107: UserWarning: Do not pass an `input_shape`/`input_dim` argument to a layer. When using Sequential models, prefer using an `Input(shape)` object as the first layer in the model instead.\n",
      "  super().__init__(activity_regularizer=activity_regularizer, **kwargs)\n",
      "2024-05-09 10:55:23.076617: I external/local_xla/xla/stream_executor/cuda/cuda_executor.cc:998] successful NUMA node read from SysFS had negative value (-1), but there must be at least one NUMA node, so returning NUMA node zero. See more at https://github.com/torvalds/linux/blob/v6.0/Documentation/ABI/testing/sysfs-bus-pci#L344-L355\n",
      "2024-05-09 10:55:23.112038: I external/local_xla/xla/stream_executor/cuda/cuda_executor.cc:998] successful NUMA node read from SysFS had negative value (-1), but there must be at least one NUMA node, so returning NUMA node zero. See more at https://github.com/torvalds/linux/blob/v6.0/Documentation/ABI/testing/sysfs-bus-pci#L344-L355\n",
      "2024-05-09 10:55:23.112266: I external/local_xla/xla/stream_executor/cuda/cuda_executor.cc:998] successful NUMA node read from SysFS had negative value (-1), but there must be at least one NUMA node, so returning NUMA node zero. See more at https://github.com/torvalds/linux/blob/v6.0/Documentation/ABI/testing/sysfs-bus-pci#L344-L355\n",
      "2024-05-09 10:55:23.113451: I external/local_xla/xla/stream_executor/cuda/cuda_executor.cc:998] successful NUMA node read from SysFS had negative value (-1), but there must be at least one NUMA node, so returning NUMA node zero. See more at https://github.com/torvalds/linux/blob/v6.0/Documentation/ABI/testing/sysfs-bus-pci#L344-L355\n",
      "2024-05-09 10:55:23.113639: I external/local_xla/xla/stream_executor/cuda/cuda_executor.cc:998] successful NUMA node read from SysFS had negative value (-1), but there must be at least one NUMA node, so returning NUMA node zero. See more at https://github.com/torvalds/linux/blob/v6.0/Documentation/ABI/testing/sysfs-bus-pci#L344-L355\n",
      "2024-05-09 10:55:23.113809: I external/local_xla/xla/stream_executor/cuda/cuda_executor.cc:998] successful NUMA node read from SysFS had negative value (-1), but there must be at least one NUMA node, so returning NUMA node zero. See more at https://github.com/torvalds/linux/blob/v6.0/Documentation/ABI/testing/sysfs-bus-pci#L344-L355\n",
      "2024-05-09 10:55:23.167577: I external/local_xla/xla/stream_executor/cuda/cuda_executor.cc:998] successful NUMA node read from SysFS had negative value (-1), but there must be at least one NUMA node, so returning NUMA node zero. See more at https://github.com/torvalds/linux/blob/v6.0/Documentation/ABI/testing/sysfs-bus-pci#L344-L355\n",
      "2024-05-09 10:55:23.167840: I external/local_xla/xla/stream_executor/cuda/cuda_executor.cc:998] successful NUMA node read from SysFS had negative value (-1), but there must be at least one NUMA node, so returning NUMA node zero. See more at https://github.com/torvalds/linux/blob/v6.0/Documentation/ABI/testing/sysfs-bus-pci#L344-L355\n",
      "2024-05-09 10:55:23.168053: I external/local_xla/xla/stream_executor/cuda/cuda_executor.cc:998] successful NUMA node read from SysFS had negative value (-1), but there must be at least one NUMA node, so returning NUMA node zero. See more at https://github.com/torvalds/linux/blob/v6.0/Documentation/ABI/testing/sysfs-bus-pci#L344-L355\n",
      "2024-05-09 10:55:23.168207: I tensorflow/core/common_runtime/gpu/gpu_device.cc:1928] Created device /job:localhost/replica:0/task:0/device:GPU:0 with 4800 MB memory:  -> device: 0, name: NVIDIA GeForce GTX 1660 Ti with Max-Q Design, pci bus id: 0000:01:00.0, compute capability: 7.5\n"
     ]
    }
   ],
   "source": [
    "# Definir el modelo CNN\n",
    "model = models.Sequential([\n",
    "    layers.Conv2D(256, (3, 3), activation='relu', input_shape=(nuevo_ancho, nuevo_alto, 1)),\n",
    "    layers.MaxPooling2D((2, 2)),\n",
    "    layers.Conv2D(128, (3, 3), activation='relu'),\n",
    "    layers.MaxPooling2D((2, 2)),\n",
    "    layers.Conv2D(64, (3, 3), activation='relu'),\n",
    "    layers.Flatten(),\n",
    "    layers.Dense(32, activation='relu'),\n",
    "    layers.Dense(len(etiquetas), activation='softmax')\n",
    "])"
   ]
  },
  {
   "cell_type": "code",
   "execution_count": 15,
   "metadata": {},
   "outputs": [],
   "source": [
    "class myCallback(tf.keras.callbacks.Callback):\n",
    "    def on_epoch_end(self, epoch, logs={}):\n",
    "        if logs.get('accuracy') >= 85:\n",
    "            print(\"\\nReached 85% accuracy so cancelling training!\")\n",
    "            self.model.stop_training = True\n",
    "            \n",
    "back = myCallback() "
   ]
  },
  {
   "cell_type": "code",
   "execution_count": 16,
   "metadata": {},
   "outputs": [],
   "source": [
    "#compilar el modelo\n",
    "model.compile(optimizer='adam',\n",
    "              loss='sparse_categorical_crossentropy',\n",
    "              metrics=['accuracy'])"
   ]
  },
  {
   "cell_type": "code",
   "execution_count": 17,
   "metadata": {},
   "outputs": [
    {
     "name": "stdout",
     "output_type": "stream",
     "text": [
      "Epoch 1/25\n"
     ]
    },
    {
     "name": "stderr",
     "output_type": "stream",
     "text": [
      "WARNING: All log messages before absl::InitializeLog() is called are written to STDERR\n",
      "I0000 00:00:1715277329.537290  196074 service.cc:145] XLA service 0x7f0b9c004950 initialized for platform CUDA (this does not guarantee that XLA will be used). Devices:\n",
      "I0000 00:00:1715277329.537344  196074 service.cc:153]   StreamExecutor device (0): NVIDIA GeForce GTX 1660 Ti with Max-Q Design, Compute Capability 7.5\n",
      "2024-05-09 10:55:29.564378: I tensorflow/compiler/mlir/tensorflow/utils/dump_mlir_util.cc:268] disabling MLIR crash reproducer, set env var `MLIR_CRASH_REPRODUCER_DIRECTORY` to enable.\n",
      "2024-05-09 10:55:29.693371: I external/local_xla/xla/stream_executor/cuda/cuda_dnn.cc:465] Loaded cuDNN version 8907\n",
      "2024-05-09 10:55:30.397118: W external/local_tsl/tsl/framework/bfc_allocator.cc:296] Allocator (GPU_0_bfc) ran out of memory trying to allocate 4.05GiB with freed_by_count=0. The caller indicates that this is not a failure, but this may mean that there could be performance gains if more memory were available.\n",
      "2024-05-09 10:55:31.608166: W external/local_tsl/tsl/framework/bfc_allocator.cc:296] Allocator (GPU_0_bfc) ran out of memory trying to allocate 5.09GiB with freed_by_count=0. The caller indicates that this is not a failure, but this may mean that there could be performance gains if more memory were available.\n",
      "2024-05-09 10:55:32.529876: W external/local_tsl/tsl/framework/bfc_allocator.cc:296] Allocator (GPU_0_bfc) ran out of memory trying to allocate 4.59GiB with freed_by_count=0. The caller indicates that this is not a failure, but this may mean that there could be performance gains if more memory were available.\n",
      "2024-05-09 10:55:32.529909: W external/local_tsl/tsl/framework/bfc_allocator.cc:296] Allocator (GPU_0_bfc) ran out of memory trying to allocate 4.59GiB with freed_by_count=0. The caller indicates that this is not a failure, but this may mean that there could be performance gains if more memory were available.\n",
      "2024-05-09 10:55:34.182844: W external/local_tsl/tsl/framework/bfc_allocator.cc:296] Allocator (GPU_0_bfc) ran out of memory trying to allocate 4.73GiB with freed_by_count=0. The caller indicates that this is not a failure, but this may mean that there could be performance gains if more memory were available.\n",
      "2024-05-09 10:55:34.396260: W external/local_tsl/tsl/framework/bfc_allocator.cc:296] Allocator (GPU_0_bfc) ran out of memory trying to allocate 4.16GiB with freed_by_count=0. The caller indicates that this is not a failure, but this may mean that there could be performance gains if more memory were available.\n"
     ]
    },
    {
     "name": "stdout",
     "output_type": "stream",
     "text": [
      "\u001b[1m  2/102\u001b[0m \u001b[37m━━━━━━━━━━━━━━━━━━━━\u001b[0m \u001b[1m8s\u001b[0m 87ms/step - accuracy: 0.0938 - loss: 8.4238 "
     ]
    },
    {
     "name": "stderr",
     "output_type": "stream",
     "text": [
      "I0000 00:00:1715277337.007219  196074 device_compiler.h:188] Compiled cluster using XLA!  This line is logged at most once for the lifetime of the process.\n"
     ]
    },
    {
     "name": "stdout",
     "output_type": "stream",
     "text": [
      "\u001b[1m101/102\u001b[0m \u001b[32m━━━━━━━━━━━━━━━━━━━\u001b[0m\u001b[37m━\u001b[0m \u001b[1m0s\u001b[0m 84ms/step - accuracy: 0.3482 - loss: 2.6561"
     ]
    },
    {
     "name": "stderr",
     "output_type": "stream",
     "text": [
      "2024-05-09 10:55:46.142192: W external/local_tsl/tsl/framework/bfc_allocator.cc:296] Allocator (GPU_0_bfc) ran out of memory trying to allocate 4.21GiB with freed_by_count=0. The caller indicates that this is not a failure, but this may mean that there could be performance gains if more memory were available.\n",
      "2024-05-09 10:55:46.555389: W external/local_tsl/tsl/framework/bfc_allocator.cc:296] Allocator (GPU_0_bfc) ran out of memory trying to allocate 4.14GiB with freed_by_count=0. The caller indicates that this is not a failure, but this may mean that there could be performance gains if more memory were available.\n",
      "2024-05-09 10:55:46.555425: W external/local_tsl/tsl/framework/bfc_allocator.cc:296] Allocator (GPU_0_bfc) ran out of memory trying to allocate 4.14GiB with freed_by_count=0. The caller indicates that this is not a failure, but this may mean that there could be performance gains if more memory were available.\n",
      "2024-05-09 10:55:47.019949: W external/local_tsl/tsl/framework/bfc_allocator.cc:296] Allocator (GPU_0_bfc) ran out of memory trying to allocate 4.09GiB with freed_by_count=0. The caller indicates that this is not a failure, but this may mean that there could be performance gains if more memory were available.\n"
     ]
    },
    {
     "name": "stdout",
     "output_type": "stream",
     "text": [
      "\u001b[1m102/102\u001b[0m \u001b[32m━━━━━━━━━━━━━━━━━━━━\u001b[0m\u001b[37m\u001b[0m \u001b[1m23s\u001b[0m 140ms/step - accuracy: 0.3502 - loss: 2.6323 - val_accuracy: 0.4283 - val_loss: 1.1043\n",
      "Epoch 2/25\n",
      "\u001b[1m102/102\u001b[0m \u001b[32m━━━━━━━━━━━━━━━━━━━━\u001b[0m\u001b[37m\u001b[0m \u001b[1m10s\u001b[0m 95ms/step - accuracy: 0.5354 - loss: 0.8900 - val_accuracy: 0.6727 - val_loss: 0.6710\n",
      "Epoch 3/25\n",
      "\u001b[1m102/102\u001b[0m \u001b[32m━━━━━━━━━━━━━━━━━━━━\u001b[0m\u001b[37m\u001b[0m \u001b[1m10s\u001b[0m 96ms/step - accuracy: 0.7128 - loss: 0.6230 - val_accuracy: 0.6943 - val_loss: 0.6155\n",
      "Epoch 4/25\n",
      "\u001b[1m102/102\u001b[0m \u001b[32m━━━━━━━━━━━━━━━━━━━━\u001b[0m\u001b[37m\u001b[0m \u001b[1m10s\u001b[0m 96ms/step - accuracy: 0.7336 - loss: 0.5604 - val_accuracy: 0.6965 - val_loss: 0.6118\n",
      "Epoch 5/25\n",
      "\u001b[1m102/102\u001b[0m \u001b[32m━━━━━━━━━━━━━━━━━━━━\u001b[0m\u001b[37m\u001b[0m \u001b[1m10s\u001b[0m 96ms/step - accuracy: 0.7329 - loss: 0.5561 - val_accuracy: 0.6770 - val_loss: 0.6508\n",
      "Epoch 6/25\n",
      "\u001b[1m102/102\u001b[0m \u001b[32m━━━━━━━━━━━━━━━━━━━━\u001b[0m\u001b[37m\u001b[0m \u001b[1m10s\u001b[0m 96ms/step - accuracy: 0.7176 - loss: 0.5991 - val_accuracy: 0.6914 - val_loss: 0.6020\n",
      "Epoch 7/25\n",
      "\u001b[1m102/102\u001b[0m \u001b[32m━━━━━━━━━━━━━━━━━━━━\u001b[0m\u001b[37m\u001b[0m \u001b[1m10s\u001b[0m 97ms/step - accuracy: 0.7488 - loss: 0.5203 - val_accuracy: 0.6986 - val_loss: 0.5883\n",
      "Epoch 8/25\n",
      "\u001b[1m102/102\u001b[0m \u001b[32m━━━━━━━━━━━━━━━━━━━━\u001b[0m\u001b[37m\u001b[0m \u001b[1m10s\u001b[0m 97ms/step - accuracy: 0.7784 - loss: 0.4810 - val_accuracy: 0.7231 - val_loss: 0.5988\n",
      "Epoch 9/25\n",
      "\u001b[1m102/102\u001b[0m \u001b[32m━━━━━━━━━━━━━━━━━━━━\u001b[0m\u001b[37m\u001b[0m \u001b[1m10s\u001b[0m 97ms/step - accuracy: 0.7831 - loss: 0.4583 - val_accuracy: 0.7109 - val_loss: 0.5787\n",
      "Epoch 10/25\n",
      "\u001b[1m102/102\u001b[0m \u001b[32m━━━━━━━━━━━━━━━━━━━━\u001b[0m\u001b[37m\u001b[0m \u001b[1m10s\u001b[0m 98ms/step - accuracy: 0.7929 - loss: 0.4345 - val_accuracy: 0.7210 - val_loss: 0.5662\n",
      "Epoch 11/25\n",
      "\u001b[1m102/102\u001b[0m \u001b[32m━━━━━━━━━━━━━━━━━━━━\u001b[0m\u001b[37m\u001b[0m \u001b[1m10s\u001b[0m 98ms/step - accuracy: 0.7902 - loss: 0.4428 - val_accuracy: 0.7275 - val_loss: 0.6156\n",
      "Epoch 12/25\n",
      "\u001b[1m102/102\u001b[0m \u001b[32m━━━━━━━━━━━━━━━━━━━━\u001b[0m\u001b[37m\u001b[0m \u001b[1m10s\u001b[0m 98ms/step - accuracy: 0.8293 - loss: 0.3934 - val_accuracy: 0.7087 - val_loss: 0.6270\n",
      "Epoch 13/25\n",
      "\u001b[1m102/102\u001b[0m \u001b[32m━━━━━━━━━━━━━━━━━━━━\u001b[0m\u001b[37m\u001b[0m \u001b[1m10s\u001b[0m 99ms/step - accuracy: 0.8388 - loss: 0.3572 - val_accuracy: 0.7376 - val_loss: 0.5884\n",
      "Epoch 14/25\n",
      "\u001b[1m102/102\u001b[0m \u001b[32m━━━━━━━━━━━━━━━━━━━━\u001b[0m\u001b[37m\u001b[0m \u001b[1m10s\u001b[0m 99ms/step - accuracy: 0.8568 - loss: 0.3178 - val_accuracy: 0.7296 - val_loss: 0.6332\n",
      "Epoch 15/25\n",
      "\u001b[1m102/102\u001b[0m \u001b[32m━━━━━━━━━━━━━━━━━━━━\u001b[0m\u001b[37m\u001b[0m \u001b[1m10s\u001b[0m 100ms/step - accuracy: 0.8678 - loss: 0.3210 - val_accuracy: 0.7246 - val_loss: 0.6891\n",
      "Epoch 16/25\n",
      "\u001b[1m102/102\u001b[0m \u001b[32m━━━━━━━━━━━━━━━━━━━━\u001b[0m\u001b[37m\u001b[0m \u001b[1m10s\u001b[0m 102ms/step - accuracy: 0.8859 - loss: 0.2646 - val_accuracy: 0.7195 - val_loss: 0.7238\n",
      "Epoch 17/25\n",
      "\u001b[1m102/102\u001b[0m \u001b[32m━━━━━━━━━━━━━━━━━━━━\u001b[0m\u001b[37m\u001b[0m \u001b[1m11s\u001b[0m 103ms/step - accuracy: 0.8935 - loss: 0.2596 - val_accuracy: 0.6994 - val_loss: 0.8254\n",
      "Epoch 18/25\n",
      "\u001b[1m102/102\u001b[0m \u001b[32m━━━━━━━━━━━━━━━━━━━━\u001b[0m\u001b[37m\u001b[0m \u001b[1m11s\u001b[0m 105ms/step - accuracy: 0.9067 - loss: 0.2188 - val_accuracy: 0.7159 - val_loss: 0.7760\n",
      "Epoch 19/25\n",
      "\u001b[1m102/102\u001b[0m \u001b[32m━━━━━━━━━━━━━━━━━━━━\u001b[0m\u001b[37m\u001b[0m \u001b[1m11s\u001b[0m 106ms/step - accuracy: 0.9144 - loss: 0.2049 - val_accuracy: 0.7080 - val_loss: 0.9398\n",
      "Epoch 20/25\n",
      "\u001b[1m102/102\u001b[0m \u001b[32m━━━━━━━━━━━━━━━━━━━━\u001b[0m\u001b[37m\u001b[0m \u001b[1m11s\u001b[0m 106ms/step - accuracy: 0.9414 - loss: 0.1561 - val_accuracy: 0.7138 - val_loss: 0.9474\n",
      "Epoch 21/25\n",
      "\u001b[1m102/102\u001b[0m \u001b[32m━━━━━━━━━━━━━━━━━━━━\u001b[0m\u001b[37m\u001b[0m \u001b[1m11s\u001b[0m 106ms/step - accuracy: 0.9480 - loss: 0.1294 - val_accuracy: 0.7094 - val_loss: 1.0130\n",
      "Epoch 22/25\n",
      "\u001b[1m102/102\u001b[0m \u001b[32m━━━━━━━━━━━━━━━━━━━━\u001b[0m\u001b[37m\u001b[0m \u001b[1m11s\u001b[0m 106ms/step - accuracy: 0.9522 - loss: 0.1242 - val_accuracy: 0.7044 - val_loss: 1.1253\n",
      "Epoch 23/25\n",
      "\u001b[1m102/102\u001b[0m \u001b[32m━━━━━━━━━━━━━━━━━━━━\u001b[0m\u001b[37m\u001b[0m \u001b[1m11s\u001b[0m 106ms/step - accuracy: 0.9443 - loss: 0.1569 - val_accuracy: 0.7008 - val_loss: 1.2738\n",
      "Epoch 24/25\n",
      "\u001b[1m102/102\u001b[0m \u001b[32m━━━━━━━━━━━━━━━━━━━━\u001b[0m\u001b[37m\u001b[0m \u001b[1m11s\u001b[0m 106ms/step - accuracy: 0.9610 - loss: 0.1204 - val_accuracy: 0.7051 - val_loss: 1.1881\n",
      "Epoch 25/25\n",
      "\u001b[1m102/102\u001b[0m \u001b[32m━━━━━━━━━━━━━━━━━━━━\u001b[0m\u001b[37m\u001b[0m \u001b[1m11s\u001b[0m 106ms/step - accuracy: 0.9739 - loss: 0.0786 - val_accuracy: 0.7174 - val_loss: 1.2286\n"
     ]
    },
    {
     "data": {
      "text/plain": [
       "<keras.src.callbacks.history.History at 0x7f0d628707f0>"
      ]
     },
     "execution_count": 17,
     "metadata": {},
     "output_type": "execute_result"
    }
   ],
   "source": [
    "model.fit(X_train, y_train, epochs=25, validation_data=(X_test, y_test),callbacks=[back])"
   ]
  },
  {
   "cell_type": "code",
   "execution_count": 18,
   "metadata": {},
   "outputs": [
    {
     "name": "stdout",
     "output_type": "stream",
     "text": [
      "\u001b[1m44/44\u001b[0m \u001b[32m━━━━━━━━━━━━━━━━━━━━\u001b[0m\u001b[37m\u001b[0m \u001b[1m1s\u001b[0m 27ms/step - accuracy: 0.7202 - loss: 1.3058\n",
      "Precisión del modelo en el conjunto de prueba: 0.717375636100769\n",
      "\u001b[1m44/44\u001b[0m \u001b[32m━━━━━━━━━━━━━━━━━━━━\u001b[0m\u001b[37m\u001b[0m \u001b[1m2s\u001b[0m 30ms/step\n",
      "Matriz de confusión:\n",
      "[[272  15  14]\n",
      " [ 10 395 157]\n",
      " [ 14 180 330]]\n"
     ]
    }
   ],
   "source": [
    "from sklearn.metrics import accuracy_score, confusion_matrix\n",
    "\n",
    "# Calcular la precisión del modelo en el conjunto de prueba\n",
    "test_loss, test_accuracy = model.evaluate(X_test, y_test)\n",
    "\n",
    "print(\"Precisión del modelo en el conjunto de prueba:\", test_accuracy)\n",
    "\n",
    "# Generar la matriz de confusión\n",
    "y_pred = model.predict(X_test)\n",
    "confusion_mat = confusion_matrix(y_test, np.argmax(y_pred, axis=1))\n",
    "\n",
    "print(\"Matriz de confusión:\")\n",
    "print(confusion_mat)\n"
   ]
  },
  {
   "cell_type": "code",
   "execution_count": 19,
   "metadata": {},
   "outputs": [
    {
     "name": "stdout",
     "output_type": "stream",
     "text": [
      "\u001b[1m44/44\u001b[0m \u001b[32m━━━━━━━━━━━━━━━━━━━━\u001b[0m\u001b[37m\u001b[0m \u001b[1m1s\u001b[0m 25ms/step\n"
     ]
    },
    {
     "data": {
      "image/png": "[encoded data removed]",
      "text/plain": [
       "<Figure size 800x600 with 2 Axes>"
      ]
     },
     "metadata": {},
     "output_type": "display_data"
    }
   ],
   "source": [
    "import matplotlib.pyplot as plt\n",
    "import seaborn as sns\n",
    "from sklearn.metrics import confusion_matrix\n",
    "\n",
    "# Generar la matriz de confusión\n",
    "y_pred = model.predict(X_test)\n",
    "confusion_mat = confusion_matrix(y_test, np.argmax(y_pred, axis=1))\n",
    "\n",
    "# Plotear la matriz de confusión\n",
    "plt.figure(figsize=(8, 6))\n",
    "sns.heatmap(confusion_mat, annot=True, fmt='d', cmap='Blues')\n",
    "plt.title('Matriz de Confusión')\n",
    "plt.xlabel('Etiqueta Predicha')\n",
    "plt.ylabel('Etiqueta Verdadera')\n",
    "plt.show()\n"
   ]
  },
  {
   "cell_type": "code",
   "execution_count": 21,
   "metadata": {},
   "outputs": [
    {
     "name": "stdout",
     "output_type": "stream",
     "text": [
      "\u001b[1m1/1\u001b[0m \u001b[32m━━━━━━━━━━━━━━━━━━━━\u001b[0m\u001b[37m\u001b[0m \u001b[1m0s\u001b[0m 479ms/step\n",
      "Clase predicha: Bored\n"
     ]
    }
   ],
   "source": [
    "import numpy as np\n",
    "from PIL import Image\n",
    "\n",
    "# Cargar y preprocesar la imagen\n",
    "def cargar_y_preprocesar_imagen(ruta_imagen, nuevo_ancho, nuevo_alto):\n",
    "    imagen = Image.open(ruta_imagen).convert('L')  # Convertir a escala de grises si es necesario\n",
    "    imagen = imagen.resize((nuevo_ancho, nuevo_alto))\n",
    "    imagen_array = np.array(imagen)\n",
    "    imagen_array = np.expand_dims(imagen_array, axis=0)  # Agregar una dimensión de lote\n",
    "    imagen_array = np.expand_dims(imagen_array, axis=3)  # Agregar una dimensión de canal (para escala de grises)\n",
    "    return imagen_array\n",
    "\n",
    "# Definir la ruta de la imagen a predecir\n",
    "ruta_imagen = '62.jpg'\n",
    "\n",
    "# Cargar y preprocesar la imagen\n",
    "imagen_array = cargar_y_preprocesar_imagen(ruta_imagen, 150, 150)\n",
    "\n",
    "# Realizar la predicción\n",
    "prediccion = model.predict(imagen_array)\n",
    "\n",
    "# Obtener la clase predicha\n",
    "clase_predicha = np.argmax(prediccion)\n",
    "\n",
    "# Imprimir la clase predicha\n",
    "clases = ['Bored','Engaged' ,'Excited']\n",
    "print(\"Clase predicha:\", clases[clase_predicha])"
   ]
  },
  {
   "cell_type": "code",
   "execution_count": null,
   "metadata": {},
   "outputs": [],
   "source": []
  },
  {
   "cell_type": "code",
   "execution_count": 23,
   "metadata": {},
   "outputs": [
    {
     "name": "stderr",
     "output_type": "stream",
     "text": [
      "WARNING:absl:You are saving your model as an HDF5 file via `model.save()` or `keras.saving.save_model(model)`. This file format is considered legacy. We recommend using instead the native Keras format, e.g. `model.save('my_model.keras')` or `keras.saving.save_model(model, 'my_model.keras')`. \n"
     ]
    }
   ],
   "source": [
    "model.save('modeloCNN4.h5')"
   ]
  }
 ],
 "metadata": {
  "kernelspec": {
   "display_name": "Python 3",
   "language": "python",
   "name": "python3"
  },
  "language_info": {
   "codemirror_mode": {
    "name": "ipython",
    "version": 3
   },
   "file_extension": ".py",
   "mimetype": "text/x-python",
   "name": "python",
   "nbconvert_exporter": "python",
   "pygments_lexer": "ipython3",
   "version": "3.9.19"
  }
 },
 "nbformat": 4,
 "nbformat_minor": 2
}
