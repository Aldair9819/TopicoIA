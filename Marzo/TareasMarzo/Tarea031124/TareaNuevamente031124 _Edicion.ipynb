{
 "cells": [
  {
   "cell_type": "code",
   "execution_count": 1,
   "metadata": {},
   "outputs": [],
   "source": [
    "import face_recognition\n",
    "from PIL import Image\n",
    "from PIL import ImageDraw\n",
    "import PIL.Image as Image\n",
    "import os\n",
    "import base64\n",
    "from PIL import Image\n",
    "from io import BytesIO\n",
    "import numpy as np\n",
    "import pandas as pd\n",
    "\n"
   ]
  },
  {
   "cell_type": "code",
   "execution_count": 2,
   "metadata": {},
   "outputs": [],
   "source": [
    "def imprimirCara(imagen):\n",
    "    pil_image = Image.fromarray(imagen)\n",
    "    pil_image.show()\n",
    "    \n",
    "def imprimirTodo(imagen,cara):\n",
    "    imprimirCara(imagen)\n",
    "    pil_image = Image.fromarray(recortarCara(imagen,cara))\n",
    "    pil_image.show()\n",
    "\n",
    "def recortarCara(imagen, cara):\n",
    "    top, right, bottom, left = cara\n",
    "    cara_recortada = imagen[top:bottom, left:right]\n",
    "    return cara_recortada\n",
    "\n",
    "def hasFace(face_locations):\n",
    "    if len(face_locations) > 0:\n",
    "        return True\n",
    "    else:\n",
    "        return False"
   ]
  },
  {
   "cell_type": "code",
   "execution_count": 3,
   "metadata": {},
   "outputs": [],
   "source": [
    "def pausa():\n",
    "    input(\"Presione una tecla para continuar...\")"
   ]
  },
  {
   "cell_type": "code",
   "execution_count": 4,
   "metadata": {},
   "outputs": [],
   "source": [
    "def info_foto(ruta, imagen):\n",
    "    #Carga imagen\n",
    "    imagen = face_recognition.load_image_file(ruta)\n",
    "    #imagen_redimensionada = Image.fromarray(imagen).resize((150, 150))\n",
    "    #Imagen en String\n",
    "    \n",
    "    #Busca la cara\n",
    "    face_locations = face_recognition.face_locations(imagen)\n",
    "    print(\"Localizacion cara:\"+face_locations)\n",
    "    pausa()\n",
    "    try:\n",
    "       #Recorta la cara\n",
    "        cara = face_locations[0]\n",
    "        print(\"cara:\"+cara)\n",
    "        pausa()\n",
    "        cara_recortada = recortarCara(imagen,cara)\n",
    "        print(\"cara recortada:\"+cara_recortada)\n",
    "        pausa()\n",
    "        #cara_recortada_redimensionada = Image.fromarray(cara_recortada).resize((150, 150))\n",
    "\n",
    "        #Patrones de la cara\n",
    "        face_landmarks_list = face_recognition.face_landmarks(imagen)\n",
    "        print(\"Patrones de la cara:\"+face_landmarks_list)\n",
    "        pausa()\n",
    "        caracteristicas = []\n",
    "        for clave,valor in face_landmarks_list[0].items():\n",
    "            caracteristicas.append(valor)\n",
    "        \n",
    "        folder_name = os.path.basename(os.path.dirname(ruta))\n",
    "        print(\"Folder name:\"+folder_name)\n",
    "        pausa()\n",
    "        \n",
    "        return [imagen, caracteristicas,cara, folder_name]\n",
    "    except IndexError:\n",
    "        input(\"Error-Presione Enter para continuar...\")\n",
    "        return\n",
    "    except Exception as e:\n",
    "        # Manejar otras excepciones\n",
    "        print(f\"Se produjo una excepción: {e}\")\n",
    "        return\n",
    "\n",
    "    \n",
    "    "
   ]
  },
  {
   "cell_type": "code",
   "execution_count": 5,
   "metadata": {},
   "outputs": [],
   "source": [
    "def sacar_datos_imagen(carpeta_raiz):\n",
    "    matriz_principal = {'Imagen':[],'Rostro':[],'Corte':[],'Etiqueta':[]}\n",
    "    # Recorrer todas las carpetas, subcarpetas y archivos de la carpeta raíz\n",
    "    for carpeta_actual, subcarpetas, archivos in os.walk(carpeta_raiz):\n",
    "        # Recorrer todos los archivos de la carpeta actual\n",
    "        for archivo in archivos:\n",
    "            # Obtener la ruta completa del archivo\n",
    "            ruta_completa = os.path.join(carpeta_actual, archivo)\n",
    "            try:\n",
    "                with Image.open(ruta_completa):\n",
    "                    # Imprimir el nombre del archivo y el directorio\n",
    "                    folder_name = os.path.basename(os.path.dirname(ruta_completa))\n",
    "                    print(f\"Imagen: {archivo} - Directorio: {folder_name}\")\n",
    "                    try:\n",
    "                        dato = info_foto(ruta_completa, archivo)\n",
    "                        Imagen = dato[0]\n",
    "                        Rostro = dato[1]\n",
    "                        Corte = dato[2]\n",
    "                        Etiqueta = dato[3]\n",
    "                        matriz_principal['Imagen'].append(Imagen)\n",
    "                        matriz_principal['Rostro'].append(Rostro)\n",
    "                        matriz_principal['Corte'].append(Corte)\n",
    "                        matriz_principal['Etiqueta'].append(Etiqueta)\n",
    "                            #procesoCapturaDato(dato)\n",
    "                    except IndexError as e:\n",
    "                        print(\"Error de Index en imagen:\"+archivo)\n",
    "                    except TypeError as e:\n",
    "                        print(\"Error de Tipo en imagen:\"+archivo)\n",
    "                        pausa()\n",
    "                        \n",
    "\n",
    "            except (IOError, OSError):\n",
    "                # Ignorar archivos que no son imágenes\n",
    "                pass\n",
    "    print(\"Terminado\")\n",
    "    return matriz_principal\n",
    "\n",
    "\n"
   ]
  },
  {
   "cell_type": "code",
   "execution_count": 6,
   "metadata": {},
   "outputs": [],
   "source": [
    "def checandoUnaFoto():\n",
    "    print(\"Hola\")\n",
    "    rutaE = \"Marzo\\\\BD\\\\corpus_images\\\\bored\\\\227.jpeg\"\n",
    "    imagen = face_recognition.load_image_file(rutaE)\n",
    "    return info_foto(rutaE,imagen)"
   ]
  },
  {
   "cell_type": "code",
   "execution_count": 7,
   "metadata": {},
   "outputs": [
    {
     "name": "stdout",
     "output_type": "stream",
     "text": [
      "Inicio\n",
      "Imagen: 100.jpeg - Directorio: bored\n",
      "Error de Tipo en imagen:100.jpeg\n"
     ]
    }
   ],
   "source": [
    "print(\"Inicio\")\n",
    "ruta_de_tu_carpeta = 'C:\\\\Users\\\\Waldosir\\\\Documents\\\\2doCodigo\\\\TopicoIA\\\\Marzo\\\\BD\\\\corpus_images'\n",
    "#ruta_Prueba = \"Marzo\\image.png\"\n",
    "matriz = sacar_datos_imagen(ruta_de_tu_carpeta)\n",
    "#matrizPrueba = checandoUnaFoto()\n"
   ]
  },
  {
   "cell_type": "code",
   "execution_count": null,
   "metadata": {},
   "outputs": [
    {
     "data": {
      "text/html": [
       "<div>\n",
       "<style scoped>\n",
       "    .dataframe tbody tr th:only-of-type {\n",
       "        vertical-align: middle;\n",
       "    }\n",
       "\n",
       "    .dataframe tbody tr th {\n",
       "        vertical-align: top;\n",
       "    }\n",
       "\n",
       "    .dataframe thead th {\n",
       "        text-align: right;\n",
       "    }\n",
       "</style>\n",
       "<table border=\"1\" class=\"dataframe\">\n",
       "  <thead>\n",
       "    <tr style=\"text-align: right;\">\n",
       "      <th></th>\n",
       "      <th>Imagen</th>\n",
       "      <th>Rostro</th>\n",
       "      <th>Corte</th>\n",
       "      <th>Etiqueta</th>\n",
       "    </tr>\n",
       "  </thead>\n",
       "  <tbody>\n",
       "  </tbody>\n",
       "</table>\n",
       "</div>"
      ],
      "text/plain": [
       "Empty DataFrame\n",
       "Columns: [Imagen, Rostro, Corte, Etiqueta]\n",
       "Index: []"
      ]
     },
     "execution_count": 37,
     "metadata": {},
     "output_type": "execute_result"
    }
   ],
   "source": [
    "#print(matrizPrueba)\n",
    "df = pd.DataFrame(matriz)\n",
    "df.head()\n",
    "#print(\"Final\")"
   ]
  },
  {
   "cell_type": "code",
   "execution_count": null,
   "metadata": {},
   "outputs": [],
   "source": [
    "df.to_csv('datos.csv', index=False)"
   ]
  }
 ],
 "metadata": {
  "kernelspec": {
   "display_name": "Python 3",
   "language": "python",
   "name": "python3"
  },
  "language_info": {
   "codemirror_mode": {
    "name": "ipython",
    "version": 3
   },
   "file_extension": ".py",
   "mimetype": "text/x-python",
   "name": "python",
   "nbconvert_exporter": "python",
   "pygments_lexer": "ipython3",
   "version": "3.9.13"
  }
 },
 "nbformat": 4,
 "nbformat_minor": 2
}
