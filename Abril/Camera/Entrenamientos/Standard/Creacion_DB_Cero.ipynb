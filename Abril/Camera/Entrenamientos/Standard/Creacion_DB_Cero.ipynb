{
 "cells": [
  {
   "cell_type": "code",
   "execution_count": 16,
   "metadata": {},
   "outputs": [],
   "source": [
    "import os\n",
    "import pandas as pd\n",
    "import face_recognition\n",
    "import matplotlib.pyplot as plt\n",
    "import cv2\n",
    "import numpy as np\n",
    "\n",
    "ruta_carpeta = '/home/waldos/Documents/2doCodigo/TopicoIA/BD/corpus_images'"
   ]
  },
  {
   "cell_type": "code",
   "execution_count": 19,
   "metadata": {},
   "outputs": [
    {
     "ename": "FileNotFoundError",
     "evalue": "[Errno 2] No such file or directory: '/home/waldos/Documents/2doCodigo/TopicoIA/BD/corpus_images/focused/relaxed/excited/engaged/interested/bored'",
     "output_type": "error",
     "traceback": [
      "\u001b[0;31m---------------------------------------------------------------------------\u001b[0m",
      "\u001b[0;31mFileNotFoundError\u001b[0m                         Traceback (most recent call last)",
      "Cell \u001b[0;32mIn[19], line 4\u001b[0m\n\u001b[1;32m      1\u001b[0m \u001b[38;5;66;03m#Crear lista para almacenar datos de imagenes\u001b[39;00m\n\u001b[1;32m      2\u001b[0m directorio \u001b[38;5;241m=\u001b[39m {\u001b[38;5;124m'\u001b[39m\u001b[38;5;124mImagen\u001b[39m\u001b[38;5;124m'\u001b[39m:[], \u001b[38;5;124m'\u001b[39m\u001b[38;5;124mCaracteristicas\u001b[39m\u001b[38;5;124m'\u001b[39m:[], \u001b[38;5;124m'\u001b[39m\u001b[38;5;124mRostro\u001b[39m\u001b[38;5;124m'\u001b[39m:[], \u001b[38;5;124m'\u001b[39m\u001b[38;5;124mEtiqueta\u001b[39m\u001b[38;5;124m'\u001b[39m: []}\n\u001b[0;32m----> 4\u001b[0m \u001b[38;5;28;01mfor\u001b[39;00m nombre_carpeta \u001b[38;5;129;01min\u001b[39;00m \u001b[43mos\u001b[49m\u001b[38;5;241;43m.\u001b[39;49m\u001b[43mlistdir\u001b[49m\u001b[43m(\u001b[49m\u001b[43mruta_carpeta\u001b[49m\u001b[43m)\u001b[49m:\n\u001b[1;32m      5\u001b[0m     ruta_carpeta \u001b[38;5;241m=\u001b[39m os\u001b[38;5;241m.\u001b[39mpath\u001b[38;5;241m.\u001b[39mjoin(ruta_carpeta, nombre_carpeta)\n\u001b[1;32m      6\u001b[0m     \u001b[38;5;28;01mif\u001b[39;00m os\u001b[38;5;241m.\u001b[39mpath\u001b[38;5;241m.\u001b[39misdir(ruta_carpeta):\n",
      "\u001b[0;31mFileNotFoundError\u001b[0m: [Errno 2] No such file or directory: '/home/waldos/Documents/2doCodigo/TopicoIA/BD/corpus_images/focused/relaxed/excited/engaged/interested/bored'"
     ]
    }
   ],
   "source": [
    "#Crear lista para almacenar datos de imagenes\n",
    "directorio = {'Imagen':[], 'Caracteristicas':[], 'Rostro':[], 'Etiqueta': []}\n",
    "\n",
    "for nombre_carpeta in os.listdir(ruta_carpeta):\n",
    "    ruta_carpeta = os.path.join(ruta_carpeta, nombre_carpeta)\n",
    "    if os.path.isdir(ruta_carpeta):\n",
    "        for nombre_archivo in os.listdir(ruta_carpeta):\n",
    "            try:\n",
    "                ruta_archivo = os.path.join(ruta_carpeta, nombre_archivo)\n",
    "                imagen_BGR = cv2.imread(ruta_archivo)\n",
    "\n",
    "                imagen_RGB = cv2.cvtColor(imagen_BGR, cv2.COLOR_BGR2RGB)\n",
    "\n",
    "                imagen_redimensionada = cv2.resize(imagen_RGB,(150,150))\n",
    "\n",
    "                caracteristicas_faciales = face_recognition.face_landmarks(imagen_redimensionada)\n",
    "                \n",
    "                arriba,derecha,abajo,izquierda = face_recognition.face_locations(imagen_redimensionada)[0]\n",
    "\n",
    "                cara_recortada = imagen_redimensionada[arriba:abajo, izquierda:derecha]\n",
    "\n",
    "                directorio['Imagen'].append(imagen_redimensionada)\n",
    "                directorio['Caracteristicas'].append(caracteristicas_faciales)\n",
    "                directorio['Rostro'].append(cara_recortada)\n",
    "                directorio['Etiqueta'].append(nombre_carpeta)\n",
    "                \n",
    "\n",
    "            except Exception as e:\n",
    "                print(\"Error en archivo:\"+str(nombre_archivo)+\":\"+str(e))"
   ]
  }
 ],
 "metadata": {
  "kernelspec": {
   "display_name": "tf",
   "language": "python",
   "name": "python3"
  },
  "language_info": {
   "codemirror_mode": {
    "name": "ipython",
    "version": 3
   },
   "file_extension": ".py",
   "mimetype": "text/x-python",
   "name": "python",
   "nbconvert_exporter": "python",
   "pygments_lexer": "ipython3",
   "version": "3.9.19"
  }
 },
 "nbformat": 4,
 "nbformat_minor": 2
}
