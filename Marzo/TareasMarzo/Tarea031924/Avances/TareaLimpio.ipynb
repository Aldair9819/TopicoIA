{
 "cells": [
  {
   "cell_type": "markdown",
   "metadata": {},
   "source": [
    "Importamos librerias y definimos la ruta de la base de datos"
   ]
  },
  {
   "cell_type": "code",
   "execution_count": 6,
   "metadata": {},
   "outputs": [],
   "source": [
    "import os\n",
    "import pandas as pd\n",
    "import face_recognition\n",
    "from PIL import Image\n",
    "import matplotlib.pyplot as plt\n",
    "import random\n",
    "import numpy as np\n",
    "\n",
    "# Definir la ruta de la carpeta que contiene las imágenes\n",
    "ruta_carpeta = 'C:\\\\Users\\\\Waldosir\\\\Documents\\\\2doCodigo\\\\TopicoIA\\\\Marzo\\\\BD\\\\corpus_images'\n",
    "\n"
   ]
  },
  {
   "cell_type": "markdown",
   "metadata": {},
   "source": [
    "Recorremos toda la carpeta y hacemos una matriz con todos los datos de todas las imagenes"
   ]
  },
  {
   "cell_type": "code",
   "execution_count": 24,
   "metadata": {},
   "outputs": [
    {
     "name": "stdout",
     "output_type": "stream",
     "text": [
      "Error en archivo:225.jpeg\n",
      "Error en archivo:226.jpeg\n",
      "Error en archivo:228.jpeg\n",
      "Error en archivo:230.jpeg\n",
      "Error en archivo:234.jpeg\n",
      "Error en archivo:240.jpeg\n",
      "Error en archivo:241.jpeg\n",
      "Error en archivo:242.jpeg\n",
      "Error en archivo:243.jpeg\n",
      "Error en archivo:250.jpeg\n",
      "Error en archivo:251.jpeg\n",
      "Error en archivo:255.jpeg\n",
      "Error en archivo:256.jpeg\n",
      "Error en archivo:identificador_1558_2016-11-28_14-55-22.jpeg\n",
      "Error en archivo:identificador_3018_2016-11-30_11-18-55.jpeg\n",
      "Error en archivo:identificador_5867_2016-12-05_15-02-28.jpeg\n",
      "Error en archivo:identificador_993_2016-11-09_14-05-22.jpeg\n",
      "Error en archivo:identificador_5772_2016-12-05_14-31-53.jpeg\n",
      "Error en archivo:identificador_994_2016-11-09_14-05-26.jpeg\n"
     ]
    }
   ],
   "source": [
    "# Crear una lista para almacenar los datos de las imágenes\n",
    "datos_imagen_recortada = []\n",
    "# Recorrer la carpeta para buscar archivos jpg\n",
    "for carpeta_nombre in os.listdir(ruta_carpeta):\n",
    "    carpeta_ruta = os.path.join(ruta_carpeta, carpeta_nombre)\n",
    "    if os.path.isdir(carpeta_ruta):\n",
    "        for archivo_nombre in os.listdir(carpeta_ruta):\n",
    "            try:\n",
    "                archivo_ruta = os.path.join(carpeta_ruta, archivo_nombre)\n",
    "                \n",
    "                # Cargar la imagen utilizando PIL (Pillow)\n",
    "                imagen = face_recognition.load_image_file(archivo_ruta)\n",
    "                \n",
    "                # Redimensionar la imagen a 150x150\n",
    "                imagen_redimensionada = np.array(Image.fromarray(imagen).resize((150, 150)))\n",
    "                # Obtener los landmarks faciales\n",
    "                landmarks = face_recognition.face_landmarks(imagen_redimensionada)\n",
    "                \n",
    "                caracteristicas = []\n",
    "                for clave,valor in landmarks[0].items():\n",
    "                    caracteristicas.append(valor)\n",
    "\n",
    "                # Detectar los rostros en la imagen\n",
    "                rostros = face_recognition.face_locations(imagen_redimensionada)\n",
    "\n",
    "                #Recorta la cara\n",
    "                cara = rostros[0]\n",
    "                top, right, bottom, left = cara\n",
    "                cara_recortada = imagen_redimensionada[top:bottom, left:right]\n",
    "                \n",
    "                # Agregar la información de la imagen al DataFrame\n",
    "                datos_imagen_recortada.append([imagen_redimensionada, caracteristicas,cara_recortada,carpeta_nombre])\n",
    "            except Exception as e:\n",
    "                print(\"Error en archivo:\"+str(archivo_nombre))"
   ]
  },
  {
   "cell_type": "code",
   "execution_count": 25,
   "metadata": {},
   "outputs": [
    {
     "data": {
      "text/html": [
       "<div>\n",
       "<style scoped>\n",
       "    .dataframe tbody tr th:only-of-type {\n",
       "        vertical-align: middle;\n",
       "    }\n",
       "\n",
       "    .dataframe tbody tr th {\n",
       "        vertical-align: top;\n",
       "    }\n",
       "\n",
       "    .dataframe thead th {\n",
       "        text-align: right;\n",
       "    }\n",
       "</style>\n",
       "<table border=\"1\" class=\"dataframe\">\n",
       "  <thead>\n",
       "    <tr style=\"text-align: right;\">\n",
       "      <th></th>\n",
       "      <th>Imagen</th>\n",
       "      <th>Caracteristicas</th>\n",
       "      <th>Rostro</th>\n",
       "      <th>Etiqueta</th>\n",
       "    </tr>\n",
       "  </thead>\n",
       "  <tbody>\n",
       "    <tr>\n",
       "      <th>0</th>\n",
       "      <td>[[[165, 165, 162], [165, 166, 161], [165, 166,...</td>\n",
       "      <td>[[(62, 83), (62, 88), (62, 92), (63, 97), (64,...</td>\n",
       "      <td>[[[160, 162, 161], [160, 162, 161], [160, 162,...</td>\n",
       "      <td>bored</td>\n",
       "    </tr>\n",
       "    <tr>\n",
       "      <th>1</th>\n",
       "      <td>[[[164, 166, 161], [165, 167, 162], [164, 166,...</td>\n",
       "      <td>[[(62, 83), (62, 87), (63, 92), (63, 97), (64,...</td>\n",
       "      <td>[[[160, 162, 160], [161, 162, 161], [160, 161,...</td>\n",
       "      <td>bored</td>\n",
       "    </tr>\n",
       "    <tr>\n",
       "      <th>2</th>\n",
       "      <td>[[[165, 165, 163], [165, 165, 163], [164, 165,...</td>\n",
       "      <td>[[(63, 82), (63, 87), (63, 91), (63, 96), (65,...</td>\n",
       "      <td>[[[159, 161, 158], [160, 162, 159], [161, 162,...</td>\n",
       "      <td>bored</td>\n",
       "    </tr>\n",
       "    <tr>\n",
       "      <th>3</th>\n",
       "      <td>[[[165, 166, 162], [165, 165, 163], [165, 165,...</td>\n",
       "      <td>[[(63, 83), (63, 87), (63, 92), (63, 97), (64,...</td>\n",
       "      <td>[[[159, 161, 158], [161, 163, 160], [155, 157,...</td>\n",
       "      <td>bored</td>\n",
       "    </tr>\n",
       "    <tr>\n",
       "      <th>4</th>\n",
       "      <td>[[[165, 166, 161], [166, 167, 162], [165, 167,...</td>\n",
       "      <td>[[(63, 82), (63, 87), (63, 91), (63, 96), (65,...</td>\n",
       "      <td>[[[160, 162, 159], [161, 163, 161], [152, 154,...</td>\n",
       "      <td>bored</td>\n",
       "    </tr>\n",
       "  </tbody>\n",
       "</table>\n",
       "</div>"
      ],
      "text/plain": [
       "                                              Imagen  \\\n",
       "0  [[[165, 165, 162], [165, 166, 161], [165, 166,...   \n",
       "1  [[[164, 166, 161], [165, 167, 162], [164, 166,...   \n",
       "2  [[[165, 165, 163], [165, 165, 163], [164, 165,...   \n",
       "3  [[[165, 166, 162], [165, 165, 163], [165, 165,...   \n",
       "4  [[[165, 166, 161], [166, 167, 162], [165, 167,...   \n",
       "\n",
       "                                     Caracteristicas  \\\n",
       "0  [[(62, 83), (62, 88), (62, 92), (63, 97), (64,...   \n",
       "1  [[(62, 83), (62, 87), (63, 92), (63, 97), (64,...   \n",
       "2  [[(63, 82), (63, 87), (63, 91), (63, 96), (65,...   \n",
       "3  [[(63, 83), (63, 87), (63, 92), (63, 97), (64,...   \n",
       "4  [[(63, 82), (63, 87), (63, 91), (63, 96), (65,...   \n",
       "\n",
       "                                              Rostro Etiqueta  \n",
       "0  [[[160, 162, 161], [160, 162, 161], [160, 162,...    bored  \n",
       "1  [[[160, 162, 160], [161, 162, 161], [160, 161,...    bored  \n",
       "2  [[[159, 161, 158], [160, 162, 159], [161, 162,...    bored  \n",
       "3  [[[159, 161, 158], [161, 163, 160], [155, 157,...    bored  \n",
       "4  [[[160, 162, 159], [161, 163, 161], [152, 154,...    bored  "
      ]
     },
     "execution_count": 25,
     "metadata": {},
     "output_type": "execute_result"
    }
   ],
   "source": [
    "columnas = ['Imagen', 'Caracteristicas', 'Rostro', 'Etiqueta']\n",
    "df_imagenes_recortadas = pd.DataFrame(datos_imagen_recortada, columns=columnas)\n",
    "df_imagenes_recortadas.head()"
   ]
  },
  {
   "cell_type": "markdown",
   "metadata": {},
   "source": [
    "Conversion a JSON. Es muy pesado, por lo que pasamos de ello."
   ]
  },
  {
   "cell_type": "code",
   "execution_count": 9,
   "metadata": {},
   "outputs": [],
   "source": [
    "#df_imagenes_recortadas.to_json('test.csv')"
   ]
  },
  {
   "cell_type": "code",
   "execution_count": 10,
   "metadata": {},
   "outputs": [],
   "source": [
    "#df_jason = pd.read_json('test.csv')\n",
    "#df_jason.head()"
   ]
  },
  {
   "cell_type": "markdown",
   "metadata": {},
   "source": [
    "Pickle es una buena opción. Este se usa para serializar objetos en Python. Lamentablemente su uso está únicamente destinado a Python"
   ]
  },
  {
   "cell_type": "code",
   "execution_count": 11,
   "metadata": {},
   "outputs": [],
   "source": [
    "#df_imagenes_recortadas.to_pickle('test.pkl')"
   ]
  },
  {
   "cell_type": "code",
   "execution_count": 12,
   "metadata": {},
   "outputs": [],
   "source": [
    "#df_pickle = pd.read_pickle('test.pkl')\n",
    "#df_pickle.head()"
   ]
  },
  {
   "cell_type": "markdown",
   "metadata": {},
   "source": [
    "HDF5 es una gran opción. Se usa para el manejo de datos y pueden utilizarlo otros lenguajes o programas como MATLAB y Java. Está destinado para manejo de grandes datos."
   ]
  },
  {
   "cell_type": "markdown",
   "metadata": {},
   "source": [
    "Instalar tables para usar hdf5"
   ]
  },
  {
   "cell_type": "code",
   "execution_count": 13,
   "metadata": {},
   "outputs": [
    {
     "name": "stdout",
     "output_type": "stream",
     "text": [
      "Requirement already satisfied: tables in c:\\users\\waldosir\\appdata\\local\\packages\\pythonsoftwarefoundation.python.3.9_qbz5n2kfra8p0\\localcache\\local-packages\\python39\\site-packages (3.9.2)\n",
      "Requirement already satisfied: numpy>=1.19.0 in c:\\users\\waldosir\\appdata\\local\\packages\\pythonsoftwarefoundation.python.3.9_qbz5n2kfra8p0\\localcache\\local-packages\\python39\\site-packages (from tables) (1.26.4)\n",
      "Requirement already satisfied: numexpr>=2.6.2 in c:\\users\\waldosir\\appdata\\local\\packages\\pythonsoftwarefoundation.python.3.9_qbz5n2kfra8p0\\localcache\\local-packages\\python39\\site-packages (from tables) (2.9.0)\n",
      "Requirement already satisfied: packaging in c:\\users\\waldosir\\appdata\\local\\packages\\pythonsoftwarefoundation.python.3.9_qbz5n2kfra8p0\\localcache\\local-packages\\python39\\site-packages (from tables) (23.2)\n",
      "Requirement already satisfied: py-cpuinfo in c:\\users\\waldosir\\appdata\\local\\packages\\pythonsoftwarefoundation.python.3.9_qbz5n2kfra8p0\\localcache\\local-packages\\python39\\site-packages (from tables) (9.0.0)\n",
      "Requirement already satisfied: blosc2>=2.3.0 in c:\\users\\waldosir\\appdata\\local\\packages\\pythonsoftwarefoundation.python.3.9_qbz5n2kfra8p0\\localcache\\local-packages\\python39\\site-packages (from tables) (2.5.1)\n",
      "Requirement already satisfied: ndindex>=1.4 in c:\\users\\waldosir\\appdata\\local\\packages\\pythonsoftwarefoundation.python.3.9_qbz5n2kfra8p0\\localcache\\local-packages\\python39\\site-packages (from blosc2>=2.3.0->tables) (1.8)\n",
      "Requirement already satisfied: msgpack in c:\\users\\waldosir\\appdata\\local\\packages\\pythonsoftwarefoundation.python.3.9_qbz5n2kfra8p0\\localcache\\local-packages\\python39\\site-packages (from blosc2>=2.3.0->tables) (1.0.8)\n",
      "Note: you may need to restart the kernel to use updated packages.\n"
     ]
    }
   ],
   "source": [
    "pip install tables"
   ]
  },
  {
   "cell_type": "code",
   "execution_count": 26,
   "metadata": {},
   "outputs": [
    {
     "name": "stderr",
     "output_type": "stream",
     "text": [
      "C:\\Users\\Waldosir\\AppData\\Local\\Temp\\ipykernel_10892\\365625603.py:1: PerformanceWarning: \n",
      "your performance may suffer as PyTables will pickle object types that it cannot\n",
      "map directly to c-types [inferred_type->mixed,key->block0_values] [items->Index(['Imagen', 'Caracteristicas', 'Rostro', 'Etiqueta'], dtype='object')]\n",
      "\n",
      "  df_imagenes_recortadas.to_hdf('testHDF.h5', key='dataframe', mode='w')\n"
     ]
    }
   ],
   "source": [
    "df_imagenes_recortadas.to_hdf('testHDF.h5', key='dataframe', mode='w')"
   ]
  },
  {
   "cell_type": "markdown",
   "metadata": {},
   "source": [
    "Leer el archivo creado"
   ]
  },
  {
   "cell_type": "code",
   "execution_count": 27,
   "metadata": {},
   "outputs": [],
   "source": [
    "df_imagenes_recortadas_delHDF = pd.read_hdf('testHDF.h5')\n"
   ]
  },
  {
   "cell_type": "code",
   "execution_count": 28,
   "metadata": {},
   "outputs": [
    {
     "data": {
      "text/html": [
       "<div>\n",
       "<style scoped>\n",
       "    .dataframe tbody tr th:only-of-type {\n",
       "        vertical-align: middle;\n",
       "    }\n",
       "\n",
       "    .dataframe tbody tr th {\n",
       "        vertical-align: top;\n",
       "    }\n",
       "\n",
       "    .dataframe thead th {\n",
       "        text-align: right;\n",
       "    }\n",
       "</style>\n",
       "<table border=\"1\" class=\"dataframe\">\n",
       "  <thead>\n",
       "    <tr style=\"text-align: right;\">\n",
       "      <th></th>\n",
       "      <th>Imagen</th>\n",
       "      <th>Caracteristicas</th>\n",
       "      <th>Rostro</th>\n",
       "      <th>Etiqueta</th>\n",
       "    </tr>\n",
       "  </thead>\n",
       "  <tbody>\n",
       "    <tr>\n",
       "      <th>0</th>\n",
       "      <td>[[[165, 165, 162], [165, 166, 161], [165, 166,...</td>\n",
       "      <td>[[(62, 83), (62, 88), (62, 92), (63, 97), (64,...</td>\n",
       "      <td>[[[160, 162, 161], [160, 162, 161], [160, 162,...</td>\n",
       "      <td>bored</td>\n",
       "    </tr>\n",
       "    <tr>\n",
       "      <th>1</th>\n",
       "      <td>[[[164, 166, 161], [165, 167, 162], [164, 166,...</td>\n",
       "      <td>[[(62, 83), (62, 87), (63, 92), (63, 97), (64,...</td>\n",
       "      <td>[[[160, 162, 160], [161, 162, 161], [160, 161,...</td>\n",
       "      <td>bored</td>\n",
       "    </tr>\n",
       "    <tr>\n",
       "      <th>2</th>\n",
       "      <td>[[[165, 165, 163], [165, 165, 163], [164, 165,...</td>\n",
       "      <td>[[(63, 82), (63, 87), (63, 91), (63, 96), (65,...</td>\n",
       "      <td>[[[159, 161, 158], [160, 162, 159], [161, 162,...</td>\n",
       "      <td>bored</td>\n",
       "    </tr>\n",
       "    <tr>\n",
       "      <th>3</th>\n",
       "      <td>[[[165, 166, 162], [165, 165, 163], [165, 165,...</td>\n",
       "      <td>[[(63, 83), (63, 87), (63, 92), (63, 97), (64,...</td>\n",
       "      <td>[[[159, 161, 158], [161, 163, 160], [155, 157,...</td>\n",
       "      <td>bored</td>\n",
       "    </tr>\n",
       "    <tr>\n",
       "      <th>4</th>\n",
       "      <td>[[[165, 166, 161], [166, 167, 162], [165, 167,...</td>\n",
       "      <td>[[(63, 82), (63, 87), (63, 91), (63, 96), (65,...</td>\n",
       "      <td>[[[160, 162, 159], [161, 163, 161], [152, 154,...</td>\n",
       "      <td>bored</td>\n",
       "    </tr>\n",
       "  </tbody>\n",
       "</table>\n",
       "</div>"
      ],
      "text/plain": [
       "                                              Imagen  \\\n",
       "0  [[[165, 165, 162], [165, 166, 161], [165, 166,...   \n",
       "1  [[[164, 166, 161], [165, 167, 162], [164, 166,...   \n",
       "2  [[[165, 165, 163], [165, 165, 163], [164, 165,...   \n",
       "3  [[[165, 166, 162], [165, 165, 163], [165, 165,...   \n",
       "4  [[[165, 166, 161], [166, 167, 162], [165, 167,...   \n",
       "\n",
       "                                     Caracteristicas  \\\n",
       "0  [[(62, 83), (62, 88), (62, 92), (63, 97), (64,...   \n",
       "1  [[(62, 83), (62, 87), (63, 92), (63, 97), (64,...   \n",
       "2  [[(63, 82), (63, 87), (63, 91), (63, 96), (65,...   \n",
       "3  [[(63, 83), (63, 87), (63, 92), (63, 97), (64,...   \n",
       "4  [[(63, 82), (63, 87), (63, 91), (63, 96), (65,...   \n",
       "\n",
       "                                              Rostro Etiqueta  \n",
       "0  [[[160, 162, 161], [160, 162, 161], [160, 162,...    bored  \n",
       "1  [[[160, 162, 160], [161, 162, 161], [160, 161,...    bored  \n",
       "2  [[[159, 161, 158], [160, 162, 159], [161, 162,...    bored  \n",
       "3  [[[159, 161, 158], [161, 163, 160], [155, 157,...    bored  \n",
       "4  [[[160, 162, 159], [161, 163, 161], [152, 154,...    bored  "
      ]
     },
     "execution_count": 28,
     "metadata": {},
     "output_type": "execute_result"
    }
   ],
   "source": [
    "df_imagenes_recortadas_delHDF.head()"
   ]
  },
  {
   "cell_type": "markdown",
   "metadata": {},
   "source": [
    "Sacar muestras de una fila:"
   ]
  },
  {
   "cell_type": "code",
   "execution_count": 29,
   "metadata": {},
   "outputs": [
    {
     "name": "stdout",
     "output_type": "stream",
     "text": [
      "[[[165 165 162]\n",
      "  [165 166 161]\n",
      "  [165 166 161]\n",
      "  ...\n",
      "  [170 169 167]\n",
      "  [171 170 168]\n",
      "  [170 169 167]]\n",
      "\n",
      " [[165 165 163]\n",
      "  [166 167 162]\n",
      "  [166 167 162]\n",
      "  ...\n",
      "  [170 169 167]\n",
      "  [171 170 168]\n",
      "  [171 170 168]]\n",
      "\n",
      " [[165 166 163]\n",
      "  [166 167 164]\n",
      "  [165 166 161]\n",
      "  ...\n",
      "  [170 169 167]\n",
      "  [171 170 168]\n",
      "  [171 170 168]]\n",
      "\n",
      " ...\n",
      "\n",
      " [[138 138 136]\n",
      "  [138 138 136]\n",
      "  [138 138 136]\n",
      "  ...\n",
      "  [153 152 148]\n",
      "  [152 153 148]\n",
      "  [152 152 150]]\n",
      "\n",
      " [[138 138 136]\n",
      "  [138 138 136]\n",
      "  [138 138 136]\n",
      "  ...\n",
      "  [152 153 148]\n",
      "  [152 153 148]\n",
      "  [152 152 149]]\n",
      "\n",
      " [[137 137 135]\n",
      "  [137 137 135]\n",
      "  [137 137 135]\n",
      "  ...\n",
      "  [151 152 147]\n",
      "  [151 152 147]\n",
      "  [151 151 149]]]\n"
     ]
    }
   ],
   "source": [
    "# Acceder a una fila específica (por ejemplo, la primera fila)\n",
    "fila_seleccionada = df_imagenes_recortadas_delHDF.iloc[0]\n",
    "\n",
    "# Extraer un dato como si fuera un array\n",
    "dato = fila_seleccionada['Imagen']  # Suponiendo que deseas extraer el dato de la columna 'Imagen'\n",
    "\n",
    "# Ahora 'dato' contiene el valor de 'Imagen' de la primera fila del DataFrame\n",
    "print(dato)"
   ]
  },
  {
   "cell_type": "markdown",
   "metadata": {},
   "source": [
    "KNN"
   ]
  },
  {
   "cell_type": "code",
   "execution_count": 34,
   "metadata": {},
   "outputs": [],
   "source": [
    "import numpy as np\n",
    "import pandas as pd\n",
    "import seaborn as sns\n",
    "sns.set_palette('husl')\n",
    "import matplotlib.pyplot as plt\n",
    "%matplotlib inline\n",
    "\n",
    "from sklearn import metrics\n",
    "from sklearn.neighbors import KNeighborsClassifier\n",
    "from sklearn.linear_model import LogisticRegression\n",
    "from sklearn.model_selection import train_test_split"
   ]
  },
  {
   "cell_type": "code",
   "execution_count": 36,
   "metadata": {},
   "outputs": [],
   "source": [
    "df = df_imagenes_recortadas_delHDF\n",
    "X = df.drop('Imagen', axis=1)\n",
    "X = X.drop('Etiqueta', axis=1)\n",
    "y = df['Etiqueta']"
   ]
  },
  {
   "cell_type": "code",
   "execution_count": 37,
   "metadata": {},
   "outputs": [
    {
     "data": {
      "text/html": [
       "<div>\n",
       "<style scoped>\n",
       "    .dataframe tbody tr th:only-of-type {\n",
       "        vertical-align: middle;\n",
       "    }\n",
       "\n",
       "    .dataframe tbody tr th {\n",
       "        vertical-align: top;\n",
       "    }\n",
       "\n",
       "    .dataframe thead th {\n",
       "        text-align: right;\n",
       "    }\n",
       "</style>\n",
       "<table border=\"1\" class=\"dataframe\">\n",
       "  <thead>\n",
       "    <tr style=\"text-align: right;\">\n",
       "      <th></th>\n",
       "      <th>Caracteristicas</th>\n",
       "      <th>Rostro</th>\n",
       "    </tr>\n",
       "  </thead>\n",
       "  <tbody>\n",
       "    <tr>\n",
       "      <th>0</th>\n",
       "      <td>[[(62, 83), (62, 88), (62, 92), (63, 97), (64,...</td>\n",
       "      <td>[[[160, 162, 161], [160, 162, 161], [160, 162,...</td>\n",
       "    </tr>\n",
       "    <tr>\n",
       "      <th>1</th>\n",
       "      <td>[[(62, 83), (62, 87), (63, 92), (63, 97), (64,...</td>\n",
       "      <td>[[[160, 162, 160], [161, 162, 161], [160, 161,...</td>\n",
       "    </tr>\n",
       "    <tr>\n",
       "      <th>2</th>\n",
       "      <td>[[(63, 82), (63, 87), (63, 91), (63, 96), (65,...</td>\n",
       "      <td>[[[159, 161, 158], [160, 162, 159], [161, 162,...</td>\n",
       "    </tr>\n",
       "    <tr>\n",
       "      <th>3</th>\n",
       "      <td>[[(63, 83), (63, 87), (63, 92), (63, 97), (64,...</td>\n",
       "      <td>[[[159, 161, 158], [161, 163, 160], [155, 157,...</td>\n",
       "    </tr>\n",
       "    <tr>\n",
       "      <th>4</th>\n",
       "      <td>[[(63, 82), (63, 87), (63, 91), (63, 96), (65,...</td>\n",
       "      <td>[[[160, 162, 159], [161, 163, 161], [152, 154,...</td>\n",
       "    </tr>\n",
       "  </tbody>\n",
       "</table>\n",
       "</div>"
      ],
      "text/plain": [
       "                                     Caracteristicas  \\\n",
       "0  [[(62, 83), (62, 88), (62, 92), (63, 97), (64,...   \n",
       "1  [[(62, 83), (62, 87), (63, 92), (63, 97), (64,...   \n",
       "2  [[(63, 82), (63, 87), (63, 91), (63, 96), (65,...   \n",
       "3  [[(63, 83), (63, 87), (63, 92), (63, 97), (64,...   \n",
       "4  [[(63, 82), (63, 87), (63, 91), (63, 96), (65,...   \n",
       "\n",
       "                                              Rostro  \n",
       "0  [[[160, 162, 161], [160, 162, 161], [160, 162,...  \n",
       "1  [[[160, 162, 160], [161, 162, 161], [160, 161,...  \n",
       "2  [[[159, 161, 158], [160, 162, 159], [161, 162,...  \n",
       "3  [[[159, 161, 158], [161, 163, 160], [155, 157,...  \n",
       "4  [[[160, 162, 159], [161, 163, 161], [152, 154,...  "
      ]
     },
     "execution_count": 37,
     "metadata": {},
     "output_type": "execute_result"
    }
   ],
   "source": [
    "X.head()"
   ]
  },
  {
   "cell_type": "code",
   "execution_count": 33,
   "metadata": {},
   "outputs": [
    {
     "data": {
      "text/plain": [
       "0    bored\n",
       "1    bored\n",
       "2    bored\n",
       "3    bored\n",
       "4    bored\n",
       "Name: Etiqueta, dtype: object"
      ]
     },
     "execution_count": 33,
     "metadata": {},
     "output_type": "execute_result"
    }
   ],
   "source": [
    "y.head()"
   ]
  },
  {
   "cell_type": "code",
   "execution_count": 58,
   "metadata": {},
   "outputs": [],
   "source": [
    "X_train, X_test, y_train, y_test = train_test_split(X, y, test_size=0.4, random_state=4)"
   ]
  },
  {
   "cell_type": "code",
   "execution_count": 60,
   "metadata": {},
   "outputs": [
    {
     "ename": "AttributeError",
     "evalue": "'DataFrame' object has no attribute 'reshape'",
     "output_type": "error",
     "traceback": [
      "\u001b[1;31m---------------------------------------------------------------------------\u001b[0m",
      "\u001b[1;31mAttributeError\u001b[0m                            Traceback (most recent call last)",
      "\u001b[1;32m~\\AppData\\Local\\Temp\\ipykernel_10892\\2454930637.py\u001b[0m in \u001b[0;36m?\u001b[1;34m()\u001b[0m\n\u001b[1;32m----> 1\u001b[1;33m \u001b[0mX_train\u001b[0m \u001b[1;33m=\u001b[0m \u001b[0mX_train\u001b[0m\u001b[1;33m.\u001b[0m\u001b[0mreshape\u001b[0m\u001b[1;33m(\u001b[0m\u001b[1;36m28\u001b[0m\u001b[1;33m,\u001b[0m\u001b[1;36m28\u001b[0m\u001b[1;33m,\u001b[0m\u001b[1;36m1\u001b[0m\u001b[1;33m)\u001b[0m\u001b[1;33m.\u001b[0m\u001b[0mastype\u001b[0m\u001b[1;33m(\u001b[0m\u001b[1;34m'float32'\u001b[0m\u001b[1;33m)\u001b[0m\u001b[1;33m/\u001b[0m\u001b[1;36m255\u001b[0m\u001b[1;33m\u001b[0m\u001b[1;33m\u001b[0m\u001b[0m\n\u001b[0m\u001b[0;32m      2\u001b[0m \u001b[0mX_test\u001b[0m \u001b[1;33m=\u001b[0m \u001b[0mX_test\u001b[0m\u001b[1;33m.\u001b[0m\u001b[0mreshape\u001b[0m\u001b[1;33m(\u001b[0m\u001b[1;36m28\u001b[0m\u001b[1;33m,\u001b[0m\u001b[1;36m28\u001b[0m\u001b[1;33m,\u001b[0m\u001b[1;36m1\u001b[0m\u001b[1;33m)\u001b[0m\u001b[1;33m.\u001b[0m\u001b[0mastype\u001b[0m\u001b[1;33m(\u001b[0m\u001b[1;34m'float32'\u001b[0m\u001b[1;33m)\u001b[0m\u001b[1;33m/\u001b[0m\u001b[1;36m255\u001b[0m\u001b[1;33m\u001b[0m\u001b[1;33m\u001b[0m\u001b[0m\n",
      "\u001b[1;32m~\\AppData\\Local\\Packages\\PythonSoftwareFoundation.Python.3.9_qbz5n2kfra8p0\\LocalCache\\local-packages\\Python39\\site-packages\\pandas\\core\\generic.py\u001b[0m in \u001b[0;36m?\u001b[1;34m(self, name)\u001b[0m\n\u001b[0;32m   6289\u001b[0m             \u001b[1;32mand\u001b[0m \u001b[0mname\u001b[0m \u001b[1;32mnot\u001b[0m \u001b[1;32min\u001b[0m \u001b[0mself\u001b[0m\u001b[1;33m.\u001b[0m\u001b[0m_accessors\u001b[0m\u001b[1;33m\u001b[0m\u001b[1;33m\u001b[0m\u001b[0m\n\u001b[0;32m   6290\u001b[0m             \u001b[1;32mand\u001b[0m \u001b[0mself\u001b[0m\u001b[1;33m.\u001b[0m\u001b[0m_info_axis\u001b[0m\u001b[1;33m.\u001b[0m\u001b[0m_can_hold_identifiers_and_holds_name\u001b[0m\u001b[1;33m(\u001b[0m\u001b[0mname\u001b[0m\u001b[1;33m)\u001b[0m\u001b[1;33m\u001b[0m\u001b[1;33m\u001b[0m\u001b[0m\n\u001b[0;32m   6291\u001b[0m         ):\n\u001b[0;32m   6292\u001b[0m             \u001b[1;32mreturn\u001b[0m \u001b[0mself\u001b[0m\u001b[1;33m[\u001b[0m\u001b[0mname\u001b[0m\u001b[1;33m]\u001b[0m\u001b[1;33m\u001b[0m\u001b[1;33m\u001b[0m\u001b[0m\n\u001b[1;32m-> 6293\u001b[1;33m         \u001b[1;32mreturn\u001b[0m \u001b[0mobject\u001b[0m\u001b[1;33m.\u001b[0m\u001b[0m__getattribute__\u001b[0m\u001b[1;33m(\u001b[0m\u001b[0mself\u001b[0m\u001b[1;33m,\u001b[0m \u001b[0mname\u001b[0m\u001b[1;33m)\u001b[0m\u001b[1;33m\u001b[0m\u001b[1;33m\u001b[0m\u001b[0m\n\u001b[0m",
      "\u001b[1;31mAttributeError\u001b[0m: 'DataFrame' object has no attribute 'reshape'"
     ]
    }
   ],
   "source": [
    "X_train_numpy = X_train.values\n",
    "X_test_numpy = X_test.values\n",
    "X_train_reshaped = X_train_numpy.reshape(-1, 28, 28, 1).astype('float32')/255\n",
    "\n",
    "X_train = X_train.reshape(28,28,1).astype('float32')/255\n",
    "X_test = X_test.reshape(28,28,1).astype('float32')/255"
   ]
  },
  {
   "cell_type": "code",
   "execution_count": null,
   "metadata": {},
   "outputs": [],
   "source": []
  }
 ],
 "metadata": {
  "kernelspec": {
   "display_name": "Python 3",
   "language": "python",
   "name": "python3"
  },
  "language_info": {
   "codemirror_mode": {
    "name": "ipython",
    "version": 3
   },
   "file_extension": ".py",
   "mimetype": "text/x-python",
   "name": "python",
   "nbconvert_exporter": "python",
   "pygments_lexer": "ipython3",
   "version": "3.9.13"
  }
 },
 "nbformat": 4,
 "nbformat_minor": 2
}
