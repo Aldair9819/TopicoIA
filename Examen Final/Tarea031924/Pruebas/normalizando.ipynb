{
 "cells": [
  {
   "cell_type": "code",
   "execution_count": 3,
   "metadata": {},
   "outputs": [
    {
     "name": "stdout",
     "output_type": "stream",
     "text": [
      "[[0. 0. 0. ... 0. 0. 0.]]\n",
      "(1, 10000)\n"
     ]
    }
   ],
   "source": [
    "import cv2\n",
    "import numpy as np\n",
    "from sklearn.preprocessing import MinMaxScaler\n",
    "\n",
    "def normalize_face_image(image_path, target_size=(100, 100)):\n",
    "    # Leer la imagen\n",
    "    image = cv2.imread(image_path)\n",
    "    \n",
    "    # Convertir la imagen a escala de grises\n",
    "    gray_image = cv2.cvtColor(image, cv2.COLOR_BGR2GRAY)\n",
    "    \n",
    "    # Redimensionar la imagen al tamaño deseado\n",
    "    resized_image = cv2.resize(gray_image, target_size)\n",
    "    \n",
    "    # Aplanar la imagen para convertirla en un vector unidimensional\n",
    "    flattened_image = resized_image.flatten().reshape(1, -1)\n",
    "    \n",
    "    # Normalizar los valores de píxeles en el rango [0, 1]\n",
    "    scaler = MinMaxScaler()\n",
    "    normalized_image = scaler.fit_transform(flattened_image)\n",
    "    \n",
    "    return normalized_image\n",
    "\n",
    "# Ejemplo de uso\n",
    "image_path = \"C:\\\\Users\\\\Waldosir\\\\Documents\\\\2doCodigo\\\\TopicoIA\\\\Marzo\\\\BD\\\\corpus_images\\\\bored\\\\61.jpeg\"\n",
    "normalized_image = normalize_face_image(image_path)\n",
    "print(normalized_image)\n",
    "\n"
   ]
  }
 ],
 "metadata": {
  "kernelspec": {
   "display_name": "tf",
   "language": "python",
   "name": "python3"
  },
  "language_info": {
   "codemirror_mode": {
    "name": "ipython",
    "version": 3
   },
   "file_extension": ".py",
   "mimetype": "text/x-python",
   "name": "python",
   "nbconvert_exporter": "python",
   "pygments_lexer": "ipython3",
   "version": "3.9.18"
  }
 },
 "nbformat": 4,
 "nbformat_minor": 2
}
