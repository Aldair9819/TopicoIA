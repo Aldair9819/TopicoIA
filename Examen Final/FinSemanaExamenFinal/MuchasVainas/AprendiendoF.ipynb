{
 "cells": [
  {
   "cell_type": "code",
   "execution_count": 8,
   "metadata": {},
   "outputs": [],
   "source": [
    "import pandas as pd\n",
    "import numpy as np\n",
    "from sklearn.model_selection import train_test_split\n",
    "import tensorflow as tf\n",
    "from tensorflow.keras.utils import to_categorical\n",
    "from tensorflow.keras.preprocessing.image import ImageDataGenerator\n",
    "from tensorflow.keras.callbacks import TensorBoard\n",
    "import matplotlib.pyplot as plt\n",
    "import pickle\n",
    "import seaborn as sns\n",
    "from sklearn.metrics import confusion_matrix\n"
   ]
  },
  {
   "cell_type": "code",
   "execution_count": 2,
   "metadata": {},
   "outputs": [],
   "source": [
    "df = pd.read_hdf('testHDF.h5')"
   ]
  },
  {
   "cell_type": "code",
   "execution_count": 3,
   "metadata": {},
   "outputs": [
    {
     "data": {
      "text/html": [
       "<div>\n",
       "<style scoped>\n",
       "    .dataframe tbody tr th:only-of-type {\n",
       "        vertical-align: middle;\n",
       "    }\n",
       "\n",
       "    .dataframe tbody tr th {\n",
       "        vertical-align: top;\n",
       "    }\n",
       "\n",
       "    .dataframe thead th {\n",
       "        text-align: right;\n",
       "    }\n",
       "</style>\n",
       "<table border=\"1\" class=\"dataframe\">\n",
       "  <thead>\n",
       "    <tr style=\"text-align: right;\">\n",
       "      <th></th>\n",
       "      <th>Imagen</th>\n",
       "      <th>Caracteristicas</th>\n",
       "      <th>Rostro</th>\n",
       "      <th>Etiqueta</th>\n",
       "    </tr>\n",
       "  </thead>\n",
       "  <tbody>\n",
       "    <tr>\n",
       "      <th>0</th>\n",
       "      <td>[[[165, 166, 161], [165, 166, 161], [165, 166,...</td>\n",
       "      <td>[[(62, 83), (62, 88), (62, 93), (63, 97), (64,...</td>\n",
       "      <td>[[[160, 162, 161], [160, 162, 161], [160, 162,...</td>\n",
       "      <td>bored</td>\n",
       "    </tr>\n",
       "    <tr>\n",
       "      <th>1</th>\n",
       "      <td>[[[164, 166, 161], [165, 167, 162], [164, 166,...</td>\n",
       "      <td>[[(62, 83), (62, 87), (62, 92), (63, 96), (64,...</td>\n",
       "      <td>[[[160, 162, 160], [161, 162, 161], [160, 161,...</td>\n",
       "      <td>bored</td>\n",
       "    </tr>\n",
       "    <tr>\n",
       "      <th>2</th>\n",
       "      <td>[[[165, 165, 163], [165, 165, 163], [164, 165,...</td>\n",
       "      <td>[[(63, 82), (63, 87), (63, 91), (64, 96), (65,...</td>\n",
       "      <td>[[[159, 161, 158], [160, 162, 159], [161, 162,...</td>\n",
       "      <td>bored</td>\n",
       "    </tr>\n",
       "    <tr>\n",
       "      <th>3</th>\n",
       "      <td>[[[165, 166, 162], [165, 165, 164], [165, 165,...</td>\n",
       "      <td>[[(63, 83), (62, 87), (63, 92), (63, 97), (65,...</td>\n",
       "      <td>[[[159, 161, 158], [161, 163, 160], [155, 157,...</td>\n",
       "      <td>bored</td>\n",
       "    </tr>\n",
       "    <tr>\n",
       "      <th>4</th>\n",
       "      <td>[[[165, 166, 161], [166, 167, 162], [165, 167,...</td>\n",
       "      <td>[[(63, 83), (63, 87), (63, 92), (63, 96), (64,...</td>\n",
       "      <td>[[[160, 162, 160], [161, 163, 161], [152, 154,...</td>\n",
       "      <td>bored</td>\n",
       "    </tr>\n",
       "  </tbody>\n",
       "</table>\n",
       "</div>"
      ],
      "text/plain": [
       "                                              Imagen  \\\n",
       "0  [[[165, 166, 161], [165, 166, 161], [165, 166,...   \n",
       "1  [[[164, 166, 161], [165, 167, 162], [164, 166,...   \n",
       "2  [[[165, 165, 163], [165, 165, 163], [164, 165,...   \n",
       "3  [[[165, 166, 162], [165, 165, 164], [165, 165,...   \n",
       "4  [[[165, 166, 161], [166, 167, 162], [165, 167,...   \n",
       "\n",
       "                                     Caracteristicas  \\\n",
       "0  [[(62, 83), (62, 88), (62, 93), (63, 97), (64,...   \n",
       "1  [[(62, 83), (62, 87), (62, 92), (63, 96), (64,...   \n",
       "2  [[(63, 82), (63, 87), (63, 91), (64, 96), (65,...   \n",
       "3  [[(63, 83), (62, 87), (63, 92), (63, 97), (65,...   \n",
       "4  [[(63, 83), (63, 87), (63, 92), (63, 96), (64,...   \n",
       "\n",
       "                                              Rostro Etiqueta  \n",
       "0  [[[160, 162, 161], [160, 162, 161], [160, 162,...    bored  \n",
       "1  [[[160, 162, 160], [161, 162, 161], [160, 161,...    bored  \n",
       "2  [[[159, 161, 158], [160, 162, 159], [161, 162,...    bored  \n",
       "3  [[[159, 161, 158], [161, 163, 160], [155, 157,...    bored  \n",
       "4  [[[160, 162, 160], [161, 163, 161], [152, 154,...    bored  "
      ]
     },
     "execution_count": 3,
     "metadata": {},
     "output_type": "execute_result"
    }
   ],
   "source": [
    "df.head()"
   ]
  },
  {
   "cell_type": "code",
   "execution_count": 12,
   "metadata": {},
   "outputs": [],
   "source": [
    "X = df['Caracteristicas']\n",
    "y = df['Etiqueta']"
   ]
  },
  {
   "cell_type": "code",
   "execution_count": 13,
   "metadata": {},
   "outputs": [
    {
     "data": {
      "text/plain": [
       "0    [[(62, 83), (62, 88), (62, 93), (63, 97), (64,...\n",
       "1    [[(62, 83), (62, 87), (62, 92), (63, 96), (64,...\n",
       "2    [[(63, 82), (63, 87), (63, 91), (64, 96), (65,...\n",
       "3    [[(63, 83), (62, 87), (63, 92), (63, 97), (65,...\n",
       "4    [[(63, 83), (63, 87), (63, 92), (63, 96), (64,...\n",
       "Name: Caracteristicas, dtype: object"
      ]
     },
     "execution_count": 13,
     "metadata": {},
     "output_type": "execute_result"
    }
   ],
   "source": [
    "X.head()"
   ]
  },
  {
   "cell_type": "code",
   "execution_count": 16,
   "metadata": {},
   "outputs": [],
   "source": [
    "datos_originales = X.values\n",
    "datos_convertidos = []\n",
    "\n",
    "for lista_tuplas in datos_originales:\n",
    "    lista_convertida = []\n",
    "    for tupla in lista_tuplas:\n",
    "        lista_convertida.append(list(tupla))\n",
    "    datos_convertidos.append(lista_convertida)\n"
   ]
  },
  {
   "cell_type": "code",
   "execution_count": 17,
   "metadata": {},
   "outputs": [
    {
     "data": {
      "text/html": [
       "<div>\n",
       "<style scoped>\n",
       "    .dataframe tbody tr th:only-of-type {\n",
       "        vertical-align: middle;\n",
       "    }\n",
       "\n",
       "    .dataframe tbody tr th {\n",
       "        vertical-align: top;\n",
       "    }\n",
       "\n",
       "    .dataframe thead th {\n",
       "        text-align: right;\n",
       "    }\n",
       "</style>\n",
       "<table border=\"1\" class=\"dataframe\">\n",
       "  <thead>\n",
       "    <tr style=\"text-align: right;\">\n",
       "      <th></th>\n",
       "      <th>0</th>\n",
       "      <th>1</th>\n",
       "      <th>2</th>\n",
       "      <th>3</th>\n",
       "      <th>4</th>\n",
       "      <th>5</th>\n",
       "      <th>6</th>\n",
       "      <th>7</th>\n",
       "      <th>8</th>\n",
       "    </tr>\n",
       "  </thead>\n",
       "  <tbody>\n",
       "    <tr>\n",
       "      <th>0</th>\n",
       "      <td>[(62, 83), (62, 88), (62, 93), (63, 97), (64, ...</td>\n",
       "      <td>[(65, 75), (66, 72), (69, 70), (72, 69), (74, ...</td>\n",
       "      <td>[(80, 70), (84, 69), (87, 69), (90, 72), (91, ...</td>\n",
       "      <td>[(77, 76), (77, 79), (77, 82), (77, 86)]</td>\n",
       "      <td>[(74, 90), (76, 90), (77, 91), (79, 90), (81, ...</td>\n",
       "      <td>[(68, 79), (69, 77), (71, 77), (73, 78), (71, ...</td>\n",
       "      <td>[(82, 78), (84, 77), (86, 77), (88, 78), (86, ...</td>\n",
       "      <td>[(71, 99), (73, 96), (76, 95), (78, 96), (80, ...</td>\n",
       "      <td>[(85, 99), (82, 100), (80, 101), (77, 101), (7...</td>\n",
       "    </tr>\n",
       "    <tr>\n",
       "      <th>1</th>\n",
       "      <td>[(62, 83), (62, 87), (62, 92), (63, 96), (64, ...</td>\n",
       "      <td>[(65, 75), (66, 72), (69, 70), (72, 69), (75, ...</td>\n",
       "      <td>[(81, 70), (84, 69), (87, 69), (90, 72), (91, ...</td>\n",
       "      <td>[(78, 75), (78, 79), (78, 82), (78, 86)]</td>\n",
       "      <td>[(74, 90), (76, 91), (78, 91), (80, 91), (81, ...</td>\n",
       "      <td>[(68, 78), (70, 77), (72, 77), (74, 78), (72, ...</td>\n",
       "      <td>[(82, 78), (84, 77), (86, 77), (88, 78), (86, ...</td>\n",
       "      <td>[(71, 99), (73, 97), (76, 95), (78, 96), (80, ...</td>\n",
       "      <td>[(85, 99), (82, 101), (80, 101), (78, 101), (7...</td>\n",
       "    </tr>\n",
       "    <tr>\n",
       "      <th>2</th>\n",
       "      <td>[(63, 82), (63, 87), (63, 91), (64, 96), (65, ...</td>\n",
       "      <td>[(66, 74), (67, 71), (70, 70), (73, 70), (76, ...</td>\n",
       "      <td>[(82, 70), (85, 69), (88, 70), (91, 72), (92, ...</td>\n",
       "      <td>[(79, 76), (79, 79), (79, 82), (78, 86)]</td>\n",
       "      <td>[(75, 90), (77, 90), (79, 91), (80, 90), (82, ...</td>\n",
       "      <td>[(69, 78), (70, 77), (72, 77), (75, 78), (73, ...</td>\n",
       "      <td>[(83, 78), (85, 77), (87, 77), (89, 79), (87, ...</td>\n",
       "      <td>[(72, 99), (74, 96), (77, 95), (79, 96), (80, ...</td>\n",
       "      <td>[(85, 99), (83, 101), (80, 101), (78, 101), (7...</td>\n",
       "    </tr>\n",
       "    <tr>\n",
       "      <th>3</th>\n",
       "      <td>[(63, 83), (62, 87), (63, 92), (63, 97), (65, ...</td>\n",
       "      <td>[(66, 74), (67, 71), (70, 70), (73, 70), (75, ...</td>\n",
       "      <td>[(81, 70), (84, 70), (88, 70), (91, 72), (92, ...</td>\n",
       "      <td>[(78, 76), (78, 79), (78, 83), (78, 86)]</td>\n",
       "      <td>[(75, 90), (77, 91), (78, 91), (80, 91), (82, ...</td>\n",
       "      <td>[(68, 79), (70, 77), (72, 77), (74, 78), (72, ...</td>\n",
       "      <td>[(83, 78), (85, 77), (87, 77), (89, 79), (87, ...</td>\n",
       "      <td>[(72, 99), (74, 97), (77, 95), (79, 96), (81, ...</td>\n",
       "      <td>[(85, 99), (83, 101), (81, 101), (78, 101), (7...</td>\n",
       "    </tr>\n",
       "    <tr>\n",
       "      <th>4</th>\n",
       "      <td>[(63, 83), (63, 87), (63, 92), (63, 96), (64, ...</td>\n",
       "      <td>[(66, 75), (67, 72), (69, 70), (73, 70), (75, ...</td>\n",
       "      <td>[(81, 70), (84, 69), (88, 70), (91, 72), (92, ...</td>\n",
       "      <td>[(78, 76), (78, 80), (78, 83), (78, 86)]</td>\n",
       "      <td>[(75, 90), (77, 91), (78, 91), (80, 91), (82, ...</td>\n",
       "      <td>[(68, 79), (70, 77), (72, 77), (74, 78), (72, ...</td>\n",
       "      <td>[(83, 78), (85, 77), (87, 78), (89, 79), (87, ...</td>\n",
       "      <td>[(72, 99), (74, 97), (77, 95), (78, 96), (80, ...</td>\n",
       "      <td>[(85, 99), (83, 101), (80, 101), (78, 101), (7...</td>\n",
       "    </tr>\n",
       "  </tbody>\n",
       "</table>\n",
       "</div>"
      ],
      "text/plain": [
       "                                                   0  \\\n",
       "0  [(62, 83), (62, 88), (62, 93), (63, 97), (64, ...   \n",
       "1  [(62, 83), (62, 87), (62, 92), (63, 96), (64, ...   \n",
       "2  [(63, 82), (63, 87), (63, 91), (64, 96), (65, ...   \n",
       "3  [(63, 83), (62, 87), (63, 92), (63, 97), (65, ...   \n",
       "4  [(63, 83), (63, 87), (63, 92), (63, 96), (64, ...   \n",
       "\n",
       "                                                   1  \\\n",
       "0  [(65, 75), (66, 72), (69, 70), (72, 69), (74, ...   \n",
       "1  [(65, 75), (66, 72), (69, 70), (72, 69), (75, ...   \n",
       "2  [(66, 74), (67, 71), (70, 70), (73, 70), (76, ...   \n",
       "3  [(66, 74), (67, 71), (70, 70), (73, 70), (75, ...   \n",
       "4  [(66, 75), (67, 72), (69, 70), (73, 70), (75, ...   \n",
       "\n",
       "                                                   2  \\\n",
       "0  [(80, 70), (84, 69), (87, 69), (90, 72), (91, ...   \n",
       "1  [(81, 70), (84, 69), (87, 69), (90, 72), (91, ...   \n",
       "2  [(82, 70), (85, 69), (88, 70), (91, 72), (92, ...   \n",
       "3  [(81, 70), (84, 70), (88, 70), (91, 72), (92, ...   \n",
       "4  [(81, 70), (84, 69), (88, 70), (91, 72), (92, ...   \n",
       "\n",
       "                                          3  \\\n",
       "0  [(77, 76), (77, 79), (77, 82), (77, 86)]   \n",
       "1  [(78, 75), (78, 79), (78, 82), (78, 86)]   \n",
       "2  [(79, 76), (79, 79), (79, 82), (78, 86)]   \n",
       "3  [(78, 76), (78, 79), (78, 83), (78, 86)]   \n",
       "4  [(78, 76), (78, 80), (78, 83), (78, 86)]   \n",
       "\n",
       "                                                   4  \\\n",
       "0  [(74, 90), (76, 90), (77, 91), (79, 90), (81, ...   \n",
       "1  [(74, 90), (76, 91), (78, 91), (80, 91), (81, ...   \n",
       "2  [(75, 90), (77, 90), (79, 91), (80, 90), (82, ...   \n",
       "3  [(75, 90), (77, 91), (78, 91), (80, 91), (82, ...   \n",
       "4  [(75, 90), (77, 91), (78, 91), (80, 91), (82, ...   \n",
       "\n",
       "                                                   5  \\\n",
       "0  [(68, 79), (69, 77), (71, 77), (73, 78), (71, ...   \n",
       "1  [(68, 78), (70, 77), (72, 77), (74, 78), (72, ...   \n",
       "2  [(69, 78), (70, 77), (72, 77), (75, 78), (73, ...   \n",
       "3  [(68, 79), (70, 77), (72, 77), (74, 78), (72, ...   \n",
       "4  [(68, 79), (70, 77), (72, 77), (74, 78), (72, ...   \n",
       "\n",
       "                                                   6  \\\n",
       "0  [(82, 78), (84, 77), (86, 77), (88, 78), (86, ...   \n",
       "1  [(82, 78), (84, 77), (86, 77), (88, 78), (86, ...   \n",
       "2  [(83, 78), (85, 77), (87, 77), (89, 79), (87, ...   \n",
       "3  [(83, 78), (85, 77), (87, 77), (89, 79), (87, ...   \n",
       "4  [(83, 78), (85, 77), (87, 78), (89, 79), (87, ...   \n",
       "\n",
       "                                                   7  \\\n",
       "0  [(71, 99), (73, 96), (76, 95), (78, 96), (80, ...   \n",
       "1  [(71, 99), (73, 97), (76, 95), (78, 96), (80, ...   \n",
       "2  [(72, 99), (74, 96), (77, 95), (79, 96), (80, ...   \n",
       "3  [(72, 99), (74, 97), (77, 95), (79, 96), (81, ...   \n",
       "4  [(72, 99), (74, 97), (77, 95), (78, 96), (80, ...   \n",
       "\n",
       "                                                   8  \n",
       "0  [(85, 99), (82, 100), (80, 101), (77, 101), (7...  \n",
       "1  [(85, 99), (82, 101), (80, 101), (78, 101), (7...  \n",
       "2  [(85, 99), (83, 101), (80, 101), (78, 101), (7...  \n",
       "3  [(85, 99), (83, 101), (81, 101), (78, 101), (7...  \n",
       "4  [(85, 99), (83, 101), (80, 101), (78, 101), (7...  "
      ]
     },
     "execution_count": 17,
     "metadata": {},
     "output_type": "execute_result"
    }
   ],
   "source": [
    "pd_webos = pd.DataFrame(datos_convertidos)\n",
    "pd_webos.head()"
   ]
  },
  {
   "cell_type": "code",
   "execution_count": 5,
   "metadata": {},
   "outputs": [],
   "source": [
    "# Codificar las etiquetas\n",
    "etiquetas = y.unique()\n",
    "y_encoded = pd.Categorical(y, categories=etiquetas).codes"
   ]
  },
  {
   "cell_type": "code",
   "execution_count": 6,
   "metadata": {},
   "outputs": [],
   "source": [
    "# Dividir el dataset en conjuntos de entrenamiento y validación\n",
    "X_train, X_val, y_train, y_val = train_test_split(X, y_encoded, test_size=0.2, random_state=42)"
   ]
  },
  {
   "cell_type": "code",
   "execution_count": 9,
   "metadata": {},
   "outputs": [],
   "source": [
    "# Convertir las etiquetas a formato one-hot\n",
    "y_train_one_hot = to_categorical(y_train)\n",
    "y_val_one_hot = to_categorical(y_val)"
   ]
  },
  {
   "cell_type": "code",
   "execution_count": 10,
   "metadata": {},
   "outputs": [
    {
     "ename": "ValueError",
     "evalue": "setting an array element with a sequence. The requested array has an inhomogeneous shape after 1 dimensions. The detected shape was (9,) + inhomogeneous part.",
     "output_type": "error",
     "traceback": [
      "\u001b[1;31m---------------------------------------------------------------------------\u001b[0m",
      "\u001b[1;31mValueError\u001b[0m                                Traceback (most recent call last)",
      "Cell \u001b[1;32mIn[10], line 2\u001b[0m\n\u001b[0;32m      1\u001b[0m \u001b[38;5;66;03m# Convertir las imágenes a arrays numpy y normalizarlas\u001b[39;00m\n\u001b[1;32m----> 2\u001b[0m X_train \u001b[38;5;241m=\u001b[39m np\u001b[38;5;241m.\u001b[39marray([np\u001b[38;5;241m.\u001b[39marray(img) \u001b[38;5;28;01mfor\u001b[39;00m img \u001b[38;5;129;01min\u001b[39;00m X_train])\n\u001b[0;32m      3\u001b[0m X_val \u001b[38;5;241m=\u001b[39m np\u001b[38;5;241m.\u001b[39marray([np\u001b[38;5;241m.\u001b[39marray(img) \u001b[38;5;28;01mfor\u001b[39;00m img \u001b[38;5;129;01min\u001b[39;00m X_val])\n",
      "Cell \u001b[1;32mIn[10], line 2\u001b[0m, in \u001b[0;36m<listcomp>\u001b[1;34m(.0)\u001b[0m\n\u001b[0;32m      1\u001b[0m \u001b[38;5;66;03m# Convertir las imágenes a arrays numpy y normalizarlas\u001b[39;00m\n\u001b[1;32m----> 2\u001b[0m X_train \u001b[38;5;241m=\u001b[39m np\u001b[38;5;241m.\u001b[39marray([\u001b[43mnp\u001b[49m\u001b[38;5;241;43m.\u001b[39;49m\u001b[43marray\u001b[49m\u001b[43m(\u001b[49m\u001b[43mimg\u001b[49m\u001b[43m)\u001b[49m \u001b[38;5;28;01mfor\u001b[39;00m img \u001b[38;5;129;01min\u001b[39;00m X_train])\n\u001b[0;32m      3\u001b[0m X_val \u001b[38;5;241m=\u001b[39m np\u001b[38;5;241m.\u001b[39marray([np\u001b[38;5;241m.\u001b[39marray(img) \u001b[38;5;28;01mfor\u001b[39;00m img \u001b[38;5;129;01min\u001b[39;00m X_val])\n",
      "\u001b[1;31mValueError\u001b[0m: setting an array element with a sequence. The requested array has an inhomogeneous shape after 1 dimensions. The detected shape was (9,) + inhomogeneous part."
     ]
    }
   ],
   "source": [
    "# Convertir las imágenes a arrays numpy y normalizarlas\n",
    "X_train = np.array([np.array(img) for img in X_train])\n",
    "X_val = np.array([np.array(img) for img in X_val])"
   ]
  }
 ],
 "metadata": {
  "kernelspec": {
   "display_name": "tf",
   "language": "python",
   "name": "python3"
  },
  "language_info": {
   "codemirror_mode": {
    "name": "ipython",
    "version": 3
   },
   "file_extension": ".py",
   "mimetype": "text/x-python",
   "name": "python",
   "nbconvert_exporter": "python",
   "pygments_lexer": "ipython3",
   "version": "3.9.18"
  }
 },
 "nbformat": 4,
 "nbformat_minor": 2
}
