{
 "cells": [
  {
   "cell_type": "code",
   "execution_count": 5,
   "metadata": {},
   "outputs": [
    {
     "name": "stdout",
     "output_type": "stream",
     "text": [
      "Emoción detectada: positiva\n",
      "Polaridad: 0.8\n",
      "Subjetividad: 1.0\n"
     ]
    }
   ],
   "source": [
    "from textblob import TextBlob\n",
    "\n",
    "def detectar_emociones(texto):\n",
    "    # Crear un objeto TextBlob\n",
    "    blob = TextBlob(texto)\n",
    "    \n",
    "    # Obtener el sentimiento general\n",
    "    sentimiento = blob.sentiment\n",
    "    \n",
    "    # Determinar la polaridad y la subjetividad del sentimiento\n",
    "    polaridad = sentimiento.polarity\n",
    "    subjetividad = sentimiento.subjectivity\n",
    "    \n",
    "    # Determinar la emoción basada en la polaridad\n",
    "    if polaridad > 0:\n",
    "        emocion = \"positiva\"\n",
    "    elif polaridad < 0:\n",
    "        emocion = \"negativa\"\n",
    "    else:\n",
    "        emocion = \"neutral\"\n",
    "    \n",
    "    return emocion, polaridad, subjetividad\n",
    "\n",
    "# Texto de ejemplo\n",
    "texto_ejemplo = \"I am too happy\"\n",
    "\n",
    "# Detectar emociones en el texto de ejemplo\n",
    "emocion_detectada, polaridad, subjetividad = detectar_emociones(texto_ejemplo)\n",
    "\n",
    "# Imprimir resultados\n",
    "print(\"Emoción detectada:\", emocion_detectada)\n",
    "print(\"Polaridad:\", polaridad)\n",
    "print(\"Subjetividad:\", subjetividad)\n"
   ]
  }
 ],
 "metadata": {
  "kernelspec": {
   "display_name": "tf",
   "language": "python",
   "name": "python3"
  },
  "language_info": {
   "codemirror_mode": {
    "name": "ipython",
    "version": 3
   },
   "file_extension": ".py",
   "mimetype": "text/x-python",
   "name": "python",
   "nbconvert_exporter": "python",
   "pygments_lexer": "ipython3",
   "version": "3.10.13"
  }
 },
 "nbformat": 4,
 "nbformat_minor": 2
}
