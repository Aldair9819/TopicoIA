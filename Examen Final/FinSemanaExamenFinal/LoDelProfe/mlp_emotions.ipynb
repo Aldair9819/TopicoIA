{
 "cells": [
  {
   "cell_type": "markdown",
   "metadata": {},
   "source": [
    "Importamos Librerias"
   ]
  },
  {
   "cell_type": "code",
   "execution_count": 23,
   "metadata": {},
   "outputs": [],
   "source": [
    "import pandas as pd\n",
    "from PIL import Image\n",
    "import matplotlib.pyplot as plt\n",
    "import numpy as np\n",
    "from sklearn.model_selection import train_test_split\n",
    "from sklearn.preprocessing import LabelEncoder\n",
    "from keras.models import Sequential\n",
    "from keras.layers import Dense\n",
    "import tensorflow as tf\n",
    "import subprocess"
   ]
  },
  {
   "cell_type": "code",
   "execution_count": 24,
   "metadata": {},
   "outputs": [
    {
     "name": "stdout",
     "output_type": "stream",
     "text": [
      "Cantidad total de memoria VRAM en la GPU: 6.0 GB\n"
     ]
    }
   ],
   "source": [
    "def get_gpu_memory():\n",
    "    \"\"\"Returns the total memory of the GPU in MB\"\"\"\n",
    "    try:\n",
    "        result = subprocess.check_output(\n",
    "            [\"nvidia-smi\", \"--query-gpu=memory.total\", \"--format=csv,nounits,noheader\"], \n",
    "            encoding='utf-8')\n",
    "        return int(result.strip())\n",
    "    except Exception as e:\n",
    "        print(\"Error al obtener la información de la memoria de la GPU:\", e)\n",
    "        return None\n",
    "\n",
    "# Obtener la cantidad de memoria VRAM disponible en la GPU\n",
    "total_memory_mb = get_gpu_memory()\n",
    "if total_memory_mb is not None:\n",
    "    total_memory_gb = total_memory_mb / 1024\n",
    "    print(\"Cantidad total de memoria VRAM en la GPU:\", total_memory_gb, \"GB\")\n",
    "    \n",
    "    # Configurar TensorFlow para limitar el uso de memoria GPU\n",
    "    gpus = tf.config.experimental.list_physical_devices('GPU')\n",
    "    if gpus:\n",
    "        for gpu in gpus:\n",
    "            # Limitar la memoria GPU al máximo disponible\n",
    "            tf.config.experimental.set_memory_growth(gpu, True)\n",
    "else:\n",
    "    print(\"No se pudo obtener la información de la memoria de la GPU.\")\n"
   ]
  },
  {
   "cell_type": "markdown",
   "metadata": {},
   "source": [
    "Cargamos el archivo .pkl"
   ]
  },
  {
   "cell_type": "code",
   "execution_count": 25,
   "metadata": {},
   "outputs": [],
   "source": [
    "df = pd.read_pickle('emotions_dataset.pkl')"
   ]
  },
  {
   "cell_type": "markdown",
   "metadata": {},
   "source": [
    "Primera revision de los datos"
   ]
  },
  {
   "cell_type": "code",
   "execution_count": 26,
   "metadata": {},
   "outputs": [
    {
     "data": {
      "text/html": [
       "<div>\n",
       "<style scoped>\n",
       "    .dataframe tbody tr th:only-of-type {\n",
       "        vertical-align: middle;\n",
       "    }\n",
       "\n",
       "    .dataframe tbody tr th {\n",
       "        vertical-align: top;\n",
       "    }\n",
       "\n",
       "    .dataframe thead th {\n",
       "        text-align: right;\n",
       "    }\n",
       "</style>\n",
       "<table border=\"1\" class=\"dataframe\">\n",
       "  <thead>\n",
       "    <tr style=\"text-align: right;\">\n",
       "      <th></th>\n",
       "      <th>Imagen</th>\n",
       "      <th>Imagen con zoom</th>\n",
       "      <th>Hitos faciales</th>\n",
       "      <th>Etiquetas</th>\n",
       "    </tr>\n",
       "  </thead>\n",
       "  <tbody>\n",
       "    <tr>\n",
       "      <th>0</th>\n",
       "      <td>[[[165, 166, 161], [165, 166, 161], [165, 166,...</td>\n",
       "      <td>[[[[160 162 161], [160 162 161], [160 162 161]...</td>\n",
       "      <td>[[[62, 83], [62, 88], [62, 93], [63, 97], [64,...</td>\n",
       "      <td>bored</td>\n",
       "    </tr>\n",
       "    <tr>\n",
       "      <th>1</th>\n",
       "      <td>[[[164, 166, 161], [165, 167, 162], [164, 166,...</td>\n",
       "      <td>[[[[160 162 160], [161 162 161], [160 161 160]...</td>\n",
       "      <td>[[[62, 83], [62, 87], [62, 92], [63, 96], [64,...</td>\n",
       "      <td>bored</td>\n",
       "    </tr>\n",
       "    <tr>\n",
       "      <th>2</th>\n",
       "      <td>[[[165, 165, 163], [165, 165, 163], [164, 165,...</td>\n",
       "      <td>[[[[159 161 158], [160 162 159], [161 162 160]...</td>\n",
       "      <td>[[[63, 82], [63, 87], [63, 91], [64, 96], [65,...</td>\n",
       "      <td>bored</td>\n",
       "    </tr>\n",
       "    <tr>\n",
       "      <th>3</th>\n",
       "      <td>[[[165, 166, 162], [165, 165, 164], [165, 165,...</td>\n",
       "      <td>[[[[159 161 158], [161 163 160], [155 157 154]...</td>\n",
       "      <td>[[[63, 83], [62, 87], [63, 92], [63, 97], [65,...</td>\n",
       "      <td>bored</td>\n",
       "    </tr>\n",
       "    <tr>\n",
       "      <th>4</th>\n",
       "      <td>[[[165, 166, 161], [166, 167, 162], [165, 167,...</td>\n",
       "      <td>[[[[160 162 160], [161 163 161], [152 154 151]...</td>\n",
       "      <td>[[[63, 83], [63, 87], [63, 92], [63, 96], [64,...</td>\n",
       "      <td>bored</td>\n",
       "    </tr>\n",
       "  </tbody>\n",
       "</table>\n",
       "</div>"
      ],
      "text/plain": [
       "                                              Imagen  \\\n",
       "0  [[[165, 166, 161], [165, 166, 161], [165, 166,...   \n",
       "1  [[[164, 166, 161], [165, 167, 162], [164, 166,...   \n",
       "2  [[[165, 165, 163], [165, 165, 163], [164, 165,...   \n",
       "3  [[[165, 166, 162], [165, 165, 164], [165, 165,...   \n",
       "4  [[[165, 166, 161], [166, 167, 162], [165, 167,...   \n",
       "\n",
       "                                     Imagen con zoom  \\\n",
       "0  [[[[160 162 161], [160 162 161], [160 162 161]...   \n",
       "1  [[[[160 162 160], [161 162 161], [160 161 160]...   \n",
       "2  [[[[159 161 158], [160 162 159], [161 162 160]...   \n",
       "3  [[[[159 161 158], [161 163 160], [155 157 154]...   \n",
       "4  [[[[160 162 160], [161 163 161], [152 154 151]...   \n",
       "\n",
       "                                      Hitos faciales Etiquetas  \n",
       "0  [[[62, 83], [62, 88], [62, 93], [63, 97], [64,...     bored  \n",
       "1  [[[62, 83], [62, 87], [62, 92], [63, 96], [64,...     bored  \n",
       "2  [[[63, 82], [63, 87], [63, 91], [64, 96], [65,...     bored  \n",
       "3  [[[63, 83], [62, 87], [63, 92], [63, 97], [65,...     bored  \n",
       "4  [[[63, 83], [63, 87], [63, 92], [63, 96], [64,...     bored  "
      ]
     },
     "execution_count": 26,
     "metadata": {},
     "output_type": "execute_result"
    }
   ],
   "source": [
    "df.head()"
   ]
  },
  {
   "cell_type": "markdown",
   "metadata": {},
   "source": [
    "El siguiente bloque de codigo se hace por que la funcion de FaceLandMarks no entrega arreglos de la misma longitud, es decir no encuentra la misma cantidad de puntos faciales en todos los rostros, lo cual impide la conversion a numpy Array"
   ]
  },
  {
   "cell_type": "code",
   "execution_count": 27,
   "metadata": {},
   "outputs": [],
   "source": [
    "primero = np.array(df['Hitos faciales'][0]).shape"
   ]
  },
  {
   "cell_type": "code",
   "execution_count": 28,
   "metadata": {},
   "outputs": [
    {
     "name": "stdout",
     "output_type": "stream",
     "text": [
      "(5035, 1, 72, 2)\n"
     ]
    }
   ],
   "source": [
    "# Crear una nueva columna para almacenar solo los registros que cumplan con la forma deseada\n",
    "df['Hitos faciales válidos'] = df['Hitos faciales'].apply(lambda x: x if np.array(x).shape == (1, 72, 2) else None)\n",
    "\n",
    "# Eliminar los registros que no cumplen con la forma deseada\n",
    "df = df.dropna(subset=['Hitos faciales válidos'])\n",
    "\n",
    "# Convertir la columna 'Hitos faciales válidos' en un array NumPy\n",
    "puntos = np.array(df['Hitos faciales'].tolist())\n",
    "\n",
    "# Verificar la forma de X\n",
    "print(puntos.shape)"
   ]
  },
  {
   "cell_type": "markdown",
   "metadata": {},
   "source": [
    "Codificamos las etiquetas, es decir las convertimos a valores numericos"
   ]
  },
  {
   "cell_type": "code",
   "execution_count": 29,
   "metadata": {},
   "outputs": [],
   "source": [
    "label_encoder = LabelEncoder()\n",
    "y = label_encoder.fit_transform(df['Etiquetas'])"
   ]
  },
  {
   "cell_type": "markdown",
   "metadata": {},
   "source": [
    "Verificacion de que el bloque anterior funciono jeje"
   ]
  },
  {
   "cell_type": "code",
   "execution_count": 30,
   "metadata": {},
   "outputs": [
    {
     "name": "stdout",
     "output_type": "stream",
     "text": [
      "Clases originales: ['bored' 'engaged' 'excited' 'focused' 'interested' 'relaxed']\n",
      "Clases codificadas: ['bored' 'engaged' 'excited' 'focused' 'interested' 'relaxed']\n"
     ]
    }
   ],
   "source": [
    "print(\"Clases originales:\", df['Etiquetas'].unique())\n",
    "print(\"Clases codificadas:\", label_encoder.classes_)\n"
   ]
  },
  {
   "cell_type": "markdown",
   "metadata": {},
   "source": [
    "Dividimos los datos para entrenamiento y para validacion"
   ]
  },
  {
   "cell_type": "code",
   "execution_count": 31,
   "metadata": {},
   "outputs": [],
   "source": [
    "X_train, X_test, y_train, y_test = train_test_split(puntos, y, test_size=0.3, random_state=42)"
   ]
  },
  {
   "cell_type": "markdown",
   "metadata": {},
   "source": [
    "Creacion del modelo, la cantidad tan alta de capas se debe a la intencion de conseguir un accuracy de al menos 50%, se realizaron pruebas con distintas configuraciones siendo esta la mejor hasta el momento"
   ]
  },
  {
   "cell_type": "code",
   "execution_count": 32,
   "metadata": {},
   "outputs": [],
   "source": [
    "from keras.layers import Input, Flatten, Dense, Dropout\n",
    "from keras.models import Model\n",
    "from keras.optimizers import Adam\n",
    "from keras.regularizers import l2\n",
    "\n",
    "# Definir la entrada del modelo\n",
    "inputs = Input(shape=(1, 72, 2))\n",
    "\n",
    "# Aplanar los datos de entrada\n",
    "flatten = Flatten()(inputs)\n",
    "\n",
    "# Capas densas\n",
    "dense1 = Dense(500, activation='relu')(flatten)\n",
    "dense2 = Dense(450, activation='relu')(dense1)\n",
    "dense3 = Dense(400, activation='relu')(dense2)\n",
    "dense4 = Dense(380, activation='relu')(dense3)\n",
    "dense5 = Dense(330, activation='relu')(dense4)\n",
    "dense6 = Dense(300, activation='relu')(dense5)\n",
    "dense7 = Dense(280, activation='relu')(dense6)\n",
    "dense8 = Dense(200, activation='relu')(dense7)\n",
    "dense9 = Dense(180, activation='relu')(dense8)\n",
    "dense10 = Dense(64, activation='relu')(dense9)\n",
    "\n",
    "\n",
    "# Capa de salida\n",
    "outputs = Dense(len(label_encoder.classes_), activation='softmax')(dense10)\n",
    "\n",
    "model = Model(inputs=inputs, outputs=outputs)\n",
    "\n",
    "model.compile(optimizer='adam', loss='sparse_categorical_crossentropy', metrics=['accuracy'])\n"
   ]
  },
  {
   "cell_type": "markdown",
   "metadata": {},
   "source": [
    "Entrenamiento del modelo"
   ]
  },
  {
   "cell_type": "code",
   "execution_count": 36,
   "metadata": {},
   "outputs": [
    {
     "name": "stdout",
     "output_type": "stream",
     "text": [
      "Epoch 1/50\n",
      "100/100 [==============================] - 1s 11ms/step - loss: 1.2799 - accuracy: 0.4191 - val_loss: 1.3211 - val_accuracy: 0.4391\n",
      "Epoch 2/50\n",
      "100/100 [==============================] - 1s 8ms/step - loss: 1.2728 - accuracy: 0.4191 - val_loss: 1.3434 - val_accuracy: 0.3541\n",
      "Epoch 3/50\n",
      "100/100 [==============================] - 1s 8ms/step - loss: 1.2819 - accuracy: 0.4201 - val_loss: 1.3751 - val_accuracy: 0.3796\n",
      "Epoch 4/50\n",
      "100/100 [==============================] - 1s 8ms/step - loss: 1.2833 - accuracy: 0.4015 - val_loss: 1.3341 - val_accuracy: 0.3626\n",
      "Epoch 5/50\n",
      "100/100 [==============================] - 1s 8ms/step - loss: 1.2757 - accuracy: 0.4175 - val_loss: 1.3717 - val_accuracy: 0.3683\n",
      "Epoch 6/50\n",
      "100/100 [==============================] - 1s 8ms/step - loss: 1.2783 - accuracy: 0.4279 - val_loss: 1.3261 - val_accuracy: 0.4079\n",
      "Epoch 7/50\n",
      "100/100 [==============================] - 1s 8ms/step - loss: 1.2706 - accuracy: 0.4289 - val_loss: 1.3578 - val_accuracy: 0.4136\n",
      "Epoch 8/50\n",
      "100/100 [==============================] - 1s 8ms/step - loss: 1.2709 - accuracy: 0.4324 - val_loss: 1.3223 - val_accuracy: 0.4051\n",
      "Epoch 9/50\n",
      "100/100 [==============================] - 1s 8ms/step - loss: 1.2667 - accuracy: 0.4349 - val_loss: 1.3341 - val_accuracy: 0.4278\n",
      "Epoch 10/50\n",
      "100/100 [==============================] - 1s 8ms/step - loss: 1.2714 - accuracy: 0.4213 - val_loss: 1.3232 - val_accuracy: 0.3909\n",
      "Epoch 11/50\n",
      "100/100 [==============================] - 1s 8ms/step - loss: 1.2646 - accuracy: 0.4235 - val_loss: 1.3252 - val_accuracy: 0.4079\n",
      "Epoch 12/50\n",
      "100/100 [==============================] - 1s 8ms/step - loss: 1.2738 - accuracy: 0.4273 - val_loss: 1.3279 - val_accuracy: 0.4249\n",
      "Epoch 13/50\n",
      "100/100 [==============================] - 1s 8ms/step - loss: 1.2778 - accuracy: 0.4169 - val_loss: 1.3671 - val_accuracy: 0.3796\n",
      "Epoch 14/50\n",
      "100/100 [==============================] - 1s 8ms/step - loss: 1.2789 - accuracy: 0.4008 - val_loss: 1.3394 - val_accuracy: 0.4164\n",
      "Epoch 15/50\n",
      "100/100 [==============================] - 1s 8ms/step - loss: 1.2708 - accuracy: 0.4163 - val_loss: 1.3196 - val_accuracy: 0.4136\n",
      "Epoch 16/50\n",
      "100/100 [==============================] - 1s 8ms/step - loss: 1.2711 - accuracy: 0.4336 - val_loss: 1.3263 - val_accuracy: 0.4136\n",
      "Epoch 17/50\n",
      "100/100 [==============================] - 1s 8ms/step - loss: 1.2695 - accuracy: 0.4178 - val_loss: 1.3545 - val_accuracy: 0.3909\n",
      "Epoch 18/50\n",
      "100/100 [==============================] - 1s 8ms/step - loss: 1.2811 - accuracy: 0.4137 - val_loss: 1.3200 - val_accuracy: 0.4108\n",
      "Epoch 19/50\n",
      "100/100 [==============================] - 1s 8ms/step - loss: 1.2735 - accuracy: 0.4355 - val_loss: 1.3779 - val_accuracy: 0.3824\n",
      "Epoch 20/50\n",
      "100/100 [==============================] - 1s 8ms/step - loss: 1.2732 - accuracy: 0.4235 - val_loss: 1.3131 - val_accuracy: 0.4193\n",
      "Epoch 21/50\n",
      "100/100 [==============================] - 1s 8ms/step - loss: 1.2860 - accuracy: 0.4030 - val_loss: 1.3526 - val_accuracy: 0.3994\n",
      "Epoch 22/50\n",
      "100/100 [==============================] - 1s 7ms/step - loss: 1.2714 - accuracy: 0.4160 - val_loss: 1.3181 - val_accuracy: 0.4164\n",
      "Epoch 23/50\n",
      "100/100 [==============================] - 1s 7ms/step - loss: 1.2752 - accuracy: 0.4336 - val_loss: 1.3293 - val_accuracy: 0.4164\n",
      "Epoch 24/50\n",
      "100/100 [==============================] - 1s 8ms/step - loss: 1.2710 - accuracy: 0.4267 - val_loss: 1.3304 - val_accuracy: 0.3711\n",
      "Epoch 25/50\n",
      "100/100 [==============================] - 1s 8ms/step - loss: 1.2624 - accuracy: 0.4361 - val_loss: 1.3208 - val_accuracy: 0.4221\n",
      "Epoch 26/50\n",
      "100/100 [==============================] - 1s 8ms/step - loss: 1.2729 - accuracy: 0.4235 - val_loss: 1.3239 - val_accuracy: 0.4079\n",
      "Epoch 27/50\n",
      "100/100 [==============================] - 1s 8ms/step - loss: 1.2725 - accuracy: 0.4320 - val_loss: 1.3259 - val_accuracy: 0.4164\n",
      "Epoch 28/50\n",
      "100/100 [==============================] - 1s 8ms/step - loss: 1.2996 - accuracy: 0.4046 - val_loss: 1.3797 - val_accuracy: 0.3909\n",
      "Epoch 29/50\n",
      "100/100 [==============================] - 1s 8ms/step - loss: 1.2648 - accuracy: 0.4349 - val_loss: 1.3449 - val_accuracy: 0.4164\n",
      "Epoch 30/50\n",
      "100/100 [==============================] - 1s 8ms/step - loss: 1.2687 - accuracy: 0.4317 - val_loss: 1.3121 - val_accuracy: 0.4221\n",
      "Epoch 31/50\n",
      "100/100 [==============================] - 1s 9ms/step - loss: 1.2665 - accuracy: 0.4349 - val_loss: 1.3100 - val_accuracy: 0.3938\n",
      "Epoch 32/50\n",
      "100/100 [==============================] - 1s 8ms/step - loss: 1.2622 - accuracy: 0.4383 - val_loss: 1.3420 - val_accuracy: 0.3966\n",
      "Epoch 33/50\n",
      "100/100 [==============================] - 1s 8ms/step - loss: 1.2563 - accuracy: 0.4399 - val_loss: 1.3093 - val_accuracy: 0.4164\n",
      "Epoch 34/50\n",
      "100/100 [==============================] - 1s 8ms/step - loss: 1.2563 - accuracy: 0.4352 - val_loss: 1.3057 - val_accuracy: 0.4136\n",
      "Epoch 35/50\n",
      "100/100 [==============================] - 1s 8ms/step - loss: 1.2681 - accuracy: 0.4264 - val_loss: 1.3075 - val_accuracy: 0.4193\n",
      "Epoch 36/50\n",
      "100/100 [==============================] - 1s 7ms/step - loss: 1.2585 - accuracy: 0.4339 - val_loss: 1.3309 - val_accuracy: 0.4164\n",
      "Epoch 37/50\n",
      "100/100 [==============================] - 1s 6ms/step - loss: 1.2607 - accuracy: 0.4380 - val_loss: 1.3240 - val_accuracy: 0.4136\n",
      "Epoch 38/50\n",
      "100/100 [==============================] - 1s 7ms/step - loss: 1.2594 - accuracy: 0.4437 - val_loss: 1.3336 - val_accuracy: 0.4164\n",
      "Epoch 39/50\n",
      "100/100 [==============================] - 1s 8ms/step - loss: 1.2693 - accuracy: 0.4377 - val_loss: 1.3287 - val_accuracy: 0.4108\n",
      "Epoch 40/50\n",
      "100/100 [==============================] - 1s 8ms/step - loss: 1.2619 - accuracy: 0.4330 - val_loss: 1.3239 - val_accuracy: 0.3853\n",
      "Epoch 41/50\n",
      "100/100 [==============================] - 1s 8ms/step - loss: 1.2580 - accuracy: 0.4320 - val_loss: 1.3081 - val_accuracy: 0.4164\n",
      "Epoch 42/50\n",
      "100/100 [==============================] - 1s 8ms/step - loss: 1.2535 - accuracy: 0.4443 - val_loss: 1.3430 - val_accuracy: 0.4051\n",
      "Epoch 43/50\n",
      "100/100 [==============================] - 1s 8ms/step - loss: 1.2574 - accuracy: 0.4298 - val_loss: 1.3150 - val_accuracy: 0.4221\n",
      "Epoch 44/50\n",
      "100/100 [==============================] - 1s 8ms/step - loss: 1.2631 - accuracy: 0.4390 - val_loss: 1.3093 - val_accuracy: 0.4079\n",
      "Epoch 45/50\n",
      "100/100 [==============================] - 1s 8ms/step - loss: 1.2543 - accuracy: 0.4380 - val_loss: 1.3188 - val_accuracy: 0.3938\n",
      "Epoch 46/50\n",
      "100/100 [==============================] - 1s 8ms/step - loss: 1.2605 - accuracy: 0.4327 - val_loss: 1.3117 - val_accuracy: 0.4051\n",
      "Epoch 47/50\n",
      "100/100 [==============================] - 1s 8ms/step - loss: 1.2598 - accuracy: 0.4365 - val_loss: 1.3109 - val_accuracy: 0.4136\n",
      "Epoch 48/50\n",
      "100/100 [==============================] - 1s 8ms/step - loss: 1.2550 - accuracy: 0.4383 - val_loss: 1.3263 - val_accuracy: 0.3994\n",
      "Epoch 49/50\n",
      "100/100 [==============================] - 1s 8ms/step - loss: 1.2615 - accuracy: 0.4396 - val_loss: 1.3096 - val_accuracy: 0.4221\n",
      "Epoch 50/50\n",
      "100/100 [==============================] - 1s 8ms/step - loss: 1.2522 - accuracy: 0.4396 - val_loss: 1.3802 - val_accuracy: 0.3853\n"
     ]
    },
    {
     "data": {
      "text/plain": [
       "<keras.callbacks.History at 0x1547f5dad00>"
      ]
     },
     "execution_count": 36,
     "metadata": {},
     "output_type": "execute_result"
    }
   ],
   "source": [
    "model.fit(X_train, y_train, epochs=50, batch_size=32, validation_split=0.1)\n"
   ]
  },
  {
   "cell_type": "markdown",
   "metadata": {},
   "source": [
    "Despues de varias pruebas el accuracy maximo alcanzado fue de 45% con 150 epocas de entrenamiento, esto se atribuye al desbalance de las clases y el como se dividieron los datos \n",
    "\n",
    "#####\n",
    "\n",
    "Realice una ultima prueba con 6 epocas consiguiendo un 47% de accuracy                                                                                                                                                                                                                                                                                                                                                        48/48 ━━━━━━━━━━━━━━━━━━━━ 0s 6ms/step - accuracy: 0.4907 - loss: 1.1949\n",
    "Loss: 1.217307209968567, Accuracy: 0.47452017664909363"
   ]
  },
  {
   "cell_type": "code",
   "execution_count": 34,
   "metadata": {},
   "outputs": [
    {
     "name": "stdout",
     "output_type": "stream",
     "text": [
      "15/48 [========>.....................] - ETA: 0s - loss: 1.2929 - accuracy: 0.3979"
     ]
    },
    {
     "name": "stdout",
     "output_type": "stream",
     "text": [
      "48/48 [==============================] - 0s 5ms/step - loss: 1.2920 - accuracy: 0.4050\n",
      "Loss: 1.2920198440551758, Accuracy: 0.4050297737121582\n"
     ]
    }
   ],
   "source": [
    "# Evaluar el modelo\n",
    "loss, accuracy = model.evaluate(X_test, y_test)\n",
    "print(f'Loss: {loss}, Accuracy: {accuracy}')"
   ]
  },
  {
   "cell_type": "code",
   "execution_count": 35,
   "metadata": {},
   "outputs": [
    {
     "data": {
      "image/png": "[encoded data removed]",
      "text/plain": [
       "<Figure size 1000x500 with 1 Axes>"
      ]
     },
     "metadata": {},
     "output_type": "display_data"
    }
   ],
   "source": [
    "etiquetas = df.iloc[:, 3]\n",
    "conteo_clases = etiquetas.value_counts()\n",
    "\n",
    "plt.figure(figsize=(10, 5))\n",
    "conteo_clases.plot(kind='bar')\n",
    "plt.title('Distribución de clases')\n",
    "plt.xlabel('Clases')\n",
    "plt.ylabel('Frecuencia')\n",
    "plt.xticks\n",
    "plt.grid(axis='y', linestyle='--', alpha=0.7)\n",
    "plt.tight_layout()\n",
    "plt.show()"
   ]
  }
 ],
 "metadata": {
  "kernelspec": {
   "display_name": "Python 3",
   "language": "python",
   "name": "python3"
  },
  "language_info": {
   "codemirror_mode": {
    "name": "ipython",
    "version": 3
   },
   "file_extension": ".py",
   "mimetype": "text/x-python",
   "name": "python",
   "nbconvert_exporter": "python",
   "pygments_lexer": "ipython3",
   "version": "3.9.18"
  }
 },
 "nbformat": 4,
 "nbformat_minor": 2
}
