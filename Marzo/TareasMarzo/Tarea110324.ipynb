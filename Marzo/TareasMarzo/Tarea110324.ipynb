{
 "cells": [
  {
   "cell_type": "code",
   "execution_count": 13,
   "metadata": {},
   "outputs": [],
   "source": [
    "import face_recognition\n",
    "from PIL import ImageDraw\n",
    "import PIL.Image as Image\n",
    "\n",
    "ruta = \"C:\\\\Users\\\\Waldosir\\\\Documents\\\\2doCodigo\\\\TopicoIA\\\\Marzo\\\\image.png\""
   ]
  },
  {
   "cell_type": "markdown",
   "metadata": {},
   "source": [
    "Imagen en crudo"
   ]
  },
  {
   "cell_type": "code",
   "execution_count": 14,
   "metadata": {},
   "outputs": [
    {
     "name": "stdout",
     "output_type": "stream",
     "text": [
      "[(204, 461, 590, 76)]\n"
     ]
    }
   ],
   "source": [
    "imagen = face_recognition.load_image_file(ruta)\n",
    "face_locations = face_recognition.face_locations(imagen)\n",
    "print(face_locations)\n"
   ]
  },
  {
   "cell_type": "markdown",
   "metadata": {},
   "source": [
    "Mostrar imagen recortada"
   ]
  },
  {
   "cell_type": "code",
   "execution_count": 15,
   "metadata": {},
   "outputs": [],
   "source": [
    "cara = face_locations[0]\n",
    "top, right, bottom, left = cara\n",
    "imagen_pil = Image.open(ruta)\n",
    "cara_recortada = imagen_pil.crop((left, top, right, bottom))\n",
    "cara_recortada.show()"
   ]
  },
  {
   "cell_type": "markdown",
   "metadata": {},
   "source": [
    "Mostrar la imagen"
   ]
  },
  {
   "cell_type": "code",
   "execution_count": 16,
   "metadata": {},
   "outputs": [],
   "source": [
    "pil_image = Image.fromarray(imagen)\n",
    "pil_image.show()"
   ]
  },
  {
   "cell_type": "code",
   "execution_count": 17,
   "metadata": {},
   "outputs": [
    {
     "name": "stdout",
     "output_type": "stream",
     "text": [
      "[{'chin': [(92, 303), (98, 349), (111, 394), (123, 439), (136, 484), (159, 525), (189, 556), (226, 580), (265, 587), (302, 579), (337, 556), (365, 524), (388, 483), (403, 439), (415, 394), (427, 348), (432, 303)], 'left_eyebrow': [(122, 281), (147, 270), (173, 270), (199, 277), (224, 289)], 'right_eyebrow': [(306, 288), (331, 275), (357, 269), (383, 268), (407, 278)], 'nose_bridge': [(266, 326), (266, 359), (266, 393), (266, 426)], 'nose_tip': [(241, 442), (252, 447), (266, 452), (279, 447), (291, 442)], 'left_eye': [(154, 326), (173, 314), (196, 316), (214, 332), (193, 336), (171, 335)], 'right_eye': [(316, 330), (334, 314), (357, 312), (375, 324), (359, 333), (337, 334)], 'top_lip': [(208, 493), (230, 481), (251, 474), (267, 479), (283, 474), (301, 480), (323, 491), (312, 493), (283, 492), (266, 493), (250, 493), (219, 495)], 'bottom_lip': [(323, 491), (303, 510), (284, 520), (266, 522), (249, 521), (229, 511), (208, 493), (219, 495), (250, 494), (266, 496), (283, 493), (312, 493)]}]\n"
     ]
    }
   ],
   "source": [
    "face_landmarks_list = face_recognition.face_landmarks(imagen)\n",
    "print(face_landmarks_list)"
   ]
  },
  {
   "cell_type": "code",
   "execution_count": 18,
   "metadata": {},
   "outputs": [
    {
     "name": "stdout",
     "output_type": "stream",
     "text": [
      "The chin is at these pixel locations: [(92, 303), (98, 349), (111, 394), (123, 439), (136, 484), (159, 525), (189, 556), (226, 580), (265, 587), (302, 579), (337, 556), (365, 524), (388, 483), (403, 439), (415, 394), (427, 348), (432, 303)]\n"
     ]
    }
   ],
   "source": [
    "for(face_landmarks) in face_landmarks_list:\n",
    "    print(\"The chin is at these pixel locations: {}\".format(face_landmarks['chin']))"
   ]
  },
  {
   "cell_type": "code",
   "execution_count": 19,
   "metadata": {},
   "outputs": [
    {
     "name": "stdout",
     "output_type": "stream",
     "text": [
      "chin: [(92, 303), (98, 349), (111, 394), (123, 439), (136, 484), (159, 525), (189, 556), (226, 580), (265, 587), (302, 579), (337, 556), (365, 524), (388, 483), (403, 439), (415, 394), (427, 348), (432, 303)]\n",
      "left_eyebrow: [(122, 281), (147, 270), (173, 270), (199, 277), (224, 289)]\n",
      "right_eyebrow: [(306, 288), (331, 275), (357, 269), (383, 268), (407, 278)]\n",
      "nose_bridge: [(266, 326), (266, 359), (266, 393), (266, 426)]\n",
      "nose_tip: [(241, 442), (252, 447), (266, 452), (279, 447), (291, 442)]\n",
      "left_eye: [(154, 326), (173, 314), (196, 316), (214, 332), (193, 336), (171, 335)]\n",
      "right_eye: [(316, 330), (334, 314), (357, 312), (375, 324), (359, 333), (337, 334)]\n",
      "top_lip: [(208, 493), (230, 481), (251, 474), (267, 479), (283, 474), (301, 480), (323, 491), (312, 493), (283, 492), (266, 493), (250, 493), (219, 495)]\n",
      "bottom_lip: [(323, 491), (303, 510), (284, 520), (266, 522), (249, 521), (229, 511), (208, 493), (219, 495), (250, 494), (266, 496), (283, 493), (312, 493)]\n"
     ]
    }
   ],
   "source": [
    "for clave, valor in face_landmarks_list[0].items():\n",
    "    print(clave + \":\", valor)"
   ]
  },
  {
   "cell_type": "markdown",
   "metadata": {},
   "source": [
    "Vamos a combinarlo para hacer un dataset. Primero las librerias"
   ]
  },
  {
   "cell_type": "code",
   "execution_count": 20,
   "metadata": {},
   "outputs": [
    {
     "name": "stdout",
     "output_type": "stream",
     "text": [
      "WARNING:tensorflow:From C:\\Users\\Waldosir\\AppData\\Local\\Packages\\PythonSoftwareFoundation.Python.3.9_qbz5n2kfra8p0\\LocalCache\\local-packages\\Python39\\site-packages\\keras\\src\\losses.py:2976: The name tf.losses.sparse_softmax_cross_entropy is deprecated. Please use tf.compat.v1.losses.sparse_softmax_cross_entropy instead.\n",
      "\n"
     ]
    }
   ],
   "source": [
    "import matplotlib.pyplot as plt\n",
    "import numpy as np\n",
    "import os\n",
    "import PIL\n",
    "import tensorflow as tf\n",
    "\n",
    "from tensorflow import keras\n",
    "from tensorflow.keras import layers\n",
    "from tensorflow.keras.models import Sequential"
   ]
  },
  {
   "cell_type": "code",
   "execution_count": 29,
   "metadata": {},
   "outputs": [
    {
     "ename": "FileNotFoundError",
     "evalue": "[WinError 3] El sistema no puede encontrar la ruta especificada: 'Marzo\\\\BD\\\\corpus_images'",
     "output_type": "error",
     "traceback": [
      "\u001b[1;31m---------------------------------------------------------------------------\u001b[0m",
      "\u001b[1;31mFileNotFoundError\u001b[0m                         Traceback (most recent call last)",
      "Cell \u001b[1;32mIn[29], line 7\u001b[0m\n\u001b[0;32m      4\u001b[0m directorio_principal \u001b[38;5;241m=\u001b[39m \u001b[38;5;124m\"\u001b[39m\u001b[38;5;124mMarzo\u001b[39m\u001b[38;5;130;01m\\\\\u001b[39;00m\u001b[38;5;124mBD\u001b[39m\u001b[38;5;130;01m\\\\\u001b[39;00m\u001b[38;5;124mcorpus_images\u001b[39m\u001b[38;5;124m\"\u001b[39m\n\u001b[0;32m      6\u001b[0m \u001b[38;5;66;03m# Listar directorios en el directorio principal\u001b[39;00m\n\u001b[1;32m----> 7\u001b[0m directorios \u001b[38;5;241m=\u001b[39m [nombre \u001b[38;5;28;01mfor\u001b[39;00m nombre \u001b[38;5;129;01min\u001b[39;00m \u001b[43mos\u001b[49m\u001b[38;5;241;43m.\u001b[39;49m\u001b[43mlistdir\u001b[49m\u001b[43m(\u001b[49m\u001b[43mdirectorio_principal\u001b[49m\u001b[43m)\u001b[49m \u001b[38;5;28;01mif\u001b[39;00m os\u001b[38;5;241m.\u001b[39mpath\u001b[38;5;241m.\u001b[39misdir(os\u001b[38;5;241m.\u001b[39mpath\u001b[38;5;241m.\u001b[39mjoin(directorio_principal, nombre))]\n\u001b[0;32m      9\u001b[0m \u001b[38;5;66;03m# Imprimir los directorios encontrados\u001b[39;00m\n\u001b[0;32m     10\u001b[0m \u001b[38;5;28mprint\u001b[39m(\u001b[38;5;124m\"\u001b[39m\u001b[38;5;124mDirectorios encontrados:\u001b[39m\u001b[38;5;124m\"\u001b[39m)\n",
      "\u001b[1;31mFileNotFoundError\u001b[0m: [WinError 3] El sistema no puede encontrar la ruta especificada: 'Marzo\\\\BD\\\\corpus_images'"
     ]
    }
   ],
   "source": [
    "import os\n",
    "\n",
    "# Ruta al directorio principal donde se descomprimieron los archivos\n",
    "directorio_principal = \"C:\\\\Users\\\\Waldosir\\\\Documents\\\\2doCodigo\\\\TopicoIA\\\\Marzo\\\\BD\\\\corpus_images\"\n",
    "\n",
    "# Listar directorios en el directorio principal\n",
    "directorios = [nombre for nombre in os.listdir(directorio_principal) if os.path.isdir(os.path.join(directorio_principal, nombre))]\n",
    "\n",
    "# Imprimir los directorios encontrados\n",
    "print(\"Directorios encontrados:\")\n",
    "for directorio in directorios:\n",
    "    print(directorio)\n"
   ]
  },
  {
   "cell_type": "code",
   "execution_count": 23,
   "metadata": {},
   "outputs": [
    {
     "name": "stdout",
     "output_type": "stream",
     "text": [
      "C:\\Users\\Waldosir\\.keras\\datasets\\flower_photos\n"
     ]
    }
   ],
   "source": [
    "print(data_dir)"
   ]
  }
 ],
 "metadata": {
  "kernelspec": {
   "display_name": "Python 3",
   "language": "python",
   "name": "python3"
  },
  "language_info": {
   "codemirror_mode": {
    "name": "ipython",
    "version": 3
   },
   "file_extension": ".py",
   "mimetype": "text/x-python",
   "name": "python",
   "nbconvert_exporter": "python",
   "pygments_lexer": "ipython3",
   "version": "3.9.13"
  }
 },
 "nbformat": 4,
 "nbformat_minor": 2
}
