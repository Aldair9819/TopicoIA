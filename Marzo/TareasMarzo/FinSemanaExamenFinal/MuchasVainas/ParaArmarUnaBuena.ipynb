{
 "cells": [
  {
   "cell_type": "markdown",
   "metadata": {},
   "source": [
    "Importamos librerias y definimos la ruta de la base de datos"
   ]
  },
  {
   "cell_type": "code",
   "execution_count": 2,
   "metadata": {},
   "outputs": [],
   "source": [
    "import os\n",
    "import pandas as pd\n",
    "import face_recognition\n",
    "from PIL import Image\n",
    "import matplotlib.pyplot as plt\n",
    "import random\n",
    "import numpy as np\n",
    "\n",
    "from sklearn.model_selection import train_test_split\n",
    "from sklearn.preprocessing import LabelEncoder\n",
    "from keras.models import Sequential\n",
    "from keras.layers import Dense\n",
    "\n",
    "# Definir la ruta de la carpeta que contiene las imágenes\n",
    "ruta_carpeta = 'C:\\\\Users\\\\Waldosir\\\\Documents\\\\2doCodigo\\\\TopicoIA\\\\Marzo\\\\BD\\\\corpus_images'\n",
    "\n"
   ]
  },
  {
   "cell_type": "markdown",
   "metadata": {},
   "source": [
    "Recorremos toda la carpeta y hacemos una matriz con todos los datos de todas las imagenes"
   ]
  },
  {
   "cell_type": "code",
   "execution_count": 3,
   "metadata": {},
   "outputs": [
    {
     "name": "stdout",
     "output_type": "stream",
     "text": [
      "Error en archivo:208.jpeg\n",
      "Error en archivo:225.jpeg\n",
      "Error en archivo:226.jpeg\n",
      "Error en archivo:228.jpeg\n",
      "Error en archivo:230.jpeg\n",
      "Error en archivo:234.jpeg\n",
      "Error en archivo:239.jpeg\n",
      "Error en archivo:240.jpeg\n",
      "Error en archivo:242.jpeg\n",
      "Error en archivo:243.jpeg\n",
      "Error en archivo:250.jpeg\n",
      "Error en archivo:251.jpeg\n",
      "Error en archivo:255.jpeg\n",
      "Error en archivo:256.jpeg\n",
      "Error en archivo:identificador_1558_2016-11-28_14-55-22.jpeg\n",
      "Error en archivo:identificador_5867_2016-12-05_15-02-28.jpeg\n",
      "Error en archivo:identificador_993_2016-11-09_14-05-22.jpeg\n",
      "Error en archivo:identificador_5772_2016-12-05_14-31-53.jpeg\n",
      "Error en archivo:identificador_994_2016-11-09_14-05-26.jpeg\n"
     ]
    }
   ],
   "source": [
    "# Crear una lista para almacenar los datos de las imágenes\n",
    "datos_imagen_recortada = []\n",
    "# Recorrer la carpeta para buscar archivos jpg\n",
    "for carpeta_nombre in os.listdir(ruta_carpeta):\n",
    "    carpeta_ruta = os.path.join(ruta_carpeta, carpeta_nombre)\n",
    "    if os.path.isdir(carpeta_ruta):\n",
    "        for archivo_nombre in os.listdir(carpeta_ruta):\n",
    "            try:\n",
    "                archivo_ruta = os.path.join(carpeta_ruta, archivo_nombre)\n",
    "                \n",
    "                # Cargar la imagen utilizando PIL (Pillow)\n",
    "                imagen = face_recognition.load_image_file(archivo_ruta)\n",
    "                \n",
    "                # Redimensionar la imagen a 150x150\n",
    "                imagen_redimensionada = np.array(Image.fromarray(imagen).resize((150, 150)))\n",
    "                # Obtener los landmarks faciales\n",
    "                landmarks = face_recognition.face_landmarks(imagen_redimensionada)\n",
    "                \n",
    "                caracteristicas = []\n",
    "                for clave,valor in landmarks[0].items():\n",
    "                    caracteristicas.append(valor)\n",
    "\n",
    "                # Detectar los rostros en la imagen\n",
    "                rostros = face_recognition.face_locations(imagen_redimensionada)\n",
    "\n",
    "                #Recorta la cara\n",
    "                cara = rostros[0]\n",
    "                top, right, bottom, left = cara\n",
    "                cara_recortada = imagen_redimensionada[top:bottom, left:right]\n",
    "                \n",
    "                # Agregar la información de la imagen al DataFrame\n",
    "                datos_imagen_recortada.append([imagen_redimensionada,cara_recortada, caracteristicas,carpeta_nombre])\n",
    "            except Exception as e:\n",
    "                print(\"Error en archivo:\"+str(archivo_nombre))"
   ]
  },
  {
   "cell_type": "code",
   "execution_count": 4,
   "metadata": {},
   "outputs": [
    {
     "data": {
      "text/html": [
       "<div>\n",
       "<style scoped>\n",
       "    .dataframe tbody tr th:only-of-type {\n",
       "        vertical-align: middle;\n",
       "    }\n",
       "\n",
       "    .dataframe tbody tr th {\n",
       "        vertical-align: top;\n",
       "    }\n",
       "\n",
       "    .dataframe thead th {\n",
       "        text-align: right;\n",
       "    }\n",
       "</style>\n",
       "<table border=\"1\" class=\"dataframe\">\n",
       "  <thead>\n",
       "    <tr style=\"text-align: right;\">\n",
       "      <th></th>\n",
       "      <th>Imagen</th>\n",
       "      <th>Imagen con zoom</th>\n",
       "      <th>Hitos faciales</th>\n",
       "      <th>Etiquetas</th>\n",
       "    </tr>\n",
       "  </thead>\n",
       "  <tbody>\n",
       "    <tr>\n",
       "      <th>0</th>\n",
       "      <td>[[[165, 166, 161], [165, 166, 161], [165, 166,...</td>\n",
       "      <td>[[[160, 162, 161], [160, 162, 161], [160, 162,...</td>\n",
       "      <td>[[(62, 83), (62, 88), (62, 93), (63, 97), (64,...</td>\n",
       "      <td>bored</td>\n",
       "    </tr>\n",
       "    <tr>\n",
       "      <th>1</th>\n",
       "      <td>[[[164, 166, 161], [165, 167, 162], [164, 166,...</td>\n",
       "      <td>[[[160, 162, 160], [161, 162, 161], [160, 161,...</td>\n",
       "      <td>[[(62, 83), (62, 87), (62, 92), (63, 96), (64,...</td>\n",
       "      <td>bored</td>\n",
       "    </tr>\n",
       "    <tr>\n",
       "      <th>2</th>\n",
       "      <td>[[[165, 165, 163], [165, 165, 163], [164, 165,...</td>\n",
       "      <td>[[[159, 161, 158], [160, 162, 159], [161, 162,...</td>\n",
       "      <td>[[(63, 82), (63, 87), (63, 91), (64, 96), (65,...</td>\n",
       "      <td>bored</td>\n",
       "    </tr>\n",
       "    <tr>\n",
       "      <th>3</th>\n",
       "      <td>[[[165, 166, 162], [165, 165, 164], [165, 165,...</td>\n",
       "      <td>[[[159, 161, 158], [161, 163, 160], [155, 157,...</td>\n",
       "      <td>[[(63, 83), (62, 87), (63, 92), (63, 97), (65,...</td>\n",
       "      <td>bored</td>\n",
       "    </tr>\n",
       "    <tr>\n",
       "      <th>4</th>\n",
       "      <td>[[[165, 166, 161], [166, 167, 162], [165, 167,...</td>\n",
       "      <td>[[[160, 162, 160], [161, 163, 161], [152, 154,...</td>\n",
       "      <td>[[(63, 83), (63, 87), (63, 92), (63, 96), (64,...</td>\n",
       "      <td>bored</td>\n",
       "    </tr>\n",
       "  </tbody>\n",
       "</table>\n",
       "</div>"
      ],
      "text/plain": [
       "                                              Imagen  \\\n",
       "0  [[[165, 166, 161], [165, 166, 161], [165, 166,...   \n",
       "1  [[[164, 166, 161], [165, 167, 162], [164, 166,...   \n",
       "2  [[[165, 165, 163], [165, 165, 163], [164, 165,...   \n",
       "3  [[[165, 166, 162], [165, 165, 164], [165, 165,...   \n",
       "4  [[[165, 166, 161], [166, 167, 162], [165, 167,...   \n",
       "\n",
       "                                     Imagen con zoom  \\\n",
       "0  [[[160, 162, 161], [160, 162, 161], [160, 162,...   \n",
       "1  [[[160, 162, 160], [161, 162, 161], [160, 161,...   \n",
       "2  [[[159, 161, 158], [160, 162, 159], [161, 162,...   \n",
       "3  [[[159, 161, 158], [161, 163, 160], [155, 157,...   \n",
       "4  [[[160, 162, 160], [161, 163, 161], [152, 154,...   \n",
       "\n",
       "                                      Hitos faciales Etiquetas  \n",
       "0  [[(62, 83), (62, 88), (62, 93), (63, 97), (64,...     bored  \n",
       "1  [[(62, 83), (62, 87), (62, 92), (63, 96), (64,...     bored  \n",
       "2  [[(63, 82), (63, 87), (63, 91), (64, 96), (65,...     bored  \n",
       "3  [[(63, 83), (62, 87), (63, 92), (63, 97), (65,...     bored  \n",
       "4  [[(63, 83), (63, 87), (63, 92), (63, 96), (64,...     bored  "
      ]
     },
     "execution_count": 4,
     "metadata": {},
     "output_type": "execute_result"
    }
   ],
   "source": [
    "columnas = ['Imagen', 'Imagen con zoom', 'Hitos faciales', 'Etiquetas']\n",
    "df = pd.DataFrame(datos_imagen_recortada, columns=columnas)\n",
    "df.head()"
   ]
  },
  {
   "cell_type": "code",
   "execution_count": null,
   "metadata": {},
   "outputs": [],
   "source": []
  },
  {
   "cell_type": "markdown",
   "metadata": {},
   "source": [
    "Conversion a JSON. Es muy pesado, por lo que pasamos de ello."
   ]
  },
  {
   "cell_type": "code",
   "execution_count": 9,
   "metadata": {},
   "outputs": [],
   "source": [
    "#df_imagenes_recortadas.to_json('test.csv')"
   ]
  },
  {
   "cell_type": "code",
   "execution_count": 10,
   "metadata": {},
   "outputs": [],
   "source": [
    "#df_jason = pd.read_json('test.csv')\n",
    "#df_jason.head()"
   ]
  },
  {
   "cell_type": "code",
   "execution_count": 28,
   "metadata": {},
   "outputs": [],
   "source": [
    "df = pd.read_pickle('emotions_dataset.pkl')"
   ]
  },
  {
   "cell_type": "code",
   "execution_count": 29,
   "metadata": {},
   "outputs": [
    {
     "data": {
      "text/html": [
       "<div>\n",
       "<style scoped>\n",
       "    .dataframe tbody tr th:only-of-type {\n",
       "        vertical-align: middle;\n",
       "    }\n",
       "\n",
       "    .dataframe tbody tr th {\n",
       "        vertical-align: top;\n",
       "    }\n",
       "\n",
       "    .dataframe thead th {\n",
       "        text-align: right;\n",
       "    }\n",
       "</style>\n",
       "<table border=\"1\" class=\"dataframe\">\n",
       "  <thead>\n",
       "    <tr style=\"text-align: right;\">\n",
       "      <th></th>\n",
       "      <th>Imagen</th>\n",
       "      <th>Imagen con zoom</th>\n",
       "      <th>Hitos faciales</th>\n",
       "      <th>Etiquetas</th>\n",
       "    </tr>\n",
       "  </thead>\n",
       "  <tbody>\n",
       "    <tr>\n",
       "      <th>0</th>\n",
       "      <td>[[[165, 166, 161], [165, 166, 161], [165, 166,...</td>\n",
       "      <td>[[[160, 162, 161], [160, 162, 161], [160, 162,...</td>\n",
       "      <td>[[(62, 83), (62, 88), (62, 93), (63, 97), (64,...</td>\n",
       "      <td>bored</td>\n",
       "    </tr>\n",
       "    <tr>\n",
       "      <th>1</th>\n",
       "      <td>[[[164, 166, 161], [165, 167, 162], [164, 166,...</td>\n",
       "      <td>[[[160, 162, 160], [161, 162, 161], [160, 161,...</td>\n",
       "      <td>[[(62, 83), (62, 87), (62, 92), (63, 96), (64,...</td>\n",
       "      <td>bored</td>\n",
       "    </tr>\n",
       "    <tr>\n",
       "      <th>2</th>\n",
       "      <td>[[[165, 165, 163], [165, 165, 163], [164, 165,...</td>\n",
       "      <td>[[[159, 161, 158], [160, 162, 159], [161, 162,...</td>\n",
       "      <td>[[(63, 82), (63, 87), (63, 91), (64, 96), (65,...</td>\n",
       "      <td>bored</td>\n",
       "    </tr>\n",
       "    <tr>\n",
       "      <th>3</th>\n",
       "      <td>[[[165, 166, 162], [165, 165, 164], [165, 165,...</td>\n",
       "      <td>[[[159, 161, 158], [161, 163, 160], [155, 157,...</td>\n",
       "      <td>[[(63, 83), (62, 87), (63, 92), (63, 97), (65,...</td>\n",
       "      <td>bored</td>\n",
       "    </tr>\n",
       "    <tr>\n",
       "      <th>4</th>\n",
       "      <td>[[[165, 166, 161], [166, 167, 162], [165, 167,...</td>\n",
       "      <td>[[[160, 162, 160], [161, 163, 161], [152, 154,...</td>\n",
       "      <td>[[(63, 83), (63, 87), (63, 92), (63, 96), (64,...</td>\n",
       "      <td>bored</td>\n",
       "    </tr>\n",
       "  </tbody>\n",
       "</table>\n",
       "</div>"
      ],
      "text/plain": [
       "                                              Imagen  \\\n",
       "0  [[[165, 166, 161], [165, 166, 161], [165, 166,...   \n",
       "1  [[[164, 166, 161], [165, 167, 162], [164, 166,...   \n",
       "2  [[[165, 165, 163], [165, 165, 163], [164, 165,...   \n",
       "3  [[[165, 166, 162], [165, 165, 164], [165, 165,...   \n",
       "4  [[[165, 166, 161], [166, 167, 162], [165, 167,...   \n",
       "\n",
       "                                     Imagen con zoom  \\\n",
       "0  [[[160, 162, 161], [160, 162, 161], [160, 162,...   \n",
       "1  [[[160, 162, 160], [161, 162, 161], [160, 161,...   \n",
       "2  [[[159, 161, 158], [160, 162, 159], [161, 162,...   \n",
       "3  [[[159, 161, 158], [161, 163, 160], [155, 157,...   \n",
       "4  [[[160, 162, 160], [161, 163, 161], [152, 154,...   \n",
       "\n",
       "                                      Hitos faciales Etiquetas  \n",
       "0  [[(62, 83), (62, 88), (62, 93), (63, 97), (64,...     bored  \n",
       "1  [[(62, 83), (62, 87), (62, 92), (63, 96), (64,...     bored  \n",
       "2  [[(63, 82), (63, 87), (63, 91), (64, 96), (65,...     bored  \n",
       "3  [[(63, 83), (62, 87), (63, 92), (63, 97), (65,...     bored  \n",
       "4  [[(63, 83), (63, 87), (63, 92), (63, 96), (64,...     bored  "
      ]
     },
     "execution_count": 29,
     "metadata": {},
     "output_type": "execute_result"
    }
   ],
   "source": [
    "df.head()\n"
   ]
  },
  {
   "cell_type": "code",
   "execution_count": 25,
   "metadata": {},
   "outputs": [],
   "source": [
    "# Función para convertir una lista de tuplas en una lista de listas\n",
    "def convertir_a_lista_de_listas(lista_tuplas):\n",
    "    return [[coord[0], coord[1]] for coord in lista_tuplas]\n",
    "\n",
    "df_nuevo['Hitos faciales'] = df['Hitos faciales'].apply(convertir_a_lista_de_listas)"
   ]
  },
  {
   "cell_type": "markdown",
   "metadata": {},
   "source": [
    "Sacar muestras de una fila:"
   ]
  },
  {
   "cell_type": "code",
   "execution_count": null,
   "metadata": {},
   "outputs": [],
   "source": [
    "# Crear una nueva columna para almacenar solo los registros que cumplan con la forma deseada\n",
    "df['Hitos faciales válidos'] = df['Hitos faciales'].apply(lambda x: x if np.array(x).shape == (1, 72, 2) else None)\n",
    "\n",
    "# Eliminar los registros que no cumplen con la forma deseada\n",
    "df = df.dropna(subset=['Hitos faciales válidos'])\n",
    "\n",
    "# Convertir la columna 'Hitos faciales válidos' en un array NumPy\n",
    "puntos = np.array(df['Hitos faciales válidos'].tolist())\n",
    "\n",
    "# Verificar la forma de X\n",
    "print(puntos.shape)"
   ]
  }
 ],
 "metadata": {
  "kernelspec": {
   "display_name": "Python 3",
   "language": "python",
   "name": "python3"
  },
  "language_info": {
   "codemirror_mode": {
    "name": "ipython",
    "version": 3
   },
   "file_extension": ".py",
   "mimetype": "text/x-python",
   "name": "python",
   "nbconvert_exporter": "python",
   "pygments_lexer": "ipython3",
   "version": "3.9.18"
  }
 },
 "nbformat": 4,
 "nbformat_minor": 2
}
