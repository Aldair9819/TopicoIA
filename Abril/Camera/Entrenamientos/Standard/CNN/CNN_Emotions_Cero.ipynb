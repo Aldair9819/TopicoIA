{
 "cells": [
  {
   "cell_type": "code",
   "execution_count": 1,
   "metadata": {},
   "outputs": [
    {
     "name": "stderr",
     "output_type": "stream",
     "text": [
      "2024-05-08 11:06:18.633119: I tensorflow/core/platform/cpu_feature_guard.cc:210] This TensorFlow binary is optimized to use available CPU instructions in performance-critical operations.\n",
      "To enable the following instructions: AVX2 FMA, in other operations, rebuild TensorFlow with the appropriate compiler flags.\n",
      "2024-05-08 11:06:19.323036: W tensorflow/compiler/tf2tensorrt/utils/py_utils.cc:38] TF-TRT Warning: Could not find TensorRT\n"
     ]
    }
   ],
   "source": [
    "import pandas as pd\n",
    "import numpy as np\n",
    "from sklearn.model_selection import train_test_split\n",
    "import tensorflow as tf\n",
    "from tensorflow.keras.utils import to_categorical\n",
    "from tensorflow.keras.preprocessing.image import ImageDataGenerator\n",
    "import matplotlib.pyplot as plt\n",
    "import seaborn as sns\n",
    "from sklearn.metrics import confusion_matrix\n",
    "from PIL import Image\n",
    "import subprocess\n",
    "import cv2\n",
    "from tensorflow.keras.callbacks import EarlyStopping\n"
   ]
  },
  {
   "cell_type": "code",
   "execution_count": 2,
   "metadata": {},
   "outputs": [
    {
     "name": "stdout",
     "output_type": "stream",
     "text": [
      "GPU disponible\n",
      "PhysicalDevice(name='/physical_device:GPU:0', device_type='GPU')\n"
     ]
    },
    {
     "name": "stderr",
     "output_type": "stream",
     "text": [
      "2024-05-08 11:06:20.207959: I external/local_xla/xla/stream_executor/cuda/cuda_executor.cc:998] successful NUMA node read from SysFS had negative value (-1), but there must be at least one NUMA node, so returning NUMA node zero. See more at https://github.com/torvalds/linux/blob/v6.0/Documentation/ABI/testing/sysfs-bus-pci#L344-L355\n",
      "2024-05-08 11:06:20.243834: I external/local_xla/xla/stream_executor/cuda/cuda_executor.cc:998] successful NUMA node read from SysFS had negative value (-1), but there must be at least one NUMA node, so returning NUMA node zero. See more at https://github.com/torvalds/linux/blob/v6.0/Documentation/ABI/testing/sysfs-bus-pci#L344-L355\n",
      "2024-05-08 11:06:20.244118: I external/local_xla/xla/stream_executor/cuda/cuda_executor.cc:998] successful NUMA node read from SysFS had negative value (-1), but there must be at least one NUMA node, so returning NUMA node zero. See more at https://github.com/torvalds/linux/blob/v6.0/Documentation/ABI/testing/sysfs-bus-pci#L344-L355\n"
     ]
    }
   ],
   "source": [
    "import tensorflow as tf\n",
    "\n",
    "if tf.config.experimental.list_physical_devices('GPU'):\n",
    "    print('GPU disponible')\n",
    "    for device in tf.config.experimental.list_physical_devices('GPU'):\n",
    "        print(device)\n",
    "else:\n",
    "    print('No hay GPU disponible')\n",
    "    "
   ]
  },
  {
   "cell_type": "code",
   "execution_count": 3,
   "metadata": {},
   "outputs": [
    {
     "name": "stdout",
     "output_type": "stream",
     "text": [
      "Cantidad total de memoria VRAM en la GPU: 6.0 GB\n"
     ]
    }
   ],
   "source": [
    "def get_gpu_memory():\n",
    "    \"\"\"Returns the total memory of the GPU in MB\"\"\"\n",
    "    try:\n",
    "        result = subprocess.check_output(\n",
    "            [\"nvidia-smi\", \"--query-gpu=memory.total\", \"--format=csv,nounits,noheader\"], \n",
    "            encoding='utf-8')\n",
    "        return int(result.strip())\n",
    "    except Exception as e:\n",
    "        print(\"Error al obtener la información de la memoria de la GPU:\", e)\n",
    "        return None\n",
    "\n",
    "# Obtener la cantidad de memoria VRAM disponible en la GPU\n",
    "total_memory_mb = get_gpu_memory()\n",
    "if total_memory_mb is not None:\n",
    "    total_memory_gb = total_memory_mb / 1024\n",
    "    print(\"Cantidad total de memoria VRAM en la GPU:\", total_memory_gb, \"GB\")\n",
    "    \n",
    "    # Configurar TensorFlow para limitar el uso de memoria GPU\n",
    "    gpus = tf.config.experimental.list_physical_devices('GPU')\n",
    "    if gpus:\n",
    "        for gpu in gpus:\n",
    "            # Limitar la memoria GPU al máximo disponible\n",
    "            tf.config.experimental.set_memory_growth(gpu, True)\n",
    "else:\n",
    "    print(\"No se pudo obtener la información de la memoria de la GPU.\")"
   ]
  },
  {
   "cell_type": "markdown",
   "metadata": {},
   "source": [
    "Leer la base de datos"
   ]
  },
  {
   "cell_type": "code",
   "execution_count": 4,
   "metadata": {},
   "outputs": [],
   "source": [
    "ruta_archivo = '/home/waldos/Documents/2doCodigo/TopicoIA/Abril/Camera/Entrenamientos/BD_Emotions_Gray.h5'\n",
    "df  = pd.read_hdf(ruta_archivo)"
   ]
  },
  {
   "cell_type": "code",
   "execution_count": 5,
   "metadata": {},
   "outputs": [
    {
     "data": {
      "text/html": [
       "<div>\n",
       "<style scoped>\n",
       "    .dataframe tbody tr th:only-of-type {\n",
       "        vertical-align: middle;\n",
       "    }\n",
       "\n",
       "    .dataframe tbody tr th {\n",
       "        vertical-align: top;\n",
       "    }\n",
       "\n",
       "    .dataframe thead th {\n",
       "        text-align: right;\n",
       "    }\n",
       "</style>\n",
       "<table border=\"1\" class=\"dataframe\">\n",
       "  <thead>\n",
       "    <tr style=\"text-align: right;\">\n",
       "      <th></th>\n",
       "      <th>Imagen</th>\n",
       "      <th>Caracteristicas</th>\n",
       "      <th>Rostro</th>\n",
       "      <th>Etiqueta</th>\n",
       "    </tr>\n",
       "  </thead>\n",
       "  <tbody>\n",
       "    <tr>\n",
       "      <th>0</th>\n",
       "      <td>[[181, 181, 181, 181, 182, 182, 181, 182, 182,...</td>\n",
       "      <td>[[[60, 68], [60, 74], [61, 80], [62, 86], [65,...</td>\n",
       "      <td>[[27, 25, 33, 28, 19, 23, 33, 22, 23, 42, 79, ...</td>\n",
       "      <td>focused</td>\n",
       "    </tr>\n",
       "    <tr>\n",
       "      <th>1</th>\n",
       "      <td>[[165, 165, 166, 165, 167, 166, 166, 166, 166,...</td>\n",
       "      <td>[[[55, 59], [55, 65], [56, 72], [57, 78], [59,...</td>\n",
       "      <td>[[165, 16, 8, 46, 13, 11, 8, 13, 32, 73, 93, 1...</td>\n",
       "      <td>focused</td>\n",
       "    </tr>\n",
       "    <tr>\n",
       "      <th>2</th>\n",
       "      <td>[[162, 163, 162, 162, 163, 162, 162, 162, 162,...</td>\n",
       "      <td>[[[56, 74], [56, 81], [58, 89], [59, 96], [62,...</td>\n",
       "      <td>[[17, 18, 15, 23, 38, 67, 87, 96, 95, 102, 102...</td>\n",
       "      <td>focused</td>\n",
       "    </tr>\n",
       "    <tr>\n",
       "      <th>3</th>\n",
       "      <td>[[167, 167, 167, 167, 169, 167, 167, 168, 168,...</td>\n",
       "      <td>[[[59, 83], [59, 90], [59, 97], [60, 104], [61...</td>\n",
       "      <td>[[173, 149, 16, 13, 13, 12, 31, 68, 91, 96, 10...</td>\n",
       "      <td>focused</td>\n",
       "    </tr>\n",
       "    <tr>\n",
       "      <th>4</th>\n",
       "      <td>[[171, 169, 170, 168, 171, 172, 170, 170, 171,...</td>\n",
       "      <td>[[[50, 67], [50, 74], [51, 81], [52, 88], [53,...</td>\n",
       "      <td>[[171, 171, 170, 168, 52, 16, 8, 5, 8, 27, 72,...</td>\n",
       "      <td>focused</td>\n",
       "    </tr>\n",
       "  </tbody>\n",
       "</table>\n",
       "</div>"
      ],
      "text/plain": [
       "                                              Imagen  \\\n",
       "0  [[181, 181, 181, 181, 182, 182, 181, 182, 182,...   \n",
       "1  [[165, 165, 166, 165, 167, 166, 166, 166, 166,...   \n",
       "2  [[162, 163, 162, 162, 163, 162, 162, 162, 162,...   \n",
       "3  [[167, 167, 167, 167, 169, 167, 167, 168, 168,...   \n",
       "4  [[171, 169, 170, 168, 171, 172, 170, 170, 171,...   \n",
       "\n",
       "                                     Caracteristicas  \\\n",
       "0  [[[60, 68], [60, 74], [61, 80], [62, 86], [65,...   \n",
       "1  [[[55, 59], [55, 65], [56, 72], [57, 78], [59,...   \n",
       "2  [[[56, 74], [56, 81], [58, 89], [59, 96], [62,...   \n",
       "3  [[[59, 83], [59, 90], [59, 97], [60, 104], [61...   \n",
       "4  [[[50, 67], [50, 74], [51, 81], [52, 88], [53,...   \n",
       "\n",
       "                                              Rostro Etiqueta  \n",
       "0  [[27, 25, 33, 28, 19, 23, 33, 22, 23, 42, 79, ...  focused  \n",
       "1  [[165, 16, 8, 46, 13, 11, 8, 13, 32, 73, 93, 1...  focused  \n",
       "2  [[17, 18, 15, 23, 38, 67, 87, 96, 95, 102, 102...  focused  \n",
       "3  [[173, 149, 16, 13, 13, 12, 31, 68, 91, 96, 10...  focused  \n",
       "4  [[171, 171, 170, 168, 52, 16, 8, 5, 8, 27, 72,...  focused  "
      ]
     },
     "execution_count": 5,
     "metadata": {},
     "output_type": "execute_result"
    }
   ],
   "source": [
    "df.head()\n"
   ]
  },
  {
   "cell_type": "code",
   "execution_count": 6,
   "metadata": {},
   "outputs": [
    {
     "name": "stdout",
     "output_type": "stream",
     "text": [
      "(5023, 4)\n"
     ]
    }
   ],
   "source": [
    "print(df.shape)"
   ]
  },
  {
   "cell_type": "code",
   "execution_count": 7,
   "metadata": {},
   "outputs": [
    {
     "data": {
      "image/png": "[encoded data removed]",
      "text/plain": [
       "<Figure size 800x500 with 1 Axes>"
      ]
     },
     "metadata": {},
     "output_type": "display_data"
    }
   ],
   "source": [
    "# Visualizar la distribución inicial de etiquetas\n",
    "plt.figure(figsize=(8, 5))\n",
    "df['Etiqueta'].value_counts().plot(kind='bar')\n",
    "plt.xlabel('Etiqueta')\n",
    "plt.ylabel('Cantidad de Datos')\n",
    "plt.title('Distribución Inicial de Etiquetas')\n",
    "plt.xticks(rotation=45)\n",
    "plt.tight_layout()\n",
    "plt.show()"
   ]
  },
  {
   "cell_type": "markdown",
   "metadata": {},
   "source": [
    "Eliminamos las filas que contengan "
   ]
  },
  {
   "cell_type": "code",
   "execution_count": 8,
   "metadata": {},
   "outputs": [],
   "source": [
    "# Filtrar y eliminar las filas que contienen las palabras 'relaxed', 'interesed' y 'focused' en la columna de etiqueta\n",
    "df = df[~df['Etiqueta'].str.contains('relaxed|interested|focused', case=False)]"
   ]
  },
  {
   "cell_type": "code",
   "execution_count": 9,
   "metadata": {},
   "outputs": [
    {
     "data": {
      "image/png": "[encoded data removed]",
      "text/plain": [
       "<Figure size 800x500 with 1 Axes>"
      ]
     },
     "metadata": {},
     "output_type": "display_data"
    }
   ],
   "source": [
    "# Visualizar la distribución inicial de etiquetas\n",
    "plt.figure(figsize=(8, 5))\n",
    "df['Etiqueta'].value_counts().plot(kind='bar')\n",
    "plt.xlabel('Etiqueta')\n",
    "plt.ylabel('Cantidad de Datos')\n",
    "plt.title('Distribución Inicial de Etiquetas')\n",
    "plt.xticks(rotation=45)\n",
    "plt.tight_layout()\n",
    "plt.show()"
   ]
  },
  {
   "cell_type": "code",
   "execution_count": 10,
   "metadata": {},
   "outputs": [
    {
     "data": {
      "text/html": [
       "<div>\n",
       "<style scoped>\n",
       "    .dataframe tbody tr th:only-of-type {\n",
       "        vertical-align: middle;\n",
       "    }\n",
       "\n",
       "    .dataframe tbody tr th {\n",
       "        vertical-align: top;\n",
       "    }\n",
       "\n",
       "    .dataframe thead th {\n",
       "        text-align: right;\n",
       "    }\n",
       "</style>\n",
       "<table border=\"1\" class=\"dataframe\">\n",
       "  <thead>\n",
       "    <tr style=\"text-align: right;\">\n",
       "      <th></th>\n",
       "      <th>Imagen</th>\n",
       "      <th>Caracteristicas</th>\n",
       "      <th>Rostro</th>\n",
       "      <th>Etiqueta</th>\n",
       "    </tr>\n",
       "  </thead>\n",
       "  <tbody>\n",
       "    <tr>\n",
       "      <th>250</th>\n",
       "      <td>[[154, 157, 156, 157, 158, 159, 157, 157, 159,...</td>\n",
       "      <td>[[[59, 64], [59, 72], [61, 80], [62, 88], [64,...</td>\n",
       "      <td>[[167, 166, 166, 18, 14, 35, 102, 18, 24, 39, ...</td>\n",
       "      <td>excited</td>\n",
       "    </tr>\n",
       "    <tr>\n",
       "      <th>251</th>\n",
       "      <td>[[156, 155, 156, 156, 159, 156, 156, 157, 158,...</td>\n",
       "      <td>[[[57, 63], [58, 71], [59, 79], [60, 87], [62,...</td>\n",
       "      <td>[[167, 151, 9, 12, 107, 112, 19, 30, 40, 42, 8...</td>\n",
       "      <td>excited</td>\n",
       "    </tr>\n",
       "    <tr>\n",
       "      <th>252</th>\n",
       "      <td>[[172, 171, 173, 171, 172, 172, 173, 172, 172,...</td>\n",
       "      <td>[[[60, 81], [60, 90], [61, 98], [62, 106], [64...</td>\n",
       "      <td>[[51, 5, 8, 81, 100, 105, 104, 107, 111, 123, ...</td>\n",
       "      <td>excited</td>\n",
       "    </tr>\n",
       "    <tr>\n",
       "      <th>253</th>\n",
       "      <td>[[171, 168, 168, 170, 171, 169, 169, 170, 170,...</td>\n",
       "      <td>[[[62, 86], [62, 92], [64, 97], [65, 102], [67...</td>\n",
       "      <td>[[16, 15, 12, 17, 23, 36, 84, 121, 132, 141, 1...</td>\n",
       "      <td>excited</td>\n",
       "    </tr>\n",
       "    <tr>\n",
       "      <th>254</th>\n",
       "      <td>[[180, 181, 181, 181, 183, 182, 181, 182, 182,...</td>\n",
       "      <td>[[[58, 75], [59, 82], [60, 89], [62, 96], [64,...</td>\n",
       "      <td>[[4, 5, 9, 25, 85, 107, 119, 126, 130, 134, 13...</td>\n",
       "      <td>excited</td>\n",
       "    </tr>\n",
       "  </tbody>\n",
       "</table>\n",
       "</div>"
      ],
      "text/plain": [
       "                                                Imagen  \\\n",
       "250  [[154, 157, 156, 157, 158, 159, 157, 157, 159,...   \n",
       "251  [[156, 155, 156, 156, 159, 156, 156, 157, 158,...   \n",
       "252  [[172, 171, 173, 171, 172, 172, 173, 172, 172,...   \n",
       "253  [[171, 168, 168, 170, 171, 169, 169, 170, 170,...   \n",
       "254  [[180, 181, 181, 181, 183, 182, 181, 182, 182,...   \n",
       "\n",
       "                                       Caracteristicas  \\\n",
       "250  [[[59, 64], [59, 72], [61, 80], [62, 88], [64,...   \n",
       "251  [[[57, 63], [58, 71], [59, 79], [60, 87], [62,...   \n",
       "252  [[[60, 81], [60, 90], [61, 98], [62, 106], [64...   \n",
       "253  [[[62, 86], [62, 92], [64, 97], [65, 102], [67...   \n",
       "254  [[[58, 75], [59, 82], [60, 89], [62, 96], [64,...   \n",
       "\n",
       "                                                Rostro Etiqueta  \n",
       "250  [[167, 166, 166, 18, 14, 35, 102, 18, 24, 39, ...  excited  \n",
       "251  [[167, 151, 9, 12, 107, 112, 19, 30, 40, 42, 8...  excited  \n",
       "252  [[51, 5, 8, 81, 100, 105, 104, 107, 111, 123, ...  excited  \n",
       "253  [[16, 15, 12, 17, 23, 36, 84, 121, 132, 141, 1...  excited  \n",
       "254  [[4, 5, 9, 25, 85, 107, 119, 126, 130, 134, 13...  excited  "
      ]
     },
     "execution_count": 10,
     "metadata": {},
     "output_type": "execute_result"
    }
   ],
   "source": [
    "df.head()"
   ]
  },
  {
   "cell_type": "markdown",
   "metadata": {},
   "source": [
    "Verificar que no sea irregular de imagen y rostro"
   ]
  },
  {
   "cell_type": "code",
   "execution_count": 11,
   "metadata": {},
   "outputs": [
    {
     "name": "stdout",
     "output_type": "stream",
     "text": [
      "(4623,)\n",
      "(4623,)\n"
     ]
    }
   ],
   "source": [
    "print(df['Imagen'].shape)\n",
    "print(df['Rostro'].shape)"
   ]
  },
  {
   "cell_type": "markdown",
   "metadata": {},
   "source": [
    "Separar caracteristicas y etiquetas"
   ]
  },
  {
   "cell_type": "code",
   "execution_count": 12,
   "metadata": {},
   "outputs": [],
   "source": [
    "X = np.array(df['Rostro'])\n",
    "y = df['Etiqueta']"
   ]
  },
  {
   "cell_type": "markdown",
   "metadata": {},
   "source": [
    "Redimensionar"
   ]
  },
  {
   "cell_type": "code",
   "execution_count": 13,
   "metadata": {},
   "outputs": [],
   "source": [
    "for i in range(X.shape[0]):\n",
    "    X[i] = cv2.resize(X[i], (150,150))\n",
    "    X[i] = np.expand_dims(X[i], axis=-1)"
   ]
  },
  {
   "cell_type": "code",
   "execution_count": 14,
   "metadata": {},
   "outputs": [
    {
     "name": "stdout",
     "output_type": "stream",
     "text": [
      "(150, 150, 1)\n"
     ]
    }
   ],
   "source": [
    "print(X[0].shape)"
   ]
  },
  {
   "cell_type": "code",
   "execution_count": 15,
   "metadata": {},
   "outputs": [
    {
     "name": "stdout",
     "output_type": "stream",
     "text": [
      "[0 0 0 ... 2 2 2]\n"
     ]
    }
   ],
   "source": [
    "etiquetas = y.unique()\n",
    "y_encoded = pd.Categorical(y, categories=etiquetas).codes\n",
    "print(y_encoded)"
   ]
  },
  {
   "cell_type": "markdown",
   "metadata": {},
   "source": [
    "Hacemos los datos de entrenamiento y los de prueba"
   ]
  },
  {
   "cell_type": "code",
   "execution_count": 16,
   "metadata": {},
   "outputs": [],
   "source": [
    "\n",
    "# Dividir el dataset en conjuntos de entrenamiento y validación\n",
    "X_train, X_val, y_train, y_val = train_test_split(X, y_encoded, test_size=0.3, random_state=42, stratify=y_encoded)"
   ]
  },
  {
   "cell_type": "markdown",
   "metadata": {},
   "source": [
    "Transformar etiquetas a One_hot. Dependiendo la posición del numero es la etiqueta"
   ]
  },
  {
   "cell_type": "code",
   "execution_count": 17,
   "metadata": {},
   "outputs": [
    {
     "name": "stdout",
     "output_type": "stream",
     "text": [
      "[[0. 1. 0.]\n",
      " [0. 1. 0.]\n",
      " [0. 0. 1.]\n",
      " ...\n",
      " [0. 0. 1.]\n",
      " [0. 0. 1.]\n",
      " [1. 0. 0.]]\n",
      "Clases originales: ['excited' 'engaged' 'bored']\n"
     ]
    }
   ],
   "source": [
    "# Convertir las etiquetas a formato one-hot\n",
    "y_train_one_hot = to_categorical(y_train)\n",
    "y_val_one_hot = to_categorical(y_val)\n",
    "\n",
    "print(y_val_one_hot)\n",
    "clases = df['Etiqueta'].unique()\n",
    "print(\"Clases originales:\", clases)"
   ]
  },
  {
   "cell_type": "markdown",
   "metadata": {},
   "source": [
    "Visualización de las etiquetas y su clasificación"
   ]
  },
  {
   "cell_type": "code",
   "execution_count": 18,
   "metadata": {},
   "outputs": [
    {
     "data": {
      "image/png": "[encoded data removed]",
      "text/plain": [
       "<Figure size 800x500 with 1 Axes>"
      ]
     },
     "metadata": {},
     "output_type": "display_data"
    }
   ],
   "source": [
    "plt.figure(figsize=(8,5))\n",
    "plt.bar(np.unique(y_train_one_hot.argmax(axis=1)), np.bincount(y_train_one_hot.argmax(axis=1)),align='center')\n",
    "plt.xticks(np.arange(len(clases)), clases)\n",
    "plt.xlabel('Etiqueta')\n",
    "plt.ylabel('Cantidad de datos')\n",
    "plt.title('Distribución después de One-hot en conjunto de entrenamiento')\n",
    "plt.tight_layout()\n",
    "plt.show()"
   ]
  },
  {
   "cell_type": "markdown",
   "metadata": {},
   "source": [
    "Normalizar datos de entrenamiento y de valores en numpy array"
   ]
  },
  {
   "cell_type": "code",
   "execution_count": 20,
   "metadata": {},
   "outputs": [],
   "source": [
    "X_train = np.array([np.array(x) for x in X_train])\n",
    "X_val = np.array([np.array(x) for x in X_val])"
   ]
  },
  {
   "cell_type": "markdown",
   "metadata": {},
   "source": [
    "Todos los datos puestos en float32, divididos en 255 para que sea normalizado del 0 al 1"
   ]
  },
  {
   "cell_type": "code",
   "execution_count": 21,
   "metadata": {},
   "outputs": [],
   "source": [
    "X_train =X_train.astype('float32')/255\n",
    "X_val = X_val.astype('float32')/255"
   ]
  },
  {
   "cell_type": "markdown",
   "metadata": {},
   "source": [
    "Generamos muchas imagenes en distintas posiciones para evitar sobre ajuste."
   ]
  },
  {
   "cell_type": "code",
   "execution_count": 23,
   "metadata": {},
   "outputs": [],
   "source": [
    "datagen = ImageDataGenerator(\n",
    "    rotation_range=20,\n",
    "    width_shift_range=0.2,\n",
    "    height_shift_range=0.2,\n",
    "    shear_range=0.2,\n",
    "    zoom_range=0.2,\n",
    "    horizontal_flip=True,\n",
    "    fill_mode='nearest'\n",
    "    \n",
    ")"
   ]
  },
  {
   "cell_type": "code",
   "execution_count": null,
   "metadata": {},
   "outputs": [],
   "source": [
    "train_generator = datagen.flow(X_train, y_train_one_hot, batch_size=32)\n"
   ]
  },
  {
   "cell_type": "markdown",
   "metadata": {},
   "source": [
    "Todo el modelo definido"
   ]
  },
  {
   "cell_type": "code",
   "execution_count": null,
   "metadata": {},
   "outputs": [],
   "source": []
  },
  {
   "cell_type": "code",
   "execution_count": null,
   "metadata": {},
   "outputs": [],
   "source": []
  }
 ],
 "metadata": {
  "kernelspec": {
   "display_name": "tf",
   "language": "python",
   "name": "python3"
  },
  "language_info": {
   "codemirror_mode": {
    "name": "ipython",
    "version": 3
   },
   "file_extension": ".py",
   "mimetype": "text/x-python",
   "name": "python",
   "nbconvert_exporter": "python",
   "pygments_lexer": "ipython3",
   "version": "3.9.19"
  }
 },
 "nbformat": 4,
 "nbformat_minor": 2
}
