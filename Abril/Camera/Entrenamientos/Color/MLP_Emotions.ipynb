{
 "cells": [
  {
   "cell_type": "markdown",
   "metadata": {},
   "source": [
    "Importamos Librerias"
   ]
  },
  {
   "cell_type": "code",
   "execution_count": 15,
   "metadata": {},
   "outputs": [],
   "source": [
    "import pandas as pd\n",
    "import matplotlib.pyplot as plt\n",
    "import numpy as np\n",
    "from sklearn.model_selection import train_test_split\n",
    "from sklearn.preprocessing import LabelEncoder\n",
    "import tensorflow as tf\n",
    "import subprocess\n",
    "from keras.layers import Input, Flatten, Dense\n",
    "from keras.models import Model\n",
    "from tensorflow.keras.callbacks import EarlyStopping"
   ]
  },
  {
   "cell_type": "markdown",
   "metadata": {},
   "source": [
    "Usar la VRAM necesaria de la GPU"
   ]
  },
  {
   "cell_type": "code",
   "execution_count": 16,
   "metadata": {},
   "outputs": [
    {
     "name": "stdout",
     "output_type": "stream",
     "text": [
      "Cantidad total de memoria VRAM en la GPU: 6.0 GB\n"
     ]
    }
   ],
   "source": [
    "def get_gpu_memory():\n",
    "    \"\"\"Returns the total memory of the GPU in MB\"\"\"\n",
    "    try:\n",
    "        result = subprocess.check_output(\n",
    "            [\"nvidia-smi\", \"--query-gpu=memory.total\", \"--format=csv,nounits,noheader\"], \n",
    "            encoding='utf-8')\n",
    "        return int(result.strip())\n",
    "    except Exception as e:\n",
    "        print(\"Error al obtener la información de la memoria de la GPU:\", e)\n",
    "        return None\n",
    "\n",
    "# Obtener la cantidad de memoria VRAM disponible en la GPU\n",
    "total_memory_mb = get_gpu_memory()\n",
    "if total_memory_mb is not None:\n",
    "    total_memory_gb = total_memory_mb / 1024\n",
    "    print(\"Cantidad total de memoria VRAM en la GPU:\", total_memory_gb, \"GB\")\n",
    "    \n",
    "    # Configurar TensorFlow para limitar el uso de memoria GPU\n",
    "    gpus = tf.config.experimental.list_physical_devices('GPU')\n",
    "    if gpus:\n",
    "        for gpu in gpus:\n",
    "            # Limitar la memoria GPU al máximo disponible\n",
    "            tf.config.experimental.set_memory_growth(gpu, True)\n",
    "else:\n",
    "    print(\"No se pudo obtener la información de la memoria de la GPU.\")\n"
   ]
  },
  {
   "cell_type": "markdown",
   "metadata": {},
   "source": [
    "Cargar la base de datos, en formato HDF5"
   ]
  },
  {
   "cell_type": "code",
   "execution_count": 17,
   "metadata": {},
   "outputs": [],
   "source": [
    "df = pd.read_hdf('BD_Emotions_Color_V1.h5')"
   ]
  },
  {
   "cell_type": "markdown",
   "metadata": {},
   "source": [
    "Revisión de los datos."
   ]
  },
  {
   "cell_type": "code",
   "execution_count": 18,
   "metadata": {},
   "outputs": [
    {
     "data": {
      "text/html": [
       "<div>\n",
       "<style scoped>\n",
       "    .dataframe tbody tr th:only-of-type {\n",
       "        vertical-align: middle;\n",
       "    }\n",
       "\n",
       "    .dataframe tbody tr th {\n",
       "        vertical-align: top;\n",
       "    }\n",
       "\n",
       "    .dataframe thead th {\n",
       "        text-align: right;\n",
       "    }\n",
       "</style>\n",
       "<table border=\"1\" class=\"dataframe\">\n",
       "  <thead>\n",
       "    <tr style=\"text-align: right;\">\n",
       "      <th></th>\n",
       "      <th>Imagen</th>\n",
       "      <th>Caracteristicas</th>\n",
       "      <th>Rostro</th>\n",
       "      <th>Etiqueta</th>\n",
       "    </tr>\n",
       "  </thead>\n",
       "  <tbody>\n",
       "    <tr>\n",
       "      <th>0</th>\n",
       "      <td>[[[168, 186, 191], [168, 186, 190], [168, 186,...</td>\n",
       "      <td>[[[60, 69], [60, 74], [61, 80], [62, 86], [64,...</td>\n",
       "      <td>[[[24, 27, 34], [24, 25, 27], [32, 33, 35], [2...</td>\n",
       "      <td>focused</td>\n",
       "    </tr>\n",
       "    <tr>\n",
       "      <th>1</th>\n",
       "      <td>[[[155, 169, 169], [155, 169, 169], [156, 170,...</td>\n",
       "      <td>[[[55, 59], [55, 65], [56, 72], [57, 78], [59,...</td>\n",
       "      <td>[[[155, 169, 170], [9, 18, 23], [7, 8, 9], [45...</td>\n",
       "      <td>focused</td>\n",
       "    </tr>\n",
       "    <tr>\n",
       "      <th>2</th>\n",
       "      <td>[[[156, 165, 164], [157, 166, 165], [156, 165,...</td>\n",
       "      <td>[[[56, 74], [56, 81], [58, 88], [59, 96], [61,...</td>\n",
       "      <td>[[[17, 17, 19], [18, 18, 21], [15, 15, 15], [2...</td>\n",
       "      <td>focused</td>\n",
       "    </tr>\n",
       "    <tr>\n",
       "      <th>3</th>\n",
       "      <td>[[[157, 171, 171], [159, 171, 171], [157, 171,...</td>\n",
       "      <td>[[[59, 83], [59, 90], [59, 97], [60, 104], [62...</td>\n",
       "      <td>[[[163, 177, 180], [140, 152, 155], [12, 17, 2...</td>\n",
       "      <td>focused</td>\n",
       "    </tr>\n",
       "    <tr>\n",
       "      <th>4</th>\n",
       "      <td>[[[161, 175, 176], [159, 173, 173], [160, 174,...</td>\n",
       "      <td>[[[50, 66], [50, 73], [50, 80], [51, 87], [53,...</td>\n",
       "      <td>[[[161, 174, 180], [161, 174, 178], [160, 174,...</td>\n",
       "      <td>focused</td>\n",
       "    </tr>\n",
       "  </tbody>\n",
       "</table>\n",
       "</div>"
      ],
      "text/plain": [
       "                                              Imagen  \\\n",
       "0  [[[168, 186, 191], [168, 186, 190], [168, 186,...   \n",
       "1  [[[155, 169, 169], [155, 169, 169], [156, 170,...   \n",
       "2  [[[156, 165, 164], [157, 166, 165], [156, 165,...   \n",
       "3  [[[157, 171, 171], [159, 171, 171], [157, 171,...   \n",
       "4  [[[161, 175, 176], [159, 173, 173], [160, 174,...   \n",
       "\n",
       "                                     Caracteristicas  \\\n",
       "0  [[[60, 69], [60, 74], [61, 80], [62, 86], [64,...   \n",
       "1  [[[55, 59], [55, 65], [56, 72], [57, 78], [59,...   \n",
       "2  [[[56, 74], [56, 81], [58, 88], [59, 96], [61,...   \n",
       "3  [[[59, 83], [59, 90], [59, 97], [60, 104], [62...   \n",
       "4  [[[50, 66], [50, 73], [50, 80], [51, 87], [53,...   \n",
       "\n",
       "                                              Rostro Etiqueta  \n",
       "0  [[[24, 27, 34], [24, 25, 27], [32, 33, 35], [2...  focused  \n",
       "1  [[[155, 169, 170], [9, 18, 23], [7, 8, 9], [45...  focused  \n",
       "2  [[[17, 17, 19], [18, 18, 21], [15, 15, 15], [2...  focused  \n",
       "3  [[[163, 177, 180], [140, 152, 155], [12, 17, 2...  focused  \n",
       "4  [[[161, 174, 180], [161, 174, 178], [160, 174,...  focused  "
      ]
     },
     "execution_count": 18,
     "metadata": {},
     "output_type": "execute_result"
    }
   ],
   "source": [
    "df.head()"
   ]
  },
  {
   "cell_type": "markdown",
   "metadata": {},
   "source": [
    "Retiramos cualquier dato de caracteristicas que pudiera dar un error o que no cumple con las caracteristicas deseadas. Vemos si tiene un formato Standard y ponemos que elimine todas las que no cumplan con ese Standard"
   ]
  },
  {
   "cell_type": "code",
   "execution_count": 19,
   "metadata": {},
   "outputs": [
    {
     "name": "stdout",
     "output_type": "stream",
     "text": [
      "(1, 72, 2)\n",
      "(1, 72, 2)\n",
      "(1, 72, 2)\n",
      "(1, 72, 2)\n",
      "(1, 72, 2)\n",
      "(1, 72, 2)\n",
      "(1, 72, 2)\n",
      "(1, 72, 2)\n",
      "(1, 72, 2)\n",
      "(1, 72, 2)\n",
      "(1, 72, 2)\n",
      "(1, 72, 2)\n"
     ]
    }
   ],
   "source": [
    "for i in range(0,12):\n",
    "    print(df['Caracteristicas'][i].shape)"
   ]
  },
  {
   "cell_type": "code",
   "execution_count": 20,
   "metadata": {},
   "outputs": [
    {
     "name": "stdout",
     "output_type": "stream",
     "text": [
      "(5037, 1, 72, 2)\n"
     ]
    }
   ],
   "source": [
    "# Crear una nueva columna para almacenar solo los registros que cumplan con la forma deseada\n",
    "df['Caracteristicas válidos'] = df['Caracteristicas'].apply(lambda x: x if np.array(x).shape == (1, 72, 2) else None)\n",
    "\n",
    "# Eliminar los registros que no cumplen con la forma deseada\n",
    "df = df.dropna(subset=['Caracteristicas válidos'])\n",
    "\n",
    "# Convertir la columna 'Hitos faciales válidos' en un array NumPy\n",
    "puntos = np.array(df['Caracteristicas válidos'].tolist())\n",
    "\n",
    "# Verificar la forma de X\n",
    "print(puntos.shape)"
   ]
  },
  {
   "cell_type": "markdown",
   "metadata": {},
   "source": [
    "Pasamos las etiquetas a forma numerica, con lo cual caen en categorías numericas."
   ]
  },
  {
   "cell_type": "code",
   "execution_count": 21,
   "metadata": {},
   "outputs": [],
   "source": [
    "label_encoder = LabelEncoder()\n",
    "y = label_encoder.fit_transform(df['Etiqueta'])"
   ]
  },
  {
   "cell_type": "code",
   "execution_count": 22,
   "metadata": {},
   "outputs": [
    {
     "name": "stdout",
     "output_type": "stream",
     "text": [
      "[3 3 3 ... 0 0 0]\n"
     ]
    }
   ],
   "source": [
    "print(y)"
   ]
  },
  {
   "cell_type": "markdown",
   "metadata": {},
   "source": [
    "Verificación de los datos anteriores, donde vemos la forma de la categoría"
   ]
  },
  {
   "cell_type": "code",
   "execution_count": 23,
   "metadata": {},
   "outputs": [
    {
     "name": "stdout",
     "output_type": "stream",
     "text": [
      "Clases originales: ['focused' 'relaxed' 'excited' 'engaged' 'interested' 'bored']\n",
      "Clases codificadas: ['bored' 'engaged' 'excited' 'focused' 'interested' 'relaxed']\n"
     ]
    }
   ],
   "source": [
    "print(\"Clases originales:\", df['Etiqueta'].unique())\n",
    "print(\"Clases codificadas:\", label_encoder.classes_)\n"
   ]
  },
  {
   "cell_type": "markdown",
   "metadata": {},
   "source": [
    "Dividimos los datos para entrenar y para verificar la red MLP"
   ]
  },
  {
   "cell_type": "code",
   "execution_count": 24,
   "metadata": {},
   "outputs": [],
   "source": [
    "X_train, X_test, y_train, y_test = train_test_split(puntos, y, test_size=0.3, random_state=42)"
   ]
  },
  {
   "cell_type": "markdown",
   "metadata": {},
   "source": [
    "Creacion del modelo, la cantidad de capas es alta para intentar conseguir un accuracy alto, pero como los datos no son proporcionales la complejidad juega en su contra, por lo que ponerle menos capas ayuda a que tenga más accuracy"
   ]
  },
  {
   "cell_type": "code",
   "execution_count": 25,
   "metadata": {},
   "outputs": [],
   "source": [
    "# Definir la entrada del modelo\n",
    "inputs = Input(shape=(1, 72, 2))\n",
    "\n",
    "# Aplanar los datos de entrada\n",
    "flatten = Flatten()(inputs)\n",
    "\n",
    "# Capas densas\n",
    "\n",
    "dense1 = Dense(500, activation='relu')(flatten)\n",
    "dense2 = Dense(450, activation='relu')(dense1)\n",
    "dense3 = Dense(400, activation='relu')(dense2)\n",
    "\n",
    "\n",
    "# Capa de salida\n",
    "outputs = Dense(len(label_encoder.classes_), activation='softmax')(dense3)\n",
    "\n",
    "model = Model(inputs=inputs, outputs=outputs)\n",
    "\n",
    "model.compile(optimizer='adam', loss='sparse_categorical_crossentropy', metrics=['accuracy'])\n"
   ]
  },
  {
   "cell_type": "code",
   "execution_count": 31,
   "metadata": {},
   "outputs": [],
   "source": [
    "# Definir Early Stopping\n",
    "early_stopping = EarlyStopping(monitor='val_loss', patience=30, restore_best_weights=True)"
   ]
  },
  {
   "cell_type": "markdown",
   "metadata": {},
   "source": [
    "Entrenamos el modelo."
   ]
  },
  {
   "cell_type": "code",
   "execution_count": 32,
   "metadata": {},
   "outputs": [
    {
     "name": "stdout",
     "output_type": "stream",
     "text": [
      "Epoch 1/100\n",
      "100/100 [==============================] - 0s 3ms/step - loss: 1.3022 - accuracy: 0.4057 - val_loss: 1.2841 - val_accuracy: 0.4164\n",
      "Epoch 2/100\n",
      "100/100 [==============================] - 0s 3ms/step - loss: 1.3064 - accuracy: 0.4035 - val_loss: 1.3235 - val_accuracy: 0.3598\n",
      "Epoch 3/100\n",
      "100/100 [==============================] - 0s 3ms/step - loss: 1.2959 - accuracy: 0.3963 - val_loss: 1.2620 - val_accuracy: 0.4136\n",
      "Epoch 4/100\n",
      "100/100 [==============================] - 0s 3ms/step - loss: 1.2895 - accuracy: 0.3919 - val_loss: 1.2938 - val_accuracy: 0.3513\n",
      "Epoch 5/100\n",
      "100/100 [==============================] - 0s 3ms/step - loss: 1.2779 - accuracy: 0.4114 - val_loss: 1.2892 - val_accuracy: 0.4136\n",
      "Epoch 6/100\n",
      "100/100 [==============================] - 0s 3ms/step - loss: 1.3011 - accuracy: 0.4083 - val_loss: 1.3110 - val_accuracy: 0.3711\n",
      "Epoch 7/100\n",
      "100/100 [==============================] - 0s 3ms/step - loss: 1.2986 - accuracy: 0.3972 - val_loss: 1.2979 - val_accuracy: 0.3456\n",
      "Epoch 8/100\n",
      "100/100 [==============================] - 0s 3ms/step - loss: 1.2779 - accuracy: 0.4051 - val_loss: 1.3527 - val_accuracy: 0.3824\n",
      "Epoch 9/100\n",
      "100/100 [==============================] - 0s 3ms/step - loss: 1.2896 - accuracy: 0.4042 - val_loss: 1.2770 - val_accuracy: 0.4476\n",
      "Epoch 10/100\n",
      "100/100 [==============================] - 0s 3ms/step - loss: 1.2647 - accuracy: 0.4092 - val_loss: 1.2662 - val_accuracy: 0.4504\n",
      "Epoch 11/100\n",
      "100/100 [==============================] - 0s 3ms/step - loss: 1.2729 - accuracy: 0.4177 - val_loss: 1.2908 - val_accuracy: 0.3739\n",
      "Epoch 12/100\n",
      "100/100 [==============================] - 0s 3ms/step - loss: 1.2688 - accuracy: 0.4117 - val_loss: 1.2520 - val_accuracy: 0.4334\n",
      "Epoch 13/100\n",
      "100/100 [==============================] - 0s 3ms/step - loss: 1.2704 - accuracy: 0.4183 - val_loss: 1.2502 - val_accuracy: 0.4363\n",
      "Epoch 14/100\n",
      "100/100 [==============================] - 0s 3ms/step - loss: 1.2634 - accuracy: 0.4300 - val_loss: 1.2549 - val_accuracy: 0.4589\n",
      "Epoch 15/100\n",
      "100/100 [==============================] - 0s 3ms/step - loss: 1.2546 - accuracy: 0.4351 - val_loss: 1.2510 - val_accuracy: 0.4363\n",
      "Epoch 16/100\n",
      "100/100 [==============================] - 0s 3ms/step - loss: 1.2466 - accuracy: 0.4379 - val_loss: 1.2476 - val_accuracy: 0.4278\n",
      "Epoch 17/100\n",
      "100/100 [==============================] - 0s 3ms/step - loss: 1.2434 - accuracy: 0.4407 - val_loss: 1.2487 - val_accuracy: 0.4249\n",
      "Epoch 18/100\n",
      "100/100 [==============================] - 0s 3ms/step - loss: 1.2323 - accuracy: 0.4533 - val_loss: 1.2352 - val_accuracy: 0.4334\n",
      "Epoch 19/100\n",
      "100/100 [==============================] - 0s 3ms/step - loss: 1.2559 - accuracy: 0.4328 - val_loss: 1.2928 - val_accuracy: 0.4249\n",
      "Epoch 20/100\n",
      "100/100 [==============================] - 0s 3ms/step - loss: 1.2530 - accuracy: 0.4228 - val_loss: 1.3341 - val_accuracy: 0.3456\n",
      "Epoch 21/100\n",
      "100/100 [==============================] - 0s 3ms/step - loss: 1.2531 - accuracy: 0.4366 - val_loss: 1.2482 - val_accuracy: 0.4589\n",
      "Epoch 22/100\n",
      "100/100 [==============================] - 0s 3ms/step - loss: 1.2585 - accuracy: 0.4004 - val_loss: 1.2433 - val_accuracy: 0.4419\n",
      "Epoch 23/100\n",
      "100/100 [==============================] - 0s 3ms/step - loss: 1.2339 - accuracy: 0.4401 - val_loss: 1.2270 - val_accuracy: 0.4391\n",
      "Epoch 24/100\n",
      "100/100 [==============================] - 0s 3ms/step - loss: 1.2298 - accuracy: 0.4593 - val_loss: 1.2918 - val_accuracy: 0.4278\n",
      "Epoch 25/100\n",
      "100/100 [==============================] - 0s 3ms/step - loss: 1.2293 - accuracy: 0.4555 - val_loss: 1.2565 - val_accuracy: 0.4476\n",
      "Epoch 26/100\n",
      "100/100 [==============================] - 0s 3ms/step - loss: 1.2568 - accuracy: 0.4303 - val_loss: 1.3170 - val_accuracy: 0.4164\n",
      "Epoch 27/100\n",
      "100/100 [==============================] - 0s 3ms/step - loss: 1.2333 - accuracy: 0.4451 - val_loss: 1.3170 - val_accuracy: 0.4051\n",
      "Epoch 28/100\n",
      "100/100 [==============================] - 0s 3ms/step - loss: 1.2467 - accuracy: 0.4369 - val_loss: 1.2324 - val_accuracy: 0.4476\n",
      "Epoch 29/100\n",
      "100/100 [==============================] - 0s 3ms/step - loss: 1.2215 - accuracy: 0.4477 - val_loss: 1.2471 - val_accuracy: 0.3881\n",
      "Epoch 30/100\n",
      "100/100 [==============================] - 0s 3ms/step - loss: 1.2320 - accuracy: 0.4464 - val_loss: 1.2747 - val_accuracy: 0.4448\n",
      "Epoch 31/100\n",
      "100/100 [==============================] - 0s 3ms/step - loss: 1.2426 - accuracy: 0.4436 - val_loss: 1.3026 - val_accuracy: 0.4249\n",
      "Epoch 32/100\n",
      "100/100 [==============================] - 0s 3ms/step - loss: 1.2213 - accuracy: 0.4492 - val_loss: 1.1959 - val_accuracy: 0.4788\n",
      "Epoch 33/100\n",
      "100/100 [==============================] - 0s 3ms/step - loss: 1.2117 - accuracy: 0.4590 - val_loss: 1.2138 - val_accuracy: 0.4476\n",
      "Epoch 34/100\n",
      "100/100 [==============================] - 0s 3ms/step - loss: 1.2115 - accuracy: 0.4559 - val_loss: 1.2732 - val_accuracy: 0.3994\n",
      "Epoch 35/100\n",
      "100/100 [==============================] - 0s 3ms/step - loss: 1.2259 - accuracy: 0.4480 - val_loss: 1.2354 - val_accuracy: 0.4533\n",
      "Epoch 36/100\n",
      "100/100 [==============================] - 0s 3ms/step - loss: 1.2146 - accuracy: 0.4537 - val_loss: 1.2227 - val_accuracy: 0.4561\n",
      "Epoch 37/100\n",
      "100/100 [==============================] - 0s 3ms/step - loss: 1.1756 - accuracy: 0.4641 - val_loss: 1.1808 - val_accuracy: 0.4731\n",
      "Epoch 38/100\n",
      "100/100 [==============================] - 0s 3ms/step - loss: 1.2100 - accuracy: 0.4549 - val_loss: 1.1970 - val_accuracy: 0.4533\n",
      "Epoch 39/100\n",
      "100/100 [==============================] - 0s 3ms/step - loss: 1.1870 - accuracy: 0.4625 - val_loss: 1.1971 - val_accuracy: 0.4363\n",
      "Epoch 40/100\n",
      "100/100 [==============================] - 0s 3ms/step - loss: 1.2246 - accuracy: 0.4546 - val_loss: 1.2639 - val_accuracy: 0.4164\n",
      "Epoch 41/100\n",
      "100/100 [==============================] - 0s 3ms/step - loss: 1.2094 - accuracy: 0.4474 - val_loss: 1.2260 - val_accuracy: 0.4419\n",
      "Epoch 42/100\n",
      "100/100 [==============================] - 0s 3ms/step - loss: 1.1971 - accuracy: 0.4619 - val_loss: 1.2184 - val_accuracy: 0.4334\n",
      "Epoch 43/100\n",
      "100/100 [==============================] - 0s 3ms/step - loss: 1.1952 - accuracy: 0.4656 - val_loss: 1.2696 - val_accuracy: 0.4249\n",
      "Epoch 44/100\n",
      "100/100 [==============================] - 0s 3ms/step - loss: 1.1764 - accuracy: 0.4641 - val_loss: 1.1941 - val_accuracy: 0.4618\n",
      "Epoch 45/100\n",
      "100/100 [==============================] - 0s 3ms/step - loss: 1.1746 - accuracy: 0.4748 - val_loss: 1.1941 - val_accuracy: 0.4731\n",
      "Epoch 46/100\n",
      "100/100 [==============================] - 0s 3ms/step - loss: 1.2119 - accuracy: 0.4574 - val_loss: 1.1692 - val_accuracy: 0.4618\n",
      "Epoch 47/100\n",
      "100/100 [==============================] - 0s 3ms/step - loss: 1.1476 - accuracy: 0.4823 - val_loss: 1.3022 - val_accuracy: 0.4193\n",
      "Epoch 48/100\n",
      "100/100 [==============================] - 0s 3ms/step - loss: 1.2818 - accuracy: 0.4395 - val_loss: 1.2494 - val_accuracy: 0.4476\n",
      "Epoch 49/100\n",
      "100/100 [==============================] - 0s 3ms/step - loss: 1.2319 - accuracy: 0.4533 - val_loss: 1.2389 - val_accuracy: 0.4448\n",
      "Epoch 50/100\n",
      "100/100 [==============================] - 0s 3ms/step - loss: 1.2752 - accuracy: 0.4297 - val_loss: 1.2585 - val_accuracy: 0.4136\n",
      "Epoch 51/100\n",
      "100/100 [==============================] - 0s 3ms/step - loss: 1.2472 - accuracy: 0.4417 - val_loss: 1.2737 - val_accuracy: 0.4419\n",
      "Epoch 52/100\n",
      "100/100 [==============================] - 0s 3ms/step - loss: 1.2560 - accuracy: 0.4492 - val_loss: 1.2591 - val_accuracy: 0.4306\n",
      "Epoch 53/100\n",
      "100/100 [==============================] - 0s 3ms/step - loss: 1.2427 - accuracy: 0.4486 - val_loss: 1.2698 - val_accuracy: 0.4278\n",
      "Epoch 54/100\n",
      "100/100 [==============================] - 0s 3ms/step - loss: 1.2437 - accuracy: 0.4429 - val_loss: 1.2843 - val_accuracy: 0.4249\n",
      "Epoch 55/100\n",
      "100/100 [==============================] - 0s 3ms/step - loss: 1.2607 - accuracy: 0.4376 - val_loss: 1.2550 - val_accuracy: 0.4476\n",
      "Epoch 56/100\n",
      "100/100 [==============================] - 0s 3ms/step - loss: 1.2376 - accuracy: 0.4574 - val_loss: 1.2724 - val_accuracy: 0.4249\n",
      "Epoch 57/100\n",
      "100/100 [==============================] - 0s 3ms/step - loss: 1.2395 - accuracy: 0.4505 - val_loss: 1.2406 - val_accuracy: 0.4363\n",
      "Epoch 58/100\n",
      "100/100 [==============================] - 0s 3ms/step - loss: 1.2321 - accuracy: 0.4524 - val_loss: 1.2782 - val_accuracy: 0.4164\n",
      "Epoch 59/100\n",
      "100/100 [==============================] - 0s 3ms/step - loss: 1.2520 - accuracy: 0.4455 - val_loss: 1.2472 - val_accuracy: 0.4476\n",
      "Epoch 60/100\n",
      "100/100 [==============================] - 0s 3ms/step - loss: 1.2360 - accuracy: 0.4401 - val_loss: 1.2586 - val_accuracy: 0.4448\n",
      "Epoch 61/100\n",
      "100/100 [==============================] - 0s 3ms/step - loss: 1.2486 - accuracy: 0.4499 - val_loss: 1.2685 - val_accuracy: 0.4533\n",
      "Epoch 62/100\n",
      "100/100 [==============================] - 0s 3ms/step - loss: 1.2356 - accuracy: 0.4540 - val_loss: 1.2378 - val_accuracy: 0.4448\n",
      "Epoch 63/100\n",
      "100/100 [==============================] - 0s 3ms/step - loss: 1.2254 - accuracy: 0.4549 - val_loss: 1.2130 - val_accuracy: 0.4703\n",
      "Epoch 64/100\n",
      "100/100 [==============================] - 0s 3ms/step - loss: 1.2325 - accuracy: 0.4546 - val_loss: 1.2396 - val_accuracy: 0.4618\n",
      "Epoch 65/100\n",
      "100/100 [==============================] - 0s 3ms/step - loss: 1.2243 - accuracy: 0.4574 - val_loss: 1.2810 - val_accuracy: 0.4079\n",
      "Epoch 66/100\n",
      "100/100 [==============================] - 0s 3ms/step - loss: 1.2423 - accuracy: 0.4593 - val_loss: 1.2569 - val_accuracy: 0.4391\n",
      "Epoch 67/100\n",
      "100/100 [==============================] - 0s 3ms/step - loss: 1.2239 - accuracy: 0.4590 - val_loss: 1.2520 - val_accuracy: 0.4589\n",
      "Epoch 68/100\n",
      "100/100 [==============================] - 0s 3ms/step - loss: 1.2284 - accuracy: 0.4555 - val_loss: 1.3353 - val_accuracy: 0.3966\n",
      "Epoch 69/100\n",
      "100/100 [==============================] - 0s 3ms/step - loss: 1.2285 - accuracy: 0.4505 - val_loss: 1.2225 - val_accuracy: 0.4533\n",
      "Epoch 70/100\n",
      "100/100 [==============================] - 0s 3ms/step - loss: 1.2223 - accuracy: 0.4458 - val_loss: 1.2666 - val_accuracy: 0.4391\n",
      "Epoch 71/100\n",
      "100/100 [==============================] - 0s 3ms/step - loss: 1.2394 - accuracy: 0.4423 - val_loss: 1.2245 - val_accuracy: 0.4448\n",
      "Epoch 72/100\n",
      "100/100 [==============================] - 0s 3ms/step - loss: 1.2166 - accuracy: 0.4565 - val_loss: 1.2699 - val_accuracy: 0.4079\n",
      "Epoch 73/100\n",
      "100/100 [==============================] - 0s 3ms/step - loss: 1.2233 - accuracy: 0.4574 - val_loss: 1.2178 - val_accuracy: 0.4561\n",
      "Epoch 74/100\n",
      "100/100 [==============================] - 0s 3ms/step - loss: 1.2129 - accuracy: 0.4537 - val_loss: 1.1972 - val_accuracy: 0.4618\n",
      "Epoch 75/100\n",
      "100/100 [==============================] - 0s 3ms/step - loss: 1.2349 - accuracy: 0.4489 - val_loss: 1.2474 - val_accuracy: 0.4278\n",
      "Epoch 76/100\n",
      "100/100 [==============================] - 0s 3ms/step - loss: 1.2002 - accuracy: 0.4587 - val_loss: 1.2036 - val_accuracy: 0.4533\n",
      "48/48 [==============================] - 0s 1ms/step - loss: 1.1901 - accuracy: 0.4623\n"
     ]
    }
   ],
   "source": [
    "model.fit(X_train, y_train, epochs=100, batch_size=32, validation_split=0.1, callbacks=[early_stopping])\n",
    "best_loss, best_accuracy = model.evaluate(X_test, y_test)\n",
    "best_model = model"
   ]
  },
  {
   "cell_type": "markdown",
   "metadata": {},
   "source": [
    "Usamos un bucle en el cual de el mejor Accuracy mayor de 50, o el mejor que encuentre después de 6 intentos"
   ]
  },
  {
   "cell_type": "code",
   "execution_count": 33,
   "metadata": {},
   "outputs": [
    {
     "name": "stdout",
     "output_type": "stream",
     "text": [
      "Best Loss: 1.190129041671753, Best Accuracy: 0.4623015820980072\n"
     ]
    }
   ],
   "source": [
    "print(f'Best Loss: {best_loss}, Best Accuracy: {best_accuracy}')"
   ]
  },
  {
   "cell_type": "markdown",
   "metadata": {},
   "source": [
    "Checamos como está distribuido los datos. Esto hay que tenerlo en cuenta, dado que esta base de datos solo servirá para Engaged, Excited o Bored. El resto tendrá problemas grandes en localizarlo"
   ]
  },
  {
   "cell_type": "code",
   "execution_count": 34,
   "metadata": {},
   "outputs": [
    {
     "data": {
      "image/png": "[encoded data removed]",
      "text/plain": [
       "<Figure size 1000x500 with 1 Axes>"
      ]
     },
     "metadata": {},
     "output_type": "display_data"
    }
   ],
   "source": [
    "etiquetas = df.iloc[:, 3]\n",
    "conteo_clases = etiquetas.value_counts()\n",
    "\n",
    "plt.figure(figsize=(10, 5))\n",
    "conteo_clases.plot(kind='bar')\n",
    "plt.title('Distribución de clases')\n",
    "plt.xlabel('Clases')\n",
    "plt.ylabel('Frecuencia')\n",
    "plt.xticks\n",
    "plt.grid(axis='y', linestyle='--', alpha=0.7)\n",
    "plt.tight_layout()\n",
    "plt.show()"
   ]
  },
  {
   "cell_type": "markdown",
   "metadata": {},
   "source": [
    "Guardamos el modelo."
   ]
  },
  {
   "cell_type": "code",
   "execution_count": 35,
   "metadata": {},
   "outputs": [
    {
     "name": "stderr",
     "output_type": "stream",
     "text": [
      "/home/waldos/anaconda3/envs/tf/lib/python3.9/site-packages/keras/src/engine/training.py:3103: UserWarning: You are saving your model as an HDF5 file via `model.save()`. This file format is considered legacy. We recommend using instead the native Keras format, e.g. `model.save('my_model.keras')`.\n",
      "  saving_api.save_model(\n"
     ]
    }
   ],
   "source": [
    "# Guardar el modelo\n",
    "best_model.save('modelo_mlp.h5')"
   ]
  }
 ],
 "metadata": {
  "kernelspec": {
   "display_name": "Python 3",
   "language": "python",
   "name": "python3"
  },
  "language_info": {
   "codemirror_mode": {
    "name": "ipython",
    "version": 3
   },
   "file_extension": ".py",
   "mimetype": "text/x-python",
   "name": "python",
   "nbconvert_exporter": "python",
   "pygments_lexer": "ipython3",
   "version": "3.9.19"
  }
 },
 "nbformat": 4,
 "nbformat_minor": 2
}
