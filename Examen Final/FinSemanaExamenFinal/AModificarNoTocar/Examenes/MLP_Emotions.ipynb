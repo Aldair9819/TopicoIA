{
 "cells": [
  {
   "cell_type": "markdown",
   "metadata": {},
   "source": [
    "Importamos Librerias"
   ]
  },
  {
   "cell_type": "code",
   "execution_count": 52,
   "metadata": {},
   "outputs": [],
   "source": [
    "import pandas as pd\n",
    "import matplotlib.pyplot as plt\n",
    "import numpy as np\n",
    "from sklearn.model_selection import train_test_split\n",
    "from sklearn.preprocessing import LabelEncoder\n",
    "import tensorflow as tf\n",
    "import subprocess\n",
    "from keras.layers import Input, Flatten, Dense\n",
    "from keras.models import Model"
   ]
  },
  {
   "cell_type": "markdown",
   "metadata": {},
   "source": [
    "Usar la VRAM necesaria de la GPU"
   ]
  },
  {
   "cell_type": "code",
   "execution_count": 53,
   "metadata": {},
   "outputs": [
    {
     "name": "stdout",
     "output_type": "stream",
     "text": [
      "Cantidad total de memoria VRAM en la GPU: 6.0 GB\n"
     ]
    }
   ],
   "source": [
    "def get_gpu_memory():\n",
    "    \"\"\"Returns the total memory of the GPU in MB\"\"\"\n",
    "    try:\n",
    "        result = subprocess.check_output(\n",
    "            [\"nvidia-smi\", \"--query-gpu=memory.total\", \"--format=csv,nounits,noheader\"], \n",
    "            encoding='utf-8')\n",
    "        return int(result.strip())\n",
    "    except Exception as e:\n",
    "        print(\"Error al obtener la información de la memoria de la GPU:\", e)\n",
    "        return None\n",
    "\n",
    "# Obtener la cantidad de memoria VRAM disponible en la GPU\n",
    "total_memory_mb = get_gpu_memory()\n",
    "if total_memory_mb is not None:\n",
    "    total_memory_gb = total_memory_mb / 1024\n",
    "    print(\"Cantidad total de memoria VRAM en la GPU:\", total_memory_gb, \"GB\")\n",
    "    \n",
    "    # Configurar TensorFlow para limitar el uso de memoria GPU\n",
    "    gpus = tf.config.experimental.list_physical_devices('GPU')\n",
    "    if gpus:\n",
    "        for gpu in gpus:\n",
    "            # Limitar la memoria GPU al máximo disponible\n",
    "            tf.config.experimental.set_memory_growth(gpu, True)\n",
    "else:\n",
    "    print(\"No se pudo obtener la información de la memoria de la GPU.\")\n"
   ]
  },
  {
   "cell_type": "markdown",
   "metadata": {},
   "source": [
    "Cargar la base de datos, en formato HDF5"
   ]
  },
  {
   "cell_type": "code",
   "execution_count": 54,
   "metadata": {},
   "outputs": [],
   "source": [
    "df = pd.read_hdf('BD_Emotios_240324.h5')"
   ]
  },
  {
   "cell_type": "markdown",
   "metadata": {},
   "source": [
    "Revisión de los datos."
   ]
  },
  {
   "cell_type": "code",
   "execution_count": 55,
   "metadata": {},
   "outputs": [
    {
     "data": {
      "text/html": [
       "<div>\n",
       "<style scoped>\n",
       "    .dataframe tbody tr th:only-of-type {\n",
       "        vertical-align: middle;\n",
       "    }\n",
       "\n",
       "    .dataframe tbody tr th {\n",
       "        vertical-align: top;\n",
       "    }\n",
       "\n",
       "    .dataframe thead th {\n",
       "        text-align: right;\n",
       "    }\n",
       "</style>\n",
       "<table border=\"1\" class=\"dataframe\">\n",
       "  <thead>\n",
       "    <tr style=\"text-align: right;\">\n",
       "      <th></th>\n",
       "      <th>Imagen</th>\n",
       "      <th>Caracteristicas</th>\n",
       "      <th>Rostro</th>\n",
       "      <th>Etiqueta</th>\n",
       "    </tr>\n",
       "  </thead>\n",
       "  <tbody>\n",
       "    <tr>\n",
       "      <th>0</th>\n",
       "      <td>[[[165, 166, 161], [165, 166, 161], [165, 166,...</td>\n",
       "      <td>[[[62, 83], [62, 88], [62, 93], [63, 97], [64,...</td>\n",
       "      <td>[[[160, 162, 161], [160, 162, 161], [160, 162,...</td>\n",
       "      <td>bored</td>\n",
       "    </tr>\n",
       "    <tr>\n",
       "      <th>1</th>\n",
       "      <td>[[[164, 166, 161], [165, 167, 162], [164, 166,...</td>\n",
       "      <td>[[[62, 83], [62, 87], [62, 92], [63, 96], [64,...</td>\n",
       "      <td>[[[160, 162, 160], [161, 162, 161], [160, 161,...</td>\n",
       "      <td>bored</td>\n",
       "    </tr>\n",
       "    <tr>\n",
       "      <th>2</th>\n",
       "      <td>[[[165, 165, 163], [165, 165, 163], [164, 165,...</td>\n",
       "      <td>[[[63, 82], [63, 87], [63, 91], [64, 96], [65,...</td>\n",
       "      <td>[[[159, 161, 158], [160, 162, 159], [161, 162,...</td>\n",
       "      <td>bored</td>\n",
       "    </tr>\n",
       "    <tr>\n",
       "      <th>3</th>\n",
       "      <td>[[[165, 166, 162], [165, 165, 164], [165, 165,...</td>\n",
       "      <td>[[[63, 83], [62, 87], [63, 92], [63, 97], [65,...</td>\n",
       "      <td>[[[159, 161, 158], [161, 163, 160], [155, 157,...</td>\n",
       "      <td>bored</td>\n",
       "    </tr>\n",
       "    <tr>\n",
       "      <th>4</th>\n",
       "      <td>[[[165, 166, 161], [166, 167, 162], [165, 167,...</td>\n",
       "      <td>[[[63, 83], [63, 87], [63, 92], [63, 96], [64,...</td>\n",
       "      <td>[[[160, 162, 160], [161, 163, 161], [152, 154,...</td>\n",
       "      <td>bored</td>\n",
       "    </tr>\n",
       "  </tbody>\n",
       "</table>\n",
       "</div>"
      ],
      "text/plain": [
       "                                              Imagen  \\\n",
       "0  [[[165, 166, 161], [165, 166, 161], [165, 166,...   \n",
       "1  [[[164, 166, 161], [165, 167, 162], [164, 166,...   \n",
       "2  [[[165, 165, 163], [165, 165, 163], [164, 165,...   \n",
       "3  [[[165, 166, 162], [165, 165, 164], [165, 165,...   \n",
       "4  [[[165, 166, 161], [166, 167, 162], [165, 167,...   \n",
       "\n",
       "                                     Caracteristicas  \\\n",
       "0  [[[62, 83], [62, 88], [62, 93], [63, 97], [64,...   \n",
       "1  [[[62, 83], [62, 87], [62, 92], [63, 96], [64,...   \n",
       "2  [[[63, 82], [63, 87], [63, 91], [64, 96], [65,...   \n",
       "3  [[[63, 83], [62, 87], [63, 92], [63, 97], [65,...   \n",
       "4  [[[63, 83], [63, 87], [63, 92], [63, 96], [64,...   \n",
       "\n",
       "                                              Rostro Etiqueta  \n",
       "0  [[[160, 162, 161], [160, 162, 161], [160, 162,...    bored  \n",
       "1  [[[160, 162, 160], [161, 162, 161], [160, 161,...    bored  \n",
       "2  [[[159, 161, 158], [160, 162, 159], [161, 162,...    bored  \n",
       "3  [[[159, 161, 158], [161, 163, 160], [155, 157,...    bored  \n",
       "4  [[[160, 162, 160], [161, 163, 161], [152, 154,...    bored  "
      ]
     },
     "execution_count": 55,
     "metadata": {},
     "output_type": "execute_result"
    }
   ],
   "source": [
    "df.head()"
   ]
  },
  {
   "cell_type": "markdown",
   "metadata": {},
   "source": [
    "Retiramos cualquier dato de caracteristicas que pudiera dar un error o que no cumple con las caracteristicas deseadas. Vemos si tiene un formato Standard y ponemos que elimine todas las que no cumplan con ese Standard"
   ]
  },
  {
   "cell_type": "code",
   "execution_count": 56,
   "metadata": {},
   "outputs": [
    {
     "name": "stdout",
     "output_type": "stream",
     "text": [
      "(1, 72, 2)\n",
      "(1, 72, 2)\n",
      "(1, 72, 2)\n",
      "(1, 72, 2)\n",
      "(1, 72, 2)\n",
      "(1, 72, 2)\n",
      "(1, 72, 2)\n",
      "(1, 72, 2)\n",
      "(1, 72, 2)\n",
      "(1, 72, 2)\n",
      "(1, 72, 2)\n",
      "(1, 72, 2)\n"
     ]
    }
   ],
   "source": [
    "for i in range(0,12):\n",
    "    print(df['Caracteristicas'][i].shape)"
   ]
  },
  {
   "cell_type": "code",
   "execution_count": 57,
   "metadata": {},
   "outputs": [
    {
     "name": "stdout",
     "output_type": "stream",
     "text": [
      "(5035, 1, 72, 2)\n"
     ]
    }
   ],
   "source": [
    "# Crear una nueva columna para almacenar solo los registros que cumplan con la forma deseada\n",
    "df['Caracteristicas válidos'] = df['Caracteristicas'].apply(lambda x: x if np.array(x).shape == (1, 72, 2) else None)\n",
    "\n",
    "# Eliminar los registros que no cumplen con la forma deseada\n",
    "df = df.dropna(subset=['Caracteristicas válidos'])\n",
    "\n",
    "# Convertir la columna 'Hitos faciales válidos' en un array NumPy\n",
    "puntos = np.array(df['Caracteristicas válidos'].tolist())\n",
    "\n",
    "# Verificar la forma de X\n",
    "print(puntos.shape)"
   ]
  },
  {
   "cell_type": "markdown",
   "metadata": {},
   "source": [
    "Pasamos las etiquetas a forma numerica, con lo cual caen en categorías numericas."
   ]
  },
  {
   "cell_type": "code",
   "execution_count": 58,
   "metadata": {},
   "outputs": [],
   "source": [
    "label_encoder = LabelEncoder()\n",
    "y = label_encoder.fit_transform(df['Etiqueta'])"
   ]
  },
  {
   "cell_type": "code",
   "execution_count": 59,
   "metadata": {},
   "outputs": [
    {
     "name": "stdout",
     "output_type": "stream",
     "text": [
      "[0 0 0 ... 5 5 5]\n"
     ]
    }
   ],
   "source": [
    "print(y)"
   ]
  },
  {
   "cell_type": "markdown",
   "metadata": {},
   "source": [
    "Verificación de los datos anteriores, donde vemos la forma de la categoría"
   ]
  },
  {
   "cell_type": "code",
   "execution_count": 60,
   "metadata": {},
   "outputs": [
    {
     "name": "stdout",
     "output_type": "stream",
     "text": [
      "Clases originales: ['bored' 'engaged' 'excited' 'focused' 'interested' 'relaxed']\n",
      "Clases codificadas: ['bored' 'engaged' 'excited' 'focused' 'interested' 'relaxed']\n"
     ]
    }
   ],
   "source": [
    "print(\"Clases originales:\", df['Etiqueta'].unique())\n",
    "print(\"Clases codificadas:\", label_encoder.classes_)\n"
   ]
  },
  {
   "cell_type": "markdown",
   "metadata": {},
   "source": [
    "Dividimos los datos para entrenar y para verificar la red MLP"
   ]
  },
  {
   "cell_type": "code",
   "execution_count": 61,
   "metadata": {},
   "outputs": [],
   "source": [
    "X_train, X_test, y_train, y_test = train_test_split(puntos, y, test_size=0.3, random_state=42)"
   ]
  },
  {
   "cell_type": "markdown",
   "metadata": {},
   "source": [
    "Creacion del modelo, la cantidad de capas es alta para intentar conseguir un accuracy alto, pero como los datos no son proporcionales la complejidad juega en su contra, por lo que ponerle menos capas ayuda a que tenga más accuracy"
   ]
  },
  {
   "cell_type": "code",
   "execution_count": 62,
   "metadata": {},
   "outputs": [],
   "source": [
    "# Definir la entrada del modelo\n",
    "inputs = Input(shape=(1, 72, 2))\n",
    "\n",
    "# Aplanar los datos de entrada\n",
    "flatten = Flatten()(inputs)\n",
    "\n",
    "# Capas densas\n",
    "\n",
    "dense1 = Dense(500, activation='relu')(flatten)\n",
    "dense2 = Dense(450, activation='relu')(dense1)\n",
    "dense3 = Dense(400, activation='relu')(dense2)\n",
    "\n",
    "\n",
    "# Capa de salida\n",
    "outputs = Dense(len(label_encoder.classes_), activation='softmax')(dense3)\n",
    "\n",
    "model = Model(inputs=inputs, outputs=outputs)\n",
    "\n",
    "model.compile(optimizer='adam', loss='sparse_categorical_crossentropy', metrics=['accuracy'])\n"
   ]
  },
  {
   "cell_type": "markdown",
   "metadata": {},
   "source": [
    "Entrenamos el modelo."
   ]
  },
  {
   "cell_type": "code",
   "execution_count": 63,
   "metadata": {},
   "outputs": [
    {
     "name": "stdout",
     "output_type": "stream",
     "text": [
      "Epoch 1/10\n",
      "100/100 [==============================] - 2s 11ms/step - loss: 13.0275 - accuracy: 0.3365 - val_loss: 2.4877 - val_accuracy: 0.1983\n",
      "Epoch 2/10\n",
      "100/100 [==============================] - 1s 7ms/step - loss: 1.3969 - accuracy: 0.4131 - val_loss: 1.3768 - val_accuracy: 0.4051\n",
      "Epoch 3/10\n",
      "100/100 [==============================] - 1s 6ms/step - loss: 1.3645 - accuracy: 0.4068 - val_loss: 1.4445 - val_accuracy: 0.3768\n",
      "Epoch 4/10\n",
      "100/100 [==============================] - 1s 6ms/step - loss: 1.3566 - accuracy: 0.3933 - val_loss: 1.4497 - val_accuracy: 0.3626\n",
      "Epoch 5/10\n",
      "100/100 [==============================] - 1s 6ms/step - loss: 1.3347 - accuracy: 0.4046 - val_loss: 1.3914 - val_accuracy: 0.4136\n",
      "Epoch 6/10\n",
      "100/100 [==============================] - 1s 6ms/step - loss: 1.3068 - accuracy: 0.4169 - val_loss: 1.4816 - val_accuracy: 0.3683\n",
      "Epoch 7/10\n",
      "100/100 [==============================] - 1s 6ms/step - loss: 1.3016 - accuracy: 0.4090 - val_loss: 1.3660 - val_accuracy: 0.3739\n",
      "Epoch 8/10\n",
      "100/100 [==============================] - 1s 6ms/step - loss: 1.2913 - accuracy: 0.4109 - val_loss: 1.4268 - val_accuracy: 0.4221\n",
      "Epoch 9/10\n",
      "100/100 [==============================] - 1s 6ms/step - loss: 1.2953 - accuracy: 0.4074 - val_loss: 1.4175 - val_accuracy: 0.3428\n",
      "Epoch 10/10\n",
      "100/100 [==============================] - 1s 5ms/step - loss: 1.3073 - accuracy: 0.4122 - val_loss: 1.3714 - val_accuracy: 0.4278\n",
      "48/48 [==============================] - 0s 3ms/step - loss: 1.3369 - accuracy: 0.4388\n"
     ]
    }
   ],
   "source": [
    "model.fit(X_train, y_train, epochs=10, batch_size=32, validation_split=0.1)\n",
    "best_loss, best_accuracy = model.evaluate(X_test, y_test)\n",
    "best_model = model"
   ]
  },
  {
   "cell_type": "markdown",
   "metadata": {},
   "source": [
    "Usamos un bucle en el cual de el mejor Accuracy mayor de 50, o el mejor que encuentre después de 6 intentos"
   ]
  },
  {
   "cell_type": "code",
   "execution_count": 64,
   "metadata": {},
   "outputs": [
    {
     "name": "stdout",
     "output_type": "stream",
     "text": [
      "Epoch 1/20\n",
      "100/100 [==============================] - 1s 6ms/step - loss: 1.2868 - accuracy: 0.4245 - val_loss: 1.3840 - val_accuracy: 0.3938\n",
      "Epoch 2/20\n",
      "100/100 [==============================] - 1s 7ms/step - loss: 1.2943 - accuracy: 0.4119 - val_loss: 1.3766 - val_accuracy: 0.3229\n",
      "Epoch 3/20\n",
      "100/100 [==============================] - 1s 6ms/step - loss: 1.2977 - accuracy: 0.4065 - val_loss: 1.4688 - val_accuracy: 0.4079\n",
      "Epoch 4/20\n",
      "100/100 [==============================] - 1s 6ms/step - loss: 1.2902 - accuracy: 0.4115 - val_loss: 1.3849 - val_accuracy: 0.3513\n",
      "Epoch 5/20\n",
      "100/100 [==============================] - 1s 6ms/step - loss: 1.3106 - accuracy: 0.3895 - val_loss: 1.3745 - val_accuracy: 0.3484\n",
      "Epoch 6/20\n",
      "100/100 [==============================] - 1s 7ms/step - loss: 1.2912 - accuracy: 0.4084 - val_loss: 1.5105 - val_accuracy: 0.3399\n",
      "Epoch 7/20\n",
      "100/100 [==============================] - 1s 6ms/step - loss: 1.2926 - accuracy: 0.3914 - val_loss: 1.3773 - val_accuracy: 0.3598\n",
      "Epoch 8/20\n",
      "100/100 [==============================] - 1s 6ms/step - loss: 1.2669 - accuracy: 0.4333 - val_loss: 1.3423 - val_accuracy: 0.3881\n",
      "Epoch 9/20\n",
      "100/100 [==============================] - 1s 6ms/step - loss: 1.2963 - accuracy: 0.4100 - val_loss: 1.3304 - val_accuracy: 0.3994\n",
      "Epoch 10/20\n",
      "100/100 [==============================] - 1s 6ms/step - loss: 1.2825 - accuracy: 0.4156 - val_loss: 1.4220 - val_accuracy: 0.3768\n",
      "Epoch 11/20\n",
      "100/100 [==============================] - 1s 5ms/step - loss: 1.2771 - accuracy: 0.4251 - val_loss: 1.3354 - val_accuracy: 0.3598\n",
      "Epoch 12/20\n",
      "100/100 [==============================] - 1s 6ms/step - loss: 1.2900 - accuracy: 0.4068 - val_loss: 1.4491 - val_accuracy: 0.3428\n",
      "Epoch 13/20\n",
      "100/100 [==============================] - 1s 8ms/step - loss: 1.2777 - accuracy: 0.4125 - val_loss: 1.4149 - val_accuracy: 0.3626\n",
      "Epoch 14/20\n",
      "100/100 [==============================] - 1s 6ms/step - loss: 1.2974 - accuracy: 0.3964 - val_loss: 1.3137 - val_accuracy: 0.4023\n",
      "Epoch 15/20\n",
      "100/100 [==============================] - 1s 8ms/step - loss: 1.2633 - accuracy: 0.4213 - val_loss: 1.3253 - val_accuracy: 0.4108\n",
      "Epoch 16/20\n",
      "100/100 [==============================] - 1s 8ms/step - loss: 1.2876 - accuracy: 0.4062 - val_loss: 1.3461 - val_accuracy: 0.3881\n",
      "Epoch 17/20\n",
      "100/100 [==============================] - 1s 9ms/step - loss: 1.2667 - accuracy: 0.4267 - val_loss: 1.3396 - val_accuracy: 0.3626\n",
      "Epoch 18/20\n",
      "100/100 [==============================] - 1s 9ms/step - loss: 1.2835 - accuracy: 0.4119 - val_loss: 1.4237 - val_accuracy: 0.3711\n",
      "Epoch 19/20\n",
      "100/100 [==============================] - 1s 9ms/step - loss: 1.2756 - accuracy: 0.4011 - val_loss: 1.3234 - val_accuracy: 0.3796\n",
      "Epoch 20/20\n",
      "100/100 [==============================] - 1s 9ms/step - loss: 1.2594 - accuracy: 0.4257 - val_loss: 1.3252 - val_accuracy: 0.4193\n",
      "48/48 [==============================] - 0s 6ms/step - loss: 1.2700 - accuracy: 0.4447\n",
      "Epoch 1/20\n",
      "100/100 [==============================] - 1s 8ms/step - loss: 1.2656 - accuracy: 0.4242 - val_loss: 1.3857 - val_accuracy: 0.3796\n",
      "Epoch 2/20\n",
      "100/100 [==============================] - 1s 6ms/step - loss: 1.2700 - accuracy: 0.4175 - val_loss: 1.4118 - val_accuracy: 0.3484\n",
      "Epoch 3/20\n",
      "100/100 [==============================] - 1s 5ms/step - loss: 1.2696 - accuracy: 0.4213 - val_loss: 1.3026 - val_accuracy: 0.4193\n",
      "Epoch 4/20\n",
      "100/100 [==============================] - 1s 5ms/step - loss: 1.2620 - accuracy: 0.4286 - val_loss: 1.4325 - val_accuracy: 0.4108\n",
      "Epoch 5/20\n",
      "100/100 [==============================] - 1s 5ms/step - loss: 1.2803 - accuracy: 0.4317 - val_loss: 1.3477 - val_accuracy: 0.3683\n",
      "Epoch 6/20\n",
      "100/100 [==============================] - 1s 6ms/step - loss: 1.2678 - accuracy: 0.4279 - val_loss: 1.3705 - val_accuracy: 0.3598\n",
      "Epoch 7/20\n",
      "100/100 [==============================] - 1s 6ms/step - loss: 1.2574 - accuracy: 0.4267 - val_loss: 1.3809 - val_accuracy: 0.3739\n",
      "Epoch 8/20\n",
      "100/100 [==============================] - 1s 5ms/step - loss: 1.2923 - accuracy: 0.4125 - val_loss: 1.3628 - val_accuracy: 0.3853\n",
      "Epoch 9/20\n",
      "100/100 [==============================] - 1s 6ms/step - loss: 1.2727 - accuracy: 0.4049 - val_loss: 1.3456 - val_accuracy: 0.3824\n",
      "Epoch 10/20\n",
      "100/100 [==============================] - 1s 6ms/step - loss: 1.2570 - accuracy: 0.4254 - val_loss: 1.3029 - val_accuracy: 0.4023\n",
      "Epoch 11/20\n",
      "100/100 [==============================] - 1s 5ms/step - loss: 1.2475 - accuracy: 0.4428 - val_loss: 1.3395 - val_accuracy: 0.3683\n",
      "Epoch 12/20\n",
      "100/100 [==============================] - 1s 5ms/step - loss: 1.2498 - accuracy: 0.4472 - val_loss: 1.3403 - val_accuracy: 0.3739\n",
      "Epoch 13/20\n",
      "100/100 [==============================] - 1s 5ms/step - loss: 1.2635 - accuracy: 0.4283 - val_loss: 1.3904 - val_accuracy: 0.3598\n",
      "Epoch 14/20\n",
      "100/100 [==============================] - 1s 6ms/step - loss: 1.2562 - accuracy: 0.4387 - val_loss: 1.3443 - val_accuracy: 0.3569\n",
      "Epoch 15/20\n",
      "100/100 [==============================] - 1s 6ms/step - loss: 1.2427 - accuracy: 0.4529 - val_loss: 1.3145 - val_accuracy: 0.3853\n",
      "Epoch 16/20\n",
      "100/100 [==============================] - 1s 5ms/step - loss: 1.2373 - accuracy: 0.4620 - val_loss: 1.3206 - val_accuracy: 0.3994\n",
      "Epoch 17/20\n",
      "100/100 [==============================] - 1s 5ms/step - loss: 1.2519 - accuracy: 0.4368 - val_loss: 1.2988 - val_accuracy: 0.4278\n",
      "Epoch 18/20\n",
      "100/100 [==============================] - 1s 6ms/step - loss: 1.2410 - accuracy: 0.4443 - val_loss: 1.3973 - val_accuracy: 0.3484\n",
      "Epoch 19/20\n",
      "100/100 [==============================] - 1s 6ms/step - loss: 1.2437 - accuracy: 0.4434 - val_loss: 1.3090 - val_accuracy: 0.4108\n",
      "Epoch 20/20\n",
      "100/100 [==============================] - 1s 5ms/step - loss: 1.2466 - accuracy: 0.4374 - val_loss: 1.4454 - val_accuracy: 0.3229\n",
      "48/48 [==============================] - 0s 3ms/step - loss: 1.3989 - accuracy: 0.3375\n",
      "Epoch 1/20\n",
      "100/100 [==============================] - 1s 6ms/step - loss: 1.2485 - accuracy: 0.4327 - val_loss: 1.2992 - val_accuracy: 0.4136\n",
      "Epoch 2/20\n",
      "100/100 [==============================] - 1s 6ms/step - loss: 1.2489 - accuracy: 0.4377 - val_loss: 1.2777 - val_accuracy: 0.4391\n",
      "Epoch 3/20\n",
      "100/100 [==============================] - 1s 6ms/step - loss: 1.2397 - accuracy: 0.4497 - val_loss: 1.3559 - val_accuracy: 0.4391\n",
      "Epoch 4/20\n",
      "100/100 [==============================] - 1s 6ms/step - loss: 1.2392 - accuracy: 0.4481 - val_loss: 1.3259 - val_accuracy: 0.4278\n",
      "Epoch 5/20\n",
      "100/100 [==============================] - 1s 6ms/step - loss: 1.2252 - accuracy: 0.4529 - val_loss: 1.3025 - val_accuracy: 0.4278\n",
      "Epoch 6/20\n",
      "100/100 [==============================] - 1s 6ms/step - loss: 1.2443 - accuracy: 0.4342 - val_loss: 1.2885 - val_accuracy: 0.4618\n",
      "Epoch 7/20\n",
      "100/100 [==============================] - 1s 5ms/step - loss: 1.2338 - accuracy: 0.4547 - val_loss: 1.3345 - val_accuracy: 0.3824\n",
      "Epoch 8/20\n",
      "100/100 [==============================] - 1s 5ms/step - loss: 1.2198 - accuracy: 0.4595 - val_loss: 1.2900 - val_accuracy: 0.3966\n",
      "Epoch 9/20\n",
      "100/100 [==============================] - 1s 6ms/step - loss: 1.2058 - accuracy: 0.4686 - val_loss: 1.3906 - val_accuracy: 0.3909\n",
      "Epoch 10/20\n",
      "100/100 [==============================] - 1s 5ms/step - loss: 1.2609 - accuracy: 0.4327 - val_loss: 1.3376 - val_accuracy: 0.3966\n",
      "Epoch 11/20\n",
      "100/100 [==============================] - 1s 5ms/step - loss: 1.2128 - accuracy: 0.4623 - val_loss: 1.2770 - val_accuracy: 0.4136\n",
      "Epoch 12/20\n",
      "100/100 [==============================] - 1s 6ms/step - loss: 1.2045 - accuracy: 0.4655 - val_loss: 1.2579 - val_accuracy: 0.4618\n",
      "Epoch 13/20\n",
      "100/100 [==============================] - 1s 5ms/step - loss: 1.2355 - accuracy: 0.4510 - val_loss: 1.2706 - val_accuracy: 0.4306\n",
      "Epoch 14/20\n",
      "100/100 [==============================] - 1s 5ms/step - loss: 1.2081 - accuracy: 0.4595 - val_loss: 1.2647 - val_accuracy: 0.4448\n",
      "Epoch 15/20\n",
      "100/100 [==============================] - 1s 5ms/step - loss: 1.1905 - accuracy: 0.4604 - val_loss: 1.2739 - val_accuracy: 0.4504\n",
      "Epoch 16/20\n",
      "100/100 [==============================] - 1s 6ms/step - loss: 1.1987 - accuracy: 0.4611 - val_loss: 1.2167 - val_accuracy: 0.4589\n",
      "Epoch 17/20\n",
      "100/100 [==============================] - 1s 6ms/step - loss: 1.2211 - accuracy: 0.4529 - val_loss: 1.2778 - val_accuracy: 0.4363\n",
      "Epoch 18/20\n",
      "100/100 [==============================] - 1s 5ms/step - loss: 1.2116 - accuracy: 0.4639 - val_loss: 1.2788 - val_accuracy: 0.4363\n",
      "Epoch 19/20\n",
      "100/100 [==============================] - 1s 5ms/step - loss: 1.1742 - accuracy: 0.4721 - val_loss: 1.2355 - val_accuracy: 0.4306\n",
      "Epoch 20/20\n",
      "100/100 [==============================] - 1s 6ms/step - loss: 1.1909 - accuracy: 0.4655 - val_loss: 1.2097 - val_accuracy: 0.4618\n",
      "48/48 [==============================] - 0s 3ms/step - loss: 1.1805 - accuracy: 0.4818\n",
      "Epoch 1/20\n",
      "100/100 [==============================] - 1s 6ms/step - loss: 1.2119 - accuracy: 0.4711 - val_loss: 1.2507 - val_accuracy: 0.4051\n",
      "Epoch 2/20\n",
      "100/100 [==============================] - 1s 6ms/step - loss: 1.1614 - accuracy: 0.4825 - val_loss: 1.2146 - val_accuracy: 0.4419\n",
      "Epoch 3/20\n",
      "100/100 [==============================] - 1s 6ms/step - loss: 1.1997 - accuracy: 0.4658 - val_loss: 1.2339 - val_accuracy: 0.4504\n",
      "Epoch 4/20\n",
      "100/100 [==============================] - 1s 6ms/step - loss: 1.1687 - accuracy: 0.4746 - val_loss: 1.2693 - val_accuracy: 0.4193\n",
      "Epoch 5/20\n",
      "100/100 [==============================] - 1s 6ms/step - loss: 1.1650 - accuracy: 0.4778 - val_loss: 1.2798 - val_accuracy: 0.4249\n",
      "Epoch 6/20\n",
      "100/100 [==============================] - 1s 5ms/step - loss: 1.1905 - accuracy: 0.4617 - val_loss: 1.2634 - val_accuracy: 0.4504\n",
      "Epoch 7/20\n",
      "100/100 [==============================] - 1s 5ms/step - loss: 1.1500 - accuracy: 0.4891 - val_loss: 1.2294 - val_accuracy: 0.4476\n",
      "Epoch 8/20\n",
      "100/100 [==============================] - 1s 5ms/step - loss: 1.2238 - accuracy: 0.4664 - val_loss: 1.2218 - val_accuracy: 0.4249\n",
      "Epoch 9/20\n",
      "100/100 [==============================] - 1s 5ms/step - loss: 1.1675 - accuracy: 0.4816 - val_loss: 1.2187 - val_accuracy: 0.4618\n",
      "Epoch 10/20\n",
      "100/100 [==============================] - 1s 6ms/step - loss: 1.1671 - accuracy: 0.4768 - val_loss: 1.3312 - val_accuracy: 0.3966\n",
      "Epoch 11/20\n",
      "100/100 [==============================] - 1s 5ms/step - loss: 1.1613 - accuracy: 0.4749 - val_loss: 1.2540 - val_accuracy: 0.4221\n",
      "Epoch 12/20\n",
      "100/100 [==============================] - 1s 5ms/step - loss: 1.1377 - accuracy: 0.4939 - val_loss: 1.2417 - val_accuracy: 0.4533\n",
      "Epoch 13/20\n",
      "100/100 [==============================] - 1s 5ms/step - loss: 1.1497 - accuracy: 0.4825 - val_loss: 1.1754 - val_accuracy: 0.4589\n",
      "Epoch 14/20\n",
      "100/100 [==============================] - 1s 5ms/step - loss: 1.1513 - accuracy: 0.4793 - val_loss: 1.3035 - val_accuracy: 0.4334\n",
      "Epoch 15/20\n",
      "100/100 [==============================] - 1s 6ms/step - loss: 1.1460 - accuracy: 0.4888 - val_loss: 1.2026 - val_accuracy: 0.4703\n",
      "Epoch 16/20\n",
      "100/100 [==============================] - 1s 7ms/step - loss: 1.1233 - accuracy: 0.4957 - val_loss: 1.1511 - val_accuracy: 0.4816\n",
      "Epoch 17/20\n",
      "100/100 [==============================] - 1s 6ms/step - loss: 1.1164 - accuracy: 0.4939 - val_loss: 1.2475 - val_accuracy: 0.4476\n",
      "Epoch 18/20\n",
      "100/100 [==============================] - 1s 6ms/step - loss: 1.1267 - accuracy: 0.4942 - val_loss: 1.1963 - val_accuracy: 0.4306\n",
      "Epoch 19/20\n",
      "100/100 [==============================] - 1s 7ms/step - loss: 1.1062 - accuracy: 0.5008 - val_loss: 1.0963 - val_accuracy: 0.5184\n",
      "Epoch 20/20\n",
      "100/100 [==============================] - 1s 6ms/step - loss: 1.1021 - accuracy: 0.4926 - val_loss: 1.1478 - val_accuracy: 0.4759\n",
      "48/48 [==============================] - 0s 3ms/step - loss: 1.1067 - accuracy: 0.5096\n"
     ]
    }
   ],
   "source": [
    "for i in range(0, 6):\n",
    "    model.fit(X_train, y_train, epochs=20, batch_size=32, validation_split=0.1)\n",
    "    loss, accuracy = model.evaluate(X_test, y_test)\n",
    "    if accuracy > best_accuracy:\n",
    "        best_loss = loss\n",
    "        best_accuracy = accuracy\n",
    "        best_model = model\n",
    "    if best_accuracy > 0.5:\n",
    "        break"
   ]
  },
  {
   "cell_type": "code",
   "execution_count": 65,
   "metadata": {},
   "outputs": [
    {
     "name": "stdout",
     "output_type": "stream",
     "text": [
      "Best Loss: 1.1067402362823486, Best Accuracy: 0.5095962882041931\n"
     ]
    }
   ],
   "source": [
    "print(f'Best Loss: {best_loss}, Best Accuracy: {best_accuracy}')"
   ]
  },
  {
   "cell_type": "markdown",
   "metadata": {},
   "source": [
    "Checamos como está distribuido los datos. Esto hay que tenerlo en cuenta, dado que esta base de datos solo servirá para Engaged, Excited o Bored. El resto tendrá problemas grandes en localizarlo"
   ]
  },
  {
   "cell_type": "code",
   "execution_count": 66,
   "metadata": {},
   "outputs": [
    {
     "data": {
      "image/png": "[encoded data removed]",
      "text/plain": [
       "<Figure size 1000x500 with 1 Axes>"
      ]
     },
     "metadata": {},
     "output_type": "display_data"
    }
   ],
   "source": [
    "etiquetas = df.iloc[:, 3]\n",
    "conteo_clases = etiquetas.value_counts()\n",
    "\n",
    "plt.figure(figsize=(10, 5))\n",
    "conteo_clases.plot(kind='bar')\n",
    "plt.title('Distribución de clases')\n",
    "plt.xlabel('Clases')\n",
    "plt.ylabel('Frecuencia')\n",
    "plt.xticks\n",
    "plt.grid(axis='y', linestyle='--', alpha=0.7)\n",
    "plt.tight_layout()\n",
    "plt.show()"
   ]
  },
  {
   "cell_type": "markdown",
   "metadata": {},
   "source": [
    "Guardamos el modelo."
   ]
  },
  {
   "cell_type": "code",
   "execution_count": 67,
   "metadata": {},
   "outputs": [],
   "source": [
    "# Guardar el modelo\n",
    "best_model.save('modelo_mlp.h5')"
   ]
  }
 ],
 "metadata": {
  "kernelspec": {
   "display_name": "Python 3",
   "language": "python",
   "name": "python3"
  },
  "language_info": {
   "codemirror_mode": {
    "name": "ipython",
    "version": 3
   },
   "file_extension": ".py",
   "mimetype": "text/x-python",
   "name": "python",
   "nbconvert_exporter": "python",
   "pygments_lexer": "ipython3",
   "version": "3.9.18"
  }
 },
 "nbformat": 4,
 "nbformat_minor": 2
}
